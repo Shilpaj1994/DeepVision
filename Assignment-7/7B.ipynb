{
  "nbformat": 4,
  "nbformat_minor": 0,
  "metadata": {
    "colab": {
      "name": "7B.ipynb",
      "version": "0.3.2",
      "provenance": [],
      "collapsed_sections": []
    },
    "kernelspec": {
      "name": "python3",
      "display_name": "Python 3"
    },
    "accelerator": "GPU"
  },
  "cells": [
    {
      "cell_type": "markdown",
      "metadata": {
        "id": "XhYxNwZN0Xhg",
        "colab_type": "text"
      },
      "source": [
        "## Import Modules and Libraries"
      ]
    },
    {
      "cell_type": "code",
      "metadata": {
        "id": "KkwXnw9OfHZl",
        "colab_type": "code",
        "outputId": "5c07948e-f646-4809-de54-f946b65b5c32",
        "colab": {
          "base_uri": "https://localhost:8080/",
          "height": 34
        }
      },
      "source": [
        "from keras import backend as K\n",
        "import time\n",
        "import matplotlib.pyplot as plt\n",
        "import numpy as np\n",
        "% matplotlib inline\n",
        "np.random.seed(2017) \n",
        "from keras.models import Sequential, Model\n",
        "from keras.layers.convolutional import Convolution2D, MaxPooling2D, SeparableConv2D, Conv2D\n",
        "from keras.layers import Activation, Flatten, Dense, Dropout, Input, add, concatenate, Lambda\n",
        "from keras.layers.normalization import BatchNormalization\n",
        "from keras.utils import np_utils\n",
        "\n",
        "import tensorflow as tf"
      ],
      "execution_count": 1,
      "outputs": [
        {
          "output_type": "stream",
          "text": [
            "Using TensorFlow backend.\n"
          ],
          "name": "stderr"
        }
      ]
    },
    {
      "cell_type": "markdown",
      "metadata": {
        "id": "sx_VzSIYsueF",
        "colab_type": "text"
      },
      "source": [
        "## Import CiFAR Dataset\n",
        "- It is a more advance dataset compared to MNIST\n",
        "- It has 10 classes \n",
        "- The dimension of the images are 32x32x3 since it is a RGB image\n",
        "- Shown below are the classses in the CiFAR dataset\n",
        "- Like MNIST, CiFAR also has 50K training images and labels as well as 10K test images and labels"
      ]
    },
    {
      "cell_type": "code",
      "metadata": {
        "id": "NHpnoCHZfO8g",
        "colab_type": "code",
        "outputId": "c6764979-810d-4eaa-9583-9e1445d29c09",
        "colab": {
          "base_uri": "https://localhost:8080/",
          "height": 50
        }
      },
      "source": [
        "from keras.datasets import cifar10\n",
        "(train_features, train_labels), (test_features, test_labels) = cifar10.load_data()\n",
        "num_train, img_channels, img_rows, img_cols =  train_features.shape\n",
        "num_test, _, _, _ =  test_features.shape\n",
        "num_classes = len(np.unique(train_labels))"
      ],
      "execution_count": 2,
      "outputs": [
        {
          "output_type": "stream",
          "text": [
            "Downloading data from https://www.cs.toronto.edu/~kriz/cifar-10-python.tar.gz\n",
            "170500096/170498071 [==============================] - 2s 0us/step\n"
          ],
          "name": "stdout"
        }
      ]
    },
    {
      "cell_type": "markdown",
      "metadata": {
        "id": "CRODk5Tg1gkw",
        "colab_type": "text"
      },
      "source": [
        "## Print training data dimensions"
      ]
    },
    {
      "cell_type": "code",
      "metadata": {
        "id": "BFxBSJeeUcQo",
        "colab_type": "code",
        "outputId": "0392c4e4-5934-4b08-8918-2cd71ff6d1f5",
        "colab": {
          "base_uri": "https://localhost:8080/",
          "height": 84
        }
      },
      "source": [
        "print(train_features.shape)\n",
        "print(train_labels.shape)\n",
        "print(test_features.shape)\n",
        "print(test_labels.shape)"
      ],
      "execution_count": 3,
      "outputs": [
        {
          "output_type": "stream",
          "text": [
            "(50000, 32, 32, 3)\n",
            "(50000, 1)\n",
            "(10000, 32, 32, 3)\n",
            "(10000, 1)\n"
          ],
          "name": "stdout"
        }
      ]
    },
    {
      "cell_type": "markdown",
      "metadata": {
        "id": "unYM-914uF5Q",
        "colab_type": "text"
      },
      "source": [
        "## Displaying a sample from each class of the dataset"
      ]
    },
    {
      "cell_type": "code",
      "metadata": {
        "id": "14HyBUXdfS6G",
        "colab_type": "code",
        "outputId": "8c59b0ad-7dac-4966-ada1-b0d589eb29d4",
        "colab": {
          "base_uri": "https://localhost:8080/",
          "height": 213
        }
      },
      "source": [
        "class_names = ['airplane','automobile','bird','cat','deer',\n",
        "               'dog','frog','horse','ship','truck']\n",
        "fig = plt.figure(figsize=(8,3))\n",
        "for i in range(num_classes):\n",
        "    ax = fig.add_subplot(2, 5, 1 + i, xticks=[], yticks=[])\n",
        "    idx = np.where(train_labels[:]==i)[0]\n",
        "    features_idx = train_features[idx,::]\n",
        "    img_num = np.random.randint(features_idx.shape[0])\n",
        "    im = features_idx[img_num]\n",
        "    ax.set_title(class_names[i])\n",
        "    plt.imshow(im)\n",
        "plt.show()"
      ],
      "execution_count": 4,
      "outputs": [
        {
          "output_type": "display_data",
          "data": {
            "image/png": "[encoded data removed]",
            "text/plain": [
              "<Figure size 576x216 with 10 Axes>"
            ]
          },
          "metadata": {
            "tags": []
          }
        }
      ]
    },
    {
      "cell_type": "markdown",
      "metadata": {
        "id": "9ebR1EcAuNDK",
        "colab_type": "text"
      },
      "source": [
        "## Function for plotting accuracy and loss during model training"
      ]
    },
    {
      "cell_type": "code",
      "metadata": {
        "id": "bmfsk76-fadV",
        "colab_type": "code",
        "colab": {}
      },
      "source": [
        "def plot_model_history(model_history):\n",
        "    fig, axs = plt.subplots(1,2,figsize=(15,5))\n",
        "    # summarize history for accuracy\n",
        "    axs[0].plot(range(1,len(model_history.history['acc'])+1),model_history.history['acc'])\n",
        "    axs[0].plot(range(1,len(model_history.history['val_acc'])+1),model_history.history['val_acc'])\n",
        "    axs[0].set_title('Model Accuracy')\n",
        "    axs[0].set_ylabel('Accuracy')\n",
        "    axs[0].set_xlabel('Epoch')\n",
        "    axs[0].set_xticks(np.arange(1,len(model_history.history['acc'])+1),len(model_history.history['acc'])/10)\n",
        "    axs[0].legend(['train', 'val'], loc='best')\n",
        "    # summarize history for loss\n",
        "    axs[1].plot(range(1,len(model_history.history['loss'])+1),model_history.history['loss'])\n",
        "    axs[1].plot(range(1,len(model_history.history['val_loss'])+1),model_history.history['val_loss'])\n",
        "    axs[1].set_title('Model Loss')\n",
        "    axs[1].set_ylabel('Loss')\n",
        "    axs[1].set_xlabel('Epoch')\n",
        "    axs[1].set_xticks(np.arange(1,len(model_history.history['loss'])+1),len(model_history.history['loss'])/10)\n",
        "    axs[1].legend(['train', 'val'], loc='best')\n",
        "    plt.show()"
      ],
      "execution_count": 0,
      "outputs": []
    },
    {
      "cell_type": "markdown",
      "metadata": {
        "id": "xjIl8rJvxd6L",
        "colab_type": "text"
      },
      "source": [
        "## Accuracy Calculation for a model"
      ]
    },
    {
      "cell_type": "code",
      "metadata": {
        "id": "YJMT4rjgfdZz",
        "colab_type": "code",
        "colab": {}
      },
      "source": [
        "def accuracy(test_x, test_y, model):\n",
        "    result = model.predict(test_x)\n",
        "    predicted_class = np.argmax(result, axis=1)\n",
        "    true_class = np.argmax(test_y, axis=1)\n",
        "    num_correct = np.sum(predicted_class == true_class) \n",
        "    accuracy = float(num_correct)/result.shape[0]\n",
        "    return (accuracy * 100)"
      ],
      "execution_count": 0,
      "outputs": []
    },
    {
      "cell_type": "markdown",
      "metadata": {
        "id": "NSEMO4THxmKG",
        "colab_type": "text"
      },
      "source": [
        "## Data Float Conversion , remapping pixel values between 0 & 1, and One-Hot encoding"
      ]
    },
    {
      "cell_type": "code",
      "metadata": {
        "id": "T5c5nDvxm6zR",
        "colab_type": "code",
        "colab": {}
      },
      "source": [
        "train_features = train_features.astype('float32')/255\n",
        "test_features = test_features.astype('float32')/255\n",
        "# convert class labels to binary class labels\n",
        "train_labels = np_utils.to_categorical(train_labels, num_classes)\n",
        "test_labels = np_utils.to_categorical(test_labels, num_classes)"
      ],
      "execution_count": 0,
      "outputs": []
    },
    {
      "cell_type": "markdown",
      "metadata": {
        "id": "qx2UQ-GHyENN",
        "colab_type": "text"
      },
      "source": [
        "## Model Architecture and Compiling Model\n",
        "- This model is built using functional API and not Sequential model\n",
        "- This model consists of various types of convolutions like Depthwise Separable convolution, Dilated convolution, Spatial Separable convolution, and grouped convolutions\n",
        "\n",
        "- ### Separable Convolution:\n",
        "  \n",
        "  ![](SeparableConv.gif)\n",
        "  - They are extensively used in Inception and Xception networks\n",
        "  - Instead of using 3x3, we use 3x1 and then 1x3 over an image\n",
        "  - This reduces the parameters by around 66%\n",
        "  - The accuracy drop is around 0.2-0.8%\n",
        "  \n",
        "- ### Depthwise Convolution:\n",
        "\n",
        "  ![](depthwise.gif)\n",
        "  - We divide the depth i.e. the channels and convolve witht a kernel on each of the channel\n",
        "  - Then we concaenatet the output and use 1x1 to get the output\n",
        "  - Huge number of parameters are reduced using depthwise convolution\n",
        "  - Accuracy drop is around 0.2-0.6 %\n",
        "  \n",
        "  \n",
        "- ### Dilated Convolution\n",
        "\n",
        "![](dilated.gif)\n",
        "  - It is mostly used for segmentation network\n",
        "  - It increases the receptive field of the network\n",
        "\n",
        "- ### Grouped Convolutions:\n",
        "  \n",
        "  ![](grouped.png)\n",
        "  - Different types of convolutions are used parallely to improve the detection result\n",
        "  - It is useful to detect objects with different sizes in the network\n",
        "  \n",
        "  \n",
        "  ## Architecture\n",
        "  ![](https://2.bp.blogspot.com/-HQo2Kx39Q6A/WsqZQn5pJHI/AAAAAAAAVhY/FBkgOeS06vQNvZN2KI2hhGZmfS1cNPg8wCLcBGAs/s1600/enasdiscoverednetwork.png)"
      ]
    },
    {
      "cell_type": "code",
      "metadata": {
        "id": "IJc9N6K2QYFv",
        "colab_type": "code",
        "colab": {}
      },
      "source": [
        "def space_to_depth_x2(x):\n",
        "    return tf.space_to_depth(x, block_size=2)\n",
        "  \n",
        "def space_to_depth_x4(x):\n",
        "    return tf.space_to_depth(x, block_size=4)"
      ],
      "execution_count": 0,
      "outputs": []
    },
    {
      "cell_type": "code",
      "metadata": {
        "id": "cSOb2lkJfhVq",
        "colab_type": "code",
        "outputId": "bce7828c-4e92-4353-cdae-41f0bd17ca3e",
        "colab": {
          "base_uri": "https://localhost:8080/",
          "height": 356
        }
      },
      "source": [
        "# Defining Model Input\n",
        "input = Input(shape=(32, 32, 3,))\n",
        "\n",
        "# Dropout rate\n",
        "drop = 0.35\n",
        "\n",
        "#******************** Convolution Block - 1 ***************************\n",
        "conv_layer1 = SeparableConv2D(32, 5, 5, border_mode='same', name='conv1')(input)\n",
        "BN_1 = BatchNormalization(name='BN_1')(conv_layer1)\n",
        "Activation_1 = Activation('relu', name='Activation_1')(BN_1)\n",
        "\n",
        "conv_layer2 = Conv2D(32, 5, 5, border_mode='same', name='conv2')(Activation_1) \n",
        "BN_2 = BatchNormalization(name='BN_2')(conv_layer2)\n",
        "Activation_2 = Activation('relu', name='Activation_2')(BN_2)\n",
        "\n",
        "conv_layer3 = Conv2D(32, 5, 5, border_mode='same', name='conv3')(Activation_2) \n",
        "BN_3 = BatchNormalization(name='BN_3')(conv_layer3)\n",
        "Activation_3 = Activation('relu', name='Activation_3')(BN_3)\n",
        "\n",
        "skip_1 = concatenate([Activation_3, Activation_1])\n",
        "conv_layer4 = SeparableConv2D(32, 5, 5, border_mode='same', name='conv4')(skip_1)\n",
        "BN_4 = BatchNormalization(name='BN_4')(conv_layer4)\n",
        "Activation_4 = Activation('relu', name='Activation_4')(BN_4)\n",
        "#**********************************************************************\n",
        "\n",
        "\n",
        "#******************* Transition Block - 1 **************************\n",
        "skip_2 = concatenate([Activation_1, Activation_4])\n",
        "maxpool_1 = MaxPooling2D(2, name='MP1')(skip_2)\n",
        "#*******************************************************************\n",
        "\n",
        "############# Skip connection Layers ####################\n",
        "# For Convolution Block - 2\n",
        "Activation_1_2 = Lambda(space_to_depth_x2)(Activation_1)\n",
        "Activation_2_2 = Lambda(space_to_depth_x2)(Activation_2)\n",
        "Activation_3_2 = Lambda(space_to_depth_x2)(Activation_3)\n",
        "Activation_4_2 = Lambda(space_to_depth_x2)(Activation_4)\n",
        "\n",
        "# For Convolution Block - 3\n",
        "Activation_1_3 = Lambda(space_to_depth_x4)(Activation_1)\n",
        "Activation_2_3 = Lambda(space_to_depth_x4)(Activation_2)\n",
        "Activation_3_3 = Lambda(space_to_depth_x4)(Activation_3)\n",
        "Activation_4_3 = Lambda(space_to_depth_x4)(Activation_4)\n",
        "#########################################################\n",
        "\n",
        "#***************** Convolution Block - 2 ****************************\n",
        "conv_layer5 = SeparableConv2D(32, 3, 3, border_mode='same', name='conv5')(maxpool_1)\n",
        "BN_5 = BatchNormalization(name='BN_5')(conv_layer5)\n",
        "Activation_5 = Activation('relu', name='Activation_5')(BN_5)\n",
        "\n",
        "skip_3 = concatenate([Activation_1_2, Activation_4_2, Activation_5])\n",
        "conv_layer6 = Conv2D(32, 5, 5, border_mode='same', name='conv6')(skip_3)\n",
        "BN_6 = BatchNormalization(name='BN_6')(conv_layer6)\n",
        "Activation_6 = Activation('relu', name='Activation_6')(BN_6)\n",
        "\n",
        "skip_4 = concatenate([Activation_6, Activation_5, Activation_4_2, Activation_3_2])\n",
        "conv_layer7 = SeparableConv2D(32, 3, 3, border_mode='same', name='conv7')(skip_4)\n",
        "BN_7 = BatchNormalization(name='BN_7')(conv_layer7)\n",
        "Activation_7 = Activation('relu', name='Activation_7')(BN_7)\n",
        "\n",
        "skip_5 = concatenate([Activation_7, Activation_6, Activation_5, Activation_4_2, Activation_3_2, Activation_1_2])\n",
        "conv_layer8 = SeparableConv2D(32, 5, 5, border_mode='same', name='conv8')(skip_5)\n",
        "BN_8 = BatchNormalization(name='BN_8')(conv_layer8)\n",
        "Activation_8 = Activation('relu', name='Activation_8')(BN_8)\n",
        "#********************************************************************\n",
        "\n",
        "#***************** Transition Block - 2 *****************************\n",
        "skip_6 = concatenate([Activation_8, Activation_7, Activation_5, Activation_4_2, Activation_1_2])\n",
        "maxpool_2 = MaxPooling2D(2, name='MP2')(skip_6)\n",
        "#********************************************************************\n",
        "\n",
        "############# Skip connection Layers ####################\n",
        "# For Convolution Block - 2\n",
        "Activation_5_3 = Lambda(space_to_depth_x2)(Activation_5)\n",
        "Activation_6_3 = Lambda(space_to_depth_x2)(Activation_6)\n",
        "Activation_7_3 = Lambda(space_to_depth_x2)(Activation_7)\n",
        "Activation_8_3 = Lambda(space_to_depth_x2)(Activation_8)\n",
        "#########################################################\n",
        "\n",
        "\n",
        "#***************** Convolution Block - 3 ****************************\n",
        "skip_7 = concatenate([maxpool_2, Activation_6_3])\n",
        "conv_layer9 = Conv2D(32, 5, 5, border_mode='same', name='conv9')(skip_7) \n",
        "BN_9 = BatchNormalization(name='BN_9')(conv_layer9)\n",
        "Activation_9 = Activation('relu', name='Acticatn_9')(BN_9)\n",
        "\n",
        "skip_8 = concatenate([Activation_9, Activation_4_3, Activation_7_3, Activation_2_3, Activation_1_3])\n",
        "conv_layer10 = SeparableConv2D(32, 5, 5, border_mode='same', name='conv10')(skip_8)\n",
        "BN_10 = BatchNormalization(name='BN_10')(conv_layer10)\n",
        "Activation_10 = Activation('relu', name='Acticatn_10')(BN_10)\n",
        "\n",
        "skip_9 = concatenate([Activation_10, Activation_9, Activation_5_3, Activation_3_3, Activation_2_3])\n",
        "conv_layer11 = Conv2D(32, 3, 3, border_mode='same', name='conv11')(skip_9) \n",
        "BN_11 = BatchNormalization(name='BN_11')(conv_layer11)\n",
        "Activation_11 = Activation('relu', name='Acticatn_11')(BN_11)\n",
        "\n",
        "skip_10 = concatenate([Activation_11, Activation_10, Activation_3_3, Activation_7_3, Activation_4_3, Activation_5_3])\n",
        "conv_layer12 = SeparableConv2D(10, 5, 5, border_mode='same', name='conv12')(skip_10)\n",
        "#***************************************************************************\n",
        "\n",
        "#*********************** Output Layer **************************************\n",
        "skip_11 = concatenate([conv_layer12, Activation_10, Activation_4_3, Activation_7_3])\n",
        "penultimate = Conv2D(10, 8, 8, name='Penultimate')(skip_11)\n",
        "penultimate = Flatten()(penultimate)\n",
        "output = Activation('softmax')(penultimate)\n",
        "#***************************************************************************\n",
        "\n",
        "model = Model(inputs=[input], outputs=[output])\n",
        "\n",
        "# Compile the model\n",
        "model.compile(optimizer='adam', loss='categorical_crossentropy', metrics=['accuracy'])"
      ],
      "execution_count": 9,
      "outputs": [
        {
          "output_type": "stream",
          "text": [
            "WARNING:tensorflow:From /usr/local/lib/python3.6/dist-packages/tensorflow/python/framework/op_def_library.py:263: colocate_with (from tensorflow.python.framework.ops) is deprecated and will be removed in a future version.\n",
            "Instructions for updating:\n",
            "Colocations handled automatically by placer.\n"
          ],
          "name": "stdout"
        },
        {
          "output_type": "stream",
          "text": [
            "/usr/local/lib/python3.6/dist-packages/ipykernel_launcher.py:7: UserWarning: Update your `SeparableConv2D` call to the Keras 2 API: `SeparableConv2D(32, (5, 5), name=\"conv1\", padding=\"same\")`\n",
            "  import sys\n",
            "/usr/local/lib/python3.6/dist-packages/ipykernel_launcher.py:11: UserWarning: Update your `Conv2D` call to the Keras 2 API: `Conv2D(32, (5, 5), name=\"conv2\", padding=\"same\")`\n",
            "  # This is added back by InteractiveShellApp.init_path()\n",
            "/usr/local/lib/python3.6/dist-packages/ipykernel_launcher.py:15: UserWarning: Update your `Conv2D` call to the Keras 2 API: `Conv2D(32, (5, 5), name=\"conv3\", padding=\"same\")`\n",
            "  from ipykernel import kernelapp as app\n",
            "/usr/local/lib/python3.6/dist-packages/ipykernel_launcher.py:20: UserWarning: Update your `SeparableConv2D` call to the Keras 2 API: `SeparableConv2D(32, (5, 5), name=\"conv4\", padding=\"same\")`\n",
            "/usr/local/lib/python3.6/dist-packages/ipykernel_launcher.py:46: UserWarning: Update your `SeparableConv2D` call to the Keras 2 API: `SeparableConv2D(32, (3, 3), name=\"conv5\", padding=\"same\")`\n",
            "/usr/local/lib/python3.6/dist-packages/ipykernel_launcher.py:51: UserWarning: Update your `Conv2D` call to the Keras 2 API: `Conv2D(32, (5, 5), name=\"conv6\", padding=\"same\")`\n",
            "/usr/local/lib/python3.6/dist-packages/ipykernel_launcher.py:56: UserWarning: Update your `SeparableConv2D` call to the Keras 2 API: `SeparableConv2D(32, (3, 3), name=\"conv7\", padding=\"same\")`\n",
            "/usr/local/lib/python3.6/dist-packages/ipykernel_launcher.py:61: UserWarning: Update your `SeparableConv2D` call to the Keras 2 API: `SeparableConv2D(32, (5, 5), name=\"conv8\", padding=\"same\")`\n",
            "/usr/local/lib/python3.6/dist-packages/ipykernel_launcher.py:82: UserWarning: Update your `Conv2D` call to the Keras 2 API: `Conv2D(32, (5, 5), name=\"conv9\", padding=\"same\")`\n",
            "/usr/local/lib/python3.6/dist-packages/ipykernel_launcher.py:87: UserWarning: Update your `SeparableConv2D` call to the Keras 2 API: `SeparableConv2D(32, (5, 5), name=\"conv10\", padding=\"same\")`\n",
            "/usr/local/lib/python3.6/dist-packages/ipykernel_launcher.py:92: UserWarning: Update your `Conv2D` call to the Keras 2 API: `Conv2D(32, (3, 3), name=\"conv11\", padding=\"same\")`\n",
            "/usr/local/lib/python3.6/dist-packages/ipykernel_launcher.py:97: UserWarning: Update your `SeparableConv2D` call to the Keras 2 API: `SeparableConv2D(10, (5, 5), name=\"conv12\", padding=\"same\")`\n",
            "/usr/local/lib/python3.6/dist-packages/ipykernel_launcher.py:102: UserWarning: Update your `Conv2D` call to the Keras 2 API: `Conv2D(10, (8, 8), name=\"Penultimate\")`\n"
          ],
          "name": "stderr"
        }
      ]
    },
    {
      "cell_type": "markdown",
      "metadata": {
        "id": "K2wOtg0wbDl7",
        "colab_type": "text"
      },
      "source": [
        "## Model Summary"
      ]
    },
    {
      "cell_type": "code",
      "metadata": {
        "id": "wvVs5tC8mR6Q",
        "colab_type": "code",
        "outputId": "76e6afa7-e06b-4441-9ec1-6afd8be9b4ea",
        "colab": {
          "base_uri": "https://localhost:8080/",
          "height": 2738
        }
      },
      "source": [
        "model.summary()"
      ],
      "execution_count": 10,
      "outputs": [
        {
          "output_type": "stream",
          "text": [
            "__________________________________________________________________________________________________\n",
            "Layer (type)                    Output Shape         Param #     Connected to                     \n",
            "==================================================================================================\n",
            "input_1 (InputLayer)            (None, 32, 32, 3)    0                                            \n",
            "__________________________________________________________________________________________________\n",
            "conv1 (SeparableConv2D)         (None, 32, 32, 32)   203         input_1[0][0]                    \n",
            "__________________________________________________________________________________________________\n",
            "BN_1 (BatchNormalization)       (None, 32, 32, 32)   128         conv1[0][0]                      \n",
            "__________________________________________________________________________________________________\n",
            "Activation_1 (Activation)       (None, 32, 32, 32)   0           BN_1[0][0]                       \n",
            "__________________________________________________________________________________________________\n",
            "conv2 (Conv2D)                  (None, 32, 32, 32)   25632       Activation_1[0][0]               \n",
            "__________________________________________________________________________________________________\n",
            "BN_2 (BatchNormalization)       (None, 32, 32, 32)   128         conv2[0][0]                      \n",
            "__________________________________________________________________________________________________\n",
            "Activation_2 (Activation)       (None, 32, 32, 32)   0           BN_2[0][0]                       \n",
            "__________________________________________________________________________________________________\n",
            "conv3 (Conv2D)                  (None, 32, 32, 32)   25632       Activation_2[0][0]               \n",
            "__________________________________________________________________________________________________\n",
            "BN_3 (BatchNormalization)       (None, 32, 32, 32)   128         conv3[0][0]                      \n",
            "__________________________________________________________________________________________________\n",
            "Activation_3 (Activation)       (None, 32, 32, 32)   0           BN_3[0][0]                       \n",
            "__________________________________________________________________________________________________\n",
            "concatenate_1 (Concatenate)     (None, 32, 32, 64)   0           Activation_3[0][0]               \n",
            "                                                                 Activation_1[0][0]               \n",
            "__________________________________________________________________________________________________\n",
            "conv4 (SeparableConv2D)         (None, 32, 32, 32)   3680        concatenate_1[0][0]              \n",
            "__________________________________________________________________________________________________\n",
            "BN_4 (BatchNormalization)       (None, 32, 32, 32)   128         conv4[0][0]                      \n",
            "__________________________________________________________________________________________________\n",
            "Activation_4 (Activation)       (None, 32, 32, 32)   0           BN_4[0][0]                       \n",
            "__________________________________________________________________________________________________\n",
            "concatenate_2 (Concatenate)     (None, 32, 32, 64)   0           Activation_1[0][0]               \n",
            "                                                                 Activation_4[0][0]               \n",
            "__________________________________________________________________________________________________\n",
            "MP1 (MaxPooling2D)              (None, 16, 16, 64)   0           concatenate_2[0][0]              \n",
            "__________________________________________________________________________________________________\n",
            "conv5 (SeparableConv2D)         (None, 16, 16, 32)   2656        MP1[0][0]                        \n",
            "__________________________________________________________________________________________________\n",
            "BN_5 (BatchNormalization)       (None, 16, 16, 32)   128         conv5[0][0]                      \n",
            "__________________________________________________________________________________________________\n",
            "lambda_1 (Lambda)               (None, 16, 16, 128)  0           Activation_1[0][0]               \n",
            "__________________________________________________________________________________________________\n",
            "lambda_4 (Lambda)               (None, 16, 16, 128)  0           Activation_4[0][0]               \n",
            "__________________________________________________________________________________________________\n",
            "Activation_5 (Activation)       (None, 16, 16, 32)   0           BN_5[0][0]                       \n",
            "__________________________________________________________________________________________________\n",
            "concatenate_3 (Concatenate)     (None, 16, 16, 288)  0           lambda_1[0][0]                   \n",
            "                                                                 lambda_4[0][0]                   \n",
            "                                                                 Activation_5[0][0]               \n",
            "__________________________________________________________________________________________________\n",
            "conv6 (Conv2D)                  (None, 16, 16, 32)   230432      concatenate_3[0][0]              \n",
            "__________________________________________________________________________________________________\n",
            "BN_6 (BatchNormalization)       (None, 16, 16, 32)   128         conv6[0][0]                      \n",
            "__________________________________________________________________________________________________\n",
            "Activation_6 (Activation)       (None, 16, 16, 32)   0           BN_6[0][0]                       \n",
            "__________________________________________________________________________________________________\n",
            "lambda_3 (Lambda)               (None, 16, 16, 128)  0           Activation_3[0][0]               \n",
            "__________________________________________________________________________________________________\n",
            "concatenate_4 (Concatenate)     (None, 16, 16, 320)  0           Activation_6[0][0]               \n",
            "                                                                 Activation_5[0][0]               \n",
            "                                                                 lambda_4[0][0]                   \n",
            "                                                                 lambda_3[0][0]                   \n",
            "__________________________________________________________________________________________________\n",
            "conv7 (SeparableConv2D)         (None, 16, 16, 32)   13152       concatenate_4[0][0]              \n",
            "__________________________________________________________________________________________________\n",
            "BN_7 (BatchNormalization)       (None, 16, 16, 32)   128         conv7[0][0]                      \n",
            "__________________________________________________________________________________________________\n",
            "Activation_7 (Activation)       (None, 16, 16, 32)   0           BN_7[0][0]                       \n",
            "__________________________________________________________________________________________________\n",
            "concatenate_5 (Concatenate)     (None, 16, 16, 480)  0           Activation_7[0][0]               \n",
            "                                                                 Activation_6[0][0]               \n",
            "                                                                 Activation_5[0][0]               \n",
            "                                                                 lambda_4[0][0]                   \n",
            "                                                                 lambda_3[0][0]                   \n",
            "                                                                 lambda_1[0][0]                   \n",
            "__________________________________________________________________________________________________\n",
            "conv8 (SeparableConv2D)         (None, 16, 16, 32)   27392       concatenate_5[0][0]              \n",
            "__________________________________________________________________________________________________\n",
            "BN_8 (BatchNormalization)       (None, 16, 16, 32)   128         conv8[0][0]                      \n",
            "__________________________________________________________________________________________________\n",
            "Activation_8 (Activation)       (None, 16, 16, 32)   0           BN_8[0][0]                       \n",
            "__________________________________________________________________________________________________\n",
            "concatenate_6 (Concatenate)     (None, 16, 16, 352)  0           Activation_8[0][0]               \n",
            "                                                                 Activation_7[0][0]               \n",
            "                                                                 Activation_5[0][0]               \n",
            "                                                                 lambda_4[0][0]                   \n",
            "                                                                 lambda_1[0][0]                   \n",
            "__________________________________________________________________________________________________\n",
            "MP2 (MaxPooling2D)              (None, 8, 8, 352)    0           concatenate_6[0][0]              \n",
            "__________________________________________________________________________________________________\n",
            "lambda_10 (Lambda)              (None, 8, 8, 128)    0           Activation_6[0][0]               \n",
            "__________________________________________________________________________________________________\n",
            "concatenate_7 (Concatenate)     (None, 8, 8, 480)    0           MP2[0][0]                        \n",
            "                                                                 lambda_10[0][0]                  \n",
            "__________________________________________________________________________________________________\n",
            "conv9 (Conv2D)                  (None, 8, 8, 32)     384032      concatenate_7[0][0]              \n",
            "__________________________________________________________________________________________________\n",
            "BN_9 (BatchNormalization)       (None, 8, 8, 32)     128         conv9[0][0]                      \n",
            "__________________________________________________________________________________________________\n",
            "Acticatn_9 (Activation)         (None, 8, 8, 32)     0           BN_9[0][0]                       \n",
            "__________________________________________________________________________________________________\n",
            "lambda_8 (Lambda)               (None, 8, 8, 512)    0           Activation_4[0][0]               \n",
            "__________________________________________________________________________________________________\n",
            "lambda_11 (Lambda)              (None, 8, 8, 128)    0           Activation_7[0][0]               \n",
            "__________________________________________________________________________________________________\n",
            "lambda_6 (Lambda)               (None, 8, 8, 512)    0           Activation_2[0][0]               \n",
            "__________________________________________________________________________________________________\n",
            "concatenate_8 (Concatenate)     (None, 8, 8, 1184)   0           Acticatn_9[0][0]                 \n",
            "                                                                 lambda_8[0][0]                   \n",
            "                                                                 lambda_11[0][0]                  \n",
            "                                                                 lambda_6[0][0]                   \n",
            "__________________________________________________________________________________________________\n",
            "conv10 (SeparableConv2D)        (None, 8, 8, 32)     67520       concatenate_8[0][0]              \n",
            "__________________________________________________________________________________________________\n",
            "BN_10 (BatchNormalization)      (None, 8, 8, 32)     128         conv10[0][0]                     \n",
            "__________________________________________________________________________________________________\n",
            "Acticatn_10 (Activation)        (None, 8, 8, 32)     0           BN_10[0][0]                      \n",
            "__________________________________________________________________________________________________\n",
            "lambda_9 (Lambda)               (None, 8, 8, 128)    0           Activation_5[0][0]               \n",
            "__________________________________________________________________________________________________\n",
            "lambda_7 (Lambda)               (None, 8, 8, 512)    0           Activation_3[0][0]               \n",
            "__________________________________________________________________________________________________\n",
            "concatenate_9 (Concatenate)     (None, 8, 8, 1216)   0           Acticatn_10[0][0]                \n",
            "                                                                 Acticatn_9[0][0]                 \n",
            "                                                                 lambda_9[0][0]                   \n",
            "                                                                 lambda_7[0][0]                   \n",
            "                                                                 lambda_6[0][0]                   \n",
            "__________________________________________________________________________________________________\n",
            "conv11 (Conv2D)                 (None, 8, 8, 32)     350240      concatenate_9[0][0]              \n",
            "__________________________________________________________________________________________________\n",
            "BN_11 (BatchNormalization)      (None, 8, 8, 32)     128         conv11[0][0]                     \n",
            "__________________________________________________________________________________________________\n",
            "Acticatn_11 (Activation)        (None, 8, 8, 32)     0           BN_11[0][0]                      \n",
            "__________________________________________________________________________________________________\n",
            "lambda_5 (Lambda)               (None, 8, 8, 512)    0           Activation_1[0][0]               \n",
            "__________________________________________________________________________________________________\n",
            "concatenate_10 (Concatenate)    (None, 8, 8, 1856)   0           Acticatn_11[0][0]                \n",
            "                                                                 Acticatn_10[0][0]                \n",
            "                                                                 lambda_7[0][0]                   \n",
            "                                                                 lambda_11[0][0]                  \n",
            "                                                                 lambda_5[0][0]                   \n",
            "                                                                 lambda_8[0][0]                   \n",
            "                                                                 lambda_9[0][0]                   \n",
            "__________________________________________________________________________________________________\n",
            "conv12 (SeparableConv2D)        (None, 8, 8, 10)     64970       concatenate_10[0][0]             \n",
            "__________________________________________________________________________________________________\n",
            "concatenate_11 (Concatenate)    (None, 8, 8, 682)    0           conv12[0][0]                     \n",
            "                                                                 Acticatn_10[0][0]                \n",
            "                                                                 lambda_8[0][0]                   \n",
            "                                                                 lambda_11[0][0]                  \n",
            "__________________________________________________________________________________________________\n",
            "Penultimate (Conv2D)            (None, 1, 1, 10)     436490      concatenate_11[0][0]             \n",
            "__________________________________________________________________________________________________\n",
            "flatten_1 (Flatten)             (None, 10)           0           Penultimate[0][0]                \n",
            "__________________________________________________________________________________________________\n",
            "activation_1 (Activation)       (None, 10)           0           flatten_1[0][0]                  \n",
            "==================================================================================================\n",
            "Total params: 1,633,439\n",
            "Trainable params: 1,632,735\n",
            "Non-trainable params: 704\n",
            "__________________________________________________________________________________________________\n"
          ],
          "name": "stdout"
        }
      ]
    },
    {
      "cell_type": "markdown",
      "metadata": {
        "id": "tXRkzo7GbGKo",
        "colab_type": "text"
      },
      "source": [
        "## Training and tracking progress"
      ]
    },
    {
      "cell_type": "code",
      "metadata": {
        "id": "5oK_V7WyfsXX",
        "colab_type": "code",
        "outputId": "c3647b6d-c259-42e8-f991-6deee4c6a30c",
        "colab": {
          "base_uri": "https://localhost:8080/",
          "height": 3881
        }
      },
      "source": [
        "from keras.preprocessing.image import ImageDataGenerator\n",
        "\n",
        "datagen = ImageDataGenerator(zoom_range=0.0, \n",
        "                             horizontal_flip=False)\n",
        "\n",
        "\n",
        "# train the model\n",
        "start = time.time()\n",
        "# Train the model\n",
        "model_info = model.fit_generator(datagen.flow(train_features, train_labels, batch_size = 512),\n",
        "                                 samples_per_epoch = train_features.shape[0], nb_epoch = 100, \n",
        "                                 validation_data = (test_features, test_labels), verbose=1)\n",
        "end = time.time()\n",
        "print (\"Model took %0.2f seconds to train\"%(end - start))\n",
        "# plot model history\n",
        "plot_model_history(model_info)\n",
        "# compute test accuracy\n",
        "print (\"Accuracy on test data is: %0.2f\"%accuracy(test_features, test_labels, model))"
      ],
      "execution_count": 11,
      "outputs": [
        {
          "output_type": "stream",
          "text": [
            "WARNING:tensorflow:From /usr/local/lib/python3.6/dist-packages/tensorflow/python/ops/math_ops.py:3066: to_int32 (from tensorflow.python.ops.math_ops) is deprecated and will be removed in a future version.\n",
            "Instructions for updating:\n",
            "Use tf.cast instead.\n"
          ],
          "name": "stdout"
        },
        {
          "output_type": "stream",
          "text": [
            "/usr/local/lib/python3.6/dist-packages/ipykernel_launcher.py:12: UserWarning: The semantics of the Keras 2 argument `steps_per_epoch` is not the same as the Keras 1 argument `samples_per_epoch`. `steps_per_epoch` is the number of batches to draw from the generator at each epoch. Basically steps_per_epoch = samples_per_epoch/batch_size. Similarly `nb_val_samples`->`validation_steps` and `val_samples`->`steps` arguments have changed. Update your method calls accordingly.\n",
            "  if sys.path[0] == '':\n",
            "/usr/local/lib/python3.6/dist-packages/ipykernel_launcher.py:12: UserWarning: Update your `fit_generator` call to the Keras 2 API: `fit_generator(<keras_pre..., validation_data=(array([[[..., verbose=1, steps_per_epoch=97, epochs=100)`\n",
            "  if sys.path[0] == '':\n"
          ],
          "name": "stderr"
        },
        {
          "output_type": "stream",
          "text": [
            "Epoch 1/100\n",
            "97/97 [==============================] - 48s 499ms/step - loss: 10.0367 - acc: 0.2707 - val_loss: 9.9505 - val_acc: 0.2995\n",
            "Epoch 2/100\n",
            "97/97 [==============================] - 40s 416ms/step - loss: 9.8764 - acc: 0.3241 - val_loss: 9.8878 - val_acc: 0.3240\n",
            "Epoch 3/100\n",
            "97/97 [==============================] - 38s 393ms/step - loss: 9.8138 - acc: 0.3461 - val_loss: 9.8967 - val_acc: 0.3265\n",
            "Epoch 4/100\n",
            "97/97 [==============================] - 38s 394ms/step - loss: 9.8025 - acc: 0.3582 - val_loss: 9.8676 - val_acc: 0.3339\n",
            "Epoch 5/100\n",
            "97/97 [==============================] - 38s 392ms/step - loss: 9.7329 - acc: 0.3710 - val_loss: 9.9346 - val_acc: 0.3221\n",
            "Epoch 6/100\n",
            "97/97 [==============================] - 38s 393ms/step - loss: 9.7461 - acc: 0.3775 - val_loss: 9.8795 - val_acc: 0.3319\n",
            "Epoch 7/100\n",
            "97/97 [==============================] - 38s 394ms/step - loss: 9.6974 - acc: 0.3877 - val_loss: 9.8412 - val_acc: 0.3467\n",
            "Epoch 8/100\n",
            "97/97 [==============================] - 38s 394ms/step - loss: 9.7052 - acc: 0.3912 - val_loss: 9.9795 - val_acc: 0.3182\n",
            "Epoch 9/100\n",
            "97/97 [==============================] - 38s 394ms/step - loss: 9.7074 - acc: 0.3921 - val_loss: 9.9019 - val_acc: 0.3369\n",
            "Epoch 10/100\n",
            "97/97 [==============================] - 38s 394ms/step - loss: 9.6624 - acc: 0.3984 - val_loss: 9.8703 - val_acc: 0.3443\n",
            "Epoch 11/100\n",
            "97/97 [==============================] - 38s 394ms/step - loss: 9.6929 - acc: 0.3975 - val_loss: 9.8721 - val_acc: 0.3460\n",
            "Epoch 12/100\n",
            "97/97 [==============================] - 38s 394ms/step - loss: 9.6678 - acc: 0.4003 - val_loss: 9.8556 - val_acc: 0.3527\n",
            "Epoch 13/100\n",
            "97/97 [==============================] - 38s 393ms/step - loss: 9.6839 - acc: 0.3993 - val_loss: 9.8446 - val_acc: 0.3555\n",
            "Epoch 14/100\n",
            "97/97 [==============================] - 38s 393ms/step - loss: 9.6838 - acc: 0.3993 - val_loss: 9.8470 - val_acc: 0.3562\n",
            "Epoch 15/100\n",
            "97/97 [==============================] - 38s 393ms/step - loss: 9.6478 - acc: 0.4015 - val_loss: 9.8481 - val_acc: 0.3565\n",
            "Epoch 16/100\n",
            "97/97 [==============================] - 38s 393ms/step - loss: 9.6655 - acc: 0.4004 - val_loss: 9.8503 - val_acc: 0.3576\n",
            "Epoch 17/100\n",
            "97/97 [==============================] - 38s 393ms/step - loss: 9.6990 - acc: 0.3983 - val_loss: 9.8550 - val_acc: 0.3574\n",
            "Epoch 18/100\n",
            "97/97 [==============================] - 38s 394ms/step - loss: 9.6485 - acc: 0.4014 - val_loss: 9.8545 - val_acc: 0.3576\n",
            "Epoch 19/100\n",
            "97/97 [==============================] - 38s 393ms/step - loss: 9.6784 - acc: 0.3995 - val_loss: 9.8582 - val_acc: 0.3578\n",
            "Epoch 20/100\n",
            "97/97 [==============================] - 38s 394ms/step - loss: 9.6828 - acc: 0.3993 - val_loss: 9.8615 - val_acc: 0.3586\n",
            "Epoch 21/100\n",
            "97/97 [==============================] - 38s 393ms/step - loss: 9.6775 - acc: 0.3996 - val_loss: 9.8609 - val_acc: 0.3580\n",
            "Epoch 22/100\n",
            "97/97 [==============================] - 38s 393ms/step - loss: 9.6582 - acc: 0.4008 - val_loss: 9.8662 - val_acc: 0.3576\n",
            "Epoch 23/100\n",
            "97/97 [==============================] - 38s 393ms/step - loss: 9.6794 - acc: 0.3995 - val_loss: 9.8662 - val_acc: 0.3583\n",
            "Epoch 24/100\n",
            "97/97 [==============================] - 38s 393ms/step - loss: 9.6602 - acc: 0.4007 - val_loss: 9.8741 - val_acc: 0.3579\n",
            "Epoch 25/100\n",
            "97/97 [==============================] - 38s 393ms/step - loss: 9.6773 - acc: 0.3996 - val_loss: 9.8811 - val_acc: 0.3583\n",
            "Epoch 26/100\n",
            "97/97 [==============================] - 38s 392ms/step - loss: 9.6581 - acc: 0.4008 - val_loss: 9.8835 - val_acc: 0.3577\n",
            "Epoch 27/100\n",
            "97/97 [==============================] - 38s 392ms/step - loss: 9.6777 - acc: 0.3996 - val_loss: 9.8881 - val_acc: 0.3575\n",
            "Epoch 28/100\n",
            "97/97 [==============================] - 38s 393ms/step - loss: 9.6645 - acc: 0.4004 - val_loss: 9.8980 - val_acc: 0.3564\n",
            "Epoch 29/100\n",
            "97/97 [==============================] - 38s 393ms/step - loss: 9.6277 - acc: 0.4027 - val_loss: 9.8965 - val_acc: 0.3574\n",
            "Epoch 30/100\n",
            "97/97 [==============================] - 38s 393ms/step - loss: 9.6948 - acc: 0.3985 - val_loss: 9.9043 - val_acc: 0.3578\n",
            "Epoch 31/100\n",
            "97/97 [==============================] - 38s 393ms/step - loss: 9.6943 - acc: 0.3985 - val_loss: 9.9139 - val_acc: 0.3565\n",
            "Epoch 32/100\n",
            "97/97 [==============================] - 38s 393ms/step - loss: 9.6904 - acc: 0.3988 - val_loss: 9.9157 - val_acc: 0.3569\n",
            "Epoch 33/100\n",
            "97/97 [==============================] - 38s 393ms/step - loss: 9.6580 - acc: 0.4008 - val_loss: 9.9215 - val_acc: 0.3575\n",
            "Epoch 34/100\n",
            "97/97 [==============================] - 38s 392ms/step - loss: 9.6657 - acc: 0.4003 - val_loss: 9.9279 - val_acc: 0.3580\n",
            "Epoch 35/100\n",
            "97/97 [==============================] - 38s 393ms/step - loss: 9.6559 - acc: 0.4009 - val_loss: 9.9321 - val_acc: 0.3574\n",
            "Epoch 36/100\n",
            "97/97 [==============================] - 38s 393ms/step - loss: 9.6700 - acc: 0.4001 - val_loss: 9.9354 - val_acc: 0.3578\n",
            "Epoch 37/100\n",
            "97/97 [==============================] - 38s 393ms/step - loss: 9.6762 - acc: 0.3997 - val_loss: 9.9412 - val_acc: 0.3578\n",
            "Epoch 38/100\n",
            "97/97 [==============================] - 38s 392ms/step - loss: 9.6546 - acc: 0.4010 - val_loss: 9.9370 - val_acc: 0.3576\n",
            "Epoch 39/100\n",
            "97/97 [==============================] - 38s 393ms/step - loss: 9.7052 - acc: 0.3979 - val_loss: 9.9473 - val_acc: 0.3571\n",
            "Epoch 40/100\n",
            "97/97 [==============================] - 38s 391ms/step - loss: 9.6555 - acc: 0.4010 - val_loss: 9.9506 - val_acc: 0.3579\n",
            "Epoch 41/100\n",
            "97/97 [==============================] - 38s 392ms/step - loss: 9.6911 - acc: 0.3987 - val_loss: 9.9518 - val_acc: 0.3578\n",
            "Epoch 42/100\n",
            "97/97 [==============================] - 38s 392ms/step - loss: 9.6491 - acc: 0.4014 - val_loss: 9.9549 - val_acc: 0.3579\n",
            "Epoch 43/100\n",
            "97/97 [==============================] - 38s 392ms/step - loss: 9.6842 - acc: 0.3992 - val_loss: 9.9582 - val_acc: 0.3575\n",
            "Epoch 44/100\n",
            "97/97 [==============================] - 38s 392ms/step - loss: 9.6819 - acc: 0.3993 - val_loss: 9.9603 - val_acc: 0.3576\n",
            "Epoch 45/100\n",
            "97/97 [==============================] - 38s 393ms/step - loss: 9.6512 - acc: 0.4012 - val_loss: 9.9626 - val_acc: 0.3581\n",
            "Epoch 46/100\n",
            "97/97 [==============================] - 38s 392ms/step - loss: 9.6778 - acc: 0.3996 - val_loss: 9.9612 - val_acc: 0.3577\n",
            "Epoch 47/100\n",
            "97/97 [==============================] - 38s 393ms/step - loss: 9.6687 - acc: 0.4001 - val_loss: 9.9655 - val_acc: 0.3575\n",
            "Epoch 48/100\n",
            "97/97 [==============================] - 38s 392ms/step - loss: 9.6748 - acc: 0.3998 - val_loss: 9.9696 - val_acc: 0.3575\n",
            "Epoch 49/100\n",
            "97/97 [==============================] - 38s 392ms/step - loss: 9.6644 - acc: 0.4004 - val_loss: 9.9714 - val_acc: 0.3583\n",
            "Epoch 50/100\n",
            "97/97 [==============================] - 38s 393ms/step - loss: 9.6880 - acc: 0.3989 - val_loss: 9.9754 - val_acc: 0.3575\n",
            "Epoch 51/100\n",
            "97/97 [==============================] - 38s 392ms/step - loss: 9.6256 - acc: 0.4028 - val_loss: 9.9735 - val_acc: 0.3578\n",
            "Epoch 52/100\n",
            "97/97 [==============================] - 38s 392ms/step - loss: 9.6581 - acc: 0.4008 - val_loss: 9.9750 - val_acc: 0.3575\n",
            "Epoch 53/100\n",
            "97/97 [==============================] - 38s 392ms/step - loss: 9.7065 - acc: 0.3978 - val_loss: 9.9785 - val_acc: 0.3575\n",
            "Epoch 54/100\n",
            "97/97 [==============================] - 38s 392ms/step - loss: 9.6635 - acc: 0.4005 - val_loss: 9.9801 - val_acc: 0.3575\n",
            "Epoch 55/100\n",
            "97/97 [==============================] - 38s 393ms/step - loss: 9.6811 - acc: 0.3994 - val_loss: 9.9811 - val_acc: 0.3577\n",
            "Epoch 56/100\n",
            "97/97 [==============================] - 38s 392ms/step - loss: 9.6747 - acc: 0.3998 - val_loss: 9.9863 - val_acc: 0.3574\n",
            "Epoch 57/100\n",
            "97/97 [==============================] - 38s 392ms/step - loss: 9.6486 - acc: 0.4014 - val_loss: 9.9881 - val_acc: 0.3568\n",
            "Epoch 58/100\n",
            "97/97 [==============================] - 38s 392ms/step - loss: 9.6853 - acc: 0.3991 - val_loss: 9.9872 - val_acc: 0.3571\n",
            "Epoch 59/100\n",
            "97/97 [==============================] - 38s 392ms/step - loss: 9.6707 - acc: 0.4000 - val_loss: 9.9903 - val_acc: 0.3563\n",
            "Epoch 60/100\n",
            "97/97 [==============================] - 38s 392ms/step - loss: 9.6562 - acc: 0.4009 - val_loss: 9.9895 - val_acc: 0.3569\n",
            "Epoch 61/100\n",
            "97/97 [==============================] - 38s 392ms/step - loss: 9.6975 - acc: 0.3983 - val_loss: 9.9920 - val_acc: 0.3565\n",
            "Epoch 62/100\n",
            "97/97 [==============================] - 38s 392ms/step - loss: 9.6392 - acc: 0.4020 - val_loss: 9.9930 - val_acc: 0.3572\n",
            "Epoch 63/100\n",
            "97/97 [==============================] - 38s 392ms/step - loss: 9.6683 - acc: 0.4002 - val_loss: 9.9936 - val_acc: 0.3571\n",
            "Epoch 64/100\n",
            "97/97 [==============================] - 38s 392ms/step - loss: 9.7115 - acc: 0.3975 - val_loss: 9.9966 - val_acc: 0.3568\n",
            "Epoch 65/100\n",
            "97/97 [==============================] - 38s 392ms/step - loss: 9.6671 - acc: 0.4002 - val_loss: 9.9982 - val_acc: 0.3569\n",
            "Epoch 66/100\n",
            "97/97 [==============================] - 38s 392ms/step - loss: 9.6690 - acc: 0.4001 - val_loss: 9.9994 - val_acc: 0.3567\n",
            "Epoch 67/100\n",
            "97/97 [==============================] - 38s 392ms/step - loss: 9.6611 - acc: 0.4006 - val_loss: 9.9991 - val_acc: 0.3568\n",
            "Epoch 68/100\n",
            "97/97 [==============================] - 38s 391ms/step - loss: 9.6666 - acc: 0.4003 - val_loss: 9.9994 - val_acc: 0.3568\n",
            "Epoch 69/100\n",
            "97/97 [==============================] - 38s 392ms/step - loss: 9.7055 - acc: 0.3979 - val_loss: 10.0020 - val_acc: 0.3569\n",
            "Epoch 70/100\n",
            "97/97 [==============================] - 38s 392ms/step - loss: 9.6168 - acc: 0.4034 - val_loss: 10.0031 - val_acc: 0.3568\n",
            "Epoch 71/100\n",
            "97/97 [==============================] - 38s 392ms/step - loss: 9.7009 - acc: 0.3981 - val_loss: 10.0039 - val_acc: 0.3569\n",
            "Epoch 72/100\n",
            "97/97 [==============================] - 38s 392ms/step - loss: 9.6588 - acc: 0.4007 - val_loss: 10.0050 - val_acc: 0.3567\n",
            "Epoch 73/100\n",
            "97/97 [==============================] - 38s 392ms/step - loss: 9.6389 - acc: 0.4020 - val_loss: 10.0055 - val_acc: 0.3571\n",
            "Epoch 74/100\n",
            "97/97 [==============================] - 38s 392ms/step - loss: 9.6711 - acc: 0.4000 - val_loss: 10.0073 - val_acc: 0.3565\n",
            "Epoch 75/100\n",
            "97/97 [==============================] - 38s 392ms/step - loss: 9.6890 - acc: 0.3989 - val_loss: 10.0065 - val_acc: 0.3572\n",
            "Epoch 76/100\n",
            "97/97 [==============================] - 38s 392ms/step - loss: 9.6887 - acc: 0.3989 - val_loss: 10.0102 - val_acc: 0.3572\n",
            "Epoch 77/100\n",
            "97/97 [==============================] - 38s 392ms/step - loss: 9.6541 - acc: 0.4010 - val_loss: 10.0100 - val_acc: 0.3565\n",
            "Epoch 78/100\n",
            "97/97 [==============================] - 38s 392ms/step - loss: 9.6801 - acc: 0.3994 - val_loss: 10.0101 - val_acc: 0.3570\n",
            "Epoch 79/100\n",
            "97/97 [==============================] - 38s 391ms/step - loss: 9.6791 - acc: 0.3995 - val_loss: 10.0124 - val_acc: 0.3570\n",
            "Epoch 80/100\n",
            "97/97 [==============================] - 38s 392ms/step - loss: 9.6561 - acc: 0.4009 - val_loss: 10.0141 - val_acc: 0.3568\n",
            "Epoch 81/100\n",
            "97/97 [==============================] - 38s 392ms/step - loss: 9.6552 - acc: 0.4010 - val_loss: 10.0153 - val_acc: 0.3569\n",
            "Epoch 82/100\n",
            "97/97 [==============================] - 38s 391ms/step - loss: 9.6795 - acc: 0.3995 - val_loss: 10.0148 - val_acc: 0.3570\n",
            "Epoch 83/100\n",
            "97/97 [==============================] - 38s 391ms/step - loss: 9.7140 - acc: 0.3973 - val_loss: 10.0152 - val_acc: 0.3567\n",
            "Epoch 84/100\n",
            "97/97 [==============================] - 38s 392ms/step - loss: 9.6506 - acc: 0.4013 - val_loss: 10.0183 - val_acc: 0.3568\n",
            "Epoch 85/100\n",
            "97/97 [==============================] - 38s 391ms/step - loss: 9.6539 - acc: 0.4011 - val_loss: 10.0192 - val_acc: 0.3568\n",
            "Epoch 86/100\n",
            "97/97 [==============================] - 38s 391ms/step - loss: 9.6740 - acc: 0.3998 - val_loss: 10.0189 - val_acc: 0.3570\n",
            "Epoch 87/100\n",
            "97/97 [==============================] - 38s 391ms/step - loss: 9.6747 - acc: 0.3998 - val_loss: 10.0203 - val_acc: 0.3566\n",
            "Epoch 88/100\n",
            "97/97 [==============================] - 38s 391ms/step - loss: 9.6659 - acc: 0.4003 - val_loss: 10.0206 - val_acc: 0.3573\n",
            "Epoch 89/100\n",
            "97/97 [==============================] - 38s 392ms/step - loss: 9.6688 - acc: 0.4001 - val_loss: 10.0213 - val_acc: 0.3567\n",
            "Epoch 90/100\n",
            "97/97 [==============================] - 38s 392ms/step - loss: 9.6621 - acc: 0.4005 - val_loss: 10.0206 - val_acc: 0.3574\n",
            "Epoch 91/100\n",
            "97/97 [==============================] - 38s 391ms/step - loss: 9.6847 - acc: 0.3991 - val_loss: 10.0236 - val_acc: 0.3567\n",
            "Epoch 92/100\n",
            "97/97 [==============================] - 38s 391ms/step - loss: 9.6680 - acc: 0.4002 - val_loss: 10.0246 - val_acc: 0.3564\n",
            "Epoch 93/100\n",
            "97/97 [==============================] - 38s 392ms/step - loss: 9.6685 - acc: 0.4001 - val_loss: 10.0238 - val_acc: 0.3569\n",
            "Epoch 94/100\n",
            "97/97 [==============================] - 38s 391ms/step - loss: 9.6662 - acc: 0.4003 - val_loss: 10.0262 - val_acc: 0.3569\n",
            "Epoch 95/100\n",
            "97/97 [==============================] - 38s 391ms/step - loss: 9.6870 - acc: 0.3990 - val_loss: 10.0258 - val_acc: 0.3568\n",
            "Epoch 96/100\n",
            "97/97 [==============================] - 38s 391ms/step - loss: 9.6645 - acc: 0.4004 - val_loss: 10.0256 - val_acc: 0.3571\n",
            "Epoch 97/100\n",
            "97/97 [==============================] - 38s 391ms/step - loss: 9.6661 - acc: 0.4003 - val_loss: 10.0270 - val_acc: 0.3569\n",
            "Epoch 98/100\n",
            "97/97 [==============================] - 39s 399ms/step - loss: 9.6743 - acc: 0.3998 - val_loss: 10.0278 - val_acc: 0.3570\n",
            "Epoch 99/100\n",
            "97/97 [==============================] - 38s 392ms/step - loss: 9.6685 - acc: 0.4001 - val_loss: 10.0296 - val_acc: 0.3565\n",
            "Epoch 100/100\n",
            "97/97 [==============================] - 38s 390ms/step - loss: 9.6761 - acc: 0.3997 - val_loss: 10.0287 - val_acc: 0.3571\n",
            "Model took 3821.12 seconds to train\n"
          ],
          "name": "stdout"
        },
        {
          "output_type": "display_data",
          "data": {
            "image/png": "[encoded data removed]",
            "text/plain": [
              "<Figure size 1080x360 with 2 Axes>"
            ]
          },
          "metadata": {
            "tags": []
          }
        },
        {
          "output_type": "stream",
          "text": [
            "Accuracy on test data is: 35.71\n"
          ],
          "name": "stdout"
        }
      ]
    }
  ]
}