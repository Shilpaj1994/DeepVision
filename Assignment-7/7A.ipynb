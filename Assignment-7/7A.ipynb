{
  "nbformat": 4,
  "nbformat_minor": 0,
  "metadata": {
    "colab": {
      "name": "7A.ipynb",
      "version": "0.3.2",
      "provenance": [],
      "collapsed_sections": []
    },
    "kernelspec": {
      "name": "python3",
      "display_name": "Python 3"
    }
  },
  "cells": [
    {
      "cell_type": "markdown",
      "metadata": {
        "id": "oonxy8mShmyL",
        "colab_type": "text"
      },
      "source": [
        "## GoogleLeNet Architecture (Inception Network)\n",
        "\n",
        "![](https://cdn-images-1.medium.com/max/2600/1*ZFPOSAted10TPd3hBQU8iQ.png)"
      ]
    },
    {
      "cell_type": "markdown",
      "metadata": {
        "id": "BEtrRBpbh0ei",
        "colab_type": "text"
      },
      "source": [
        "## Receptive Field Calculations\n",
        "\n",
        "![](https://github.com/Shilpaj1994/DeepVision/blob/master/Assignment-7/GooglLeNet.JPG?raw=true)\n",
        "\n",
        "\n",
        "### Formulae \n",
        "![](https://i0.wp.com/syncedreview.com/wp-content/uploads/2017/05/32.png?resize=372%2C171&ssl=1)\n"
      ]
    },
    {
      "cell_type": "markdown",
      "metadata": {
        "id": "c4mB9DSZit09",
        "colab_type": "text"
      },
      "source": [
        "\n",
        "\n",
        "| Layer | Kernel | Strides | Input RF | Output RF | Jin | Jout |\n",
        "| --------- | ---------- | ----------- | -------------  | ---------------- | -----  | ------- |\n",
        "| Conv  |  7x7    |  2          |   1x1        |   7x7          |   1     |   2     |\n",
        "| MP     | 3x3     |  2          |   7x7        |   11xx11    |   2    |    4    |\n",
        "| Conv  |  1x1    |  1          |   11x11   |    11x11     |  4      |   4     |\n",
        "| Conv  |  3x3    |  1          |   11x11   |  19x19       |  4     |   4     |\n",
        "| MP     | 3x3     |  2          |  19x19    |   27x27      |   4    |   8     |\n",
        "| Conv  |  1x1    |  1          |   27x27   |   27x27      |   8    |   8     |\n",
        "| Conv  |  5x5    |  1          |   27x27   |   59x59      |  8     |   8     |\n",
        "| Conv  |  1x1    |  1          |    59x59   |   59x59      |   8    |   8     |\n",
        "| Conv  |  5x5    |  1          |    59x59   |   91x91      |  8     |   8     |\n",
        "| MP     | 3x3     |  2          |  91x91    | 107x107   |  8     |  16    |\n",
        "| Conv  |  1x1    |  1          | 107x107| 107x107    | 16   |  16    |\n",
        "| Conv  |  5x5    |  1          |  107x107| 171x171    |  16   |  16   |\n",
        "| --------- | ---------- | ----------- |  -------------  | ---------------- | -----  | ------- |\n",
        "| Exit1-AvgPool     | 5x5     |  3  | 171x171 | 235x235    |  16   |  48   |\n",
        "| Conv  |  1x1    |  1          | 235x235  | 235x235   | 48    |  48   |\n",
        "| --------- | ---------- |  -------------  | ---------------- | -----  | ------- | --------- |\n",
        "| Conv  |  1x1    |  1          |  171x171 | 171x171    | 16   |  16    |\n",
        "| Conv  |  5x5    |  1          |  171x171 | 235x235    |  16  |  16    |\n",
        "| Conv  |  1x1    |  1          |  235x235 | 235x235    |  16  |  16    |\n",
        "| Conv  |  5x5    |  1          |  235x235 | 299x299    |  16   |  16   |\n",
        "| Conv  |  1x1    |  1          |   299x299 | 299x299    |  16  |  16    |\n",
        "| Conv  |  5x5    |  1          |   299x299 | 363x363    |  16   |  16   |\n",
        "| --------- | ---------- | ----------- | -------------  | ---------------- | -----  | ------- |\n",
        "| Exit2-AvgPool     | 5x5     |  3   |  363x363 |  427x427   |  16   |  48   |\n",
        "| Conv  |  1x1    |  1          |   427x427 | 427x427    | 48    |  48   |\n",
        "| --------- | ---------- |  ---------------- | -----  | -------  |-----  | ------- |\n",
        "| Conv  |  1x1    |  1          |  363x363 | 363x363    |  16   |  16   |\n",
        "| Conv  |  5x5    |  1          |  363x363 | 427x427    |  16   |  16   |\n",
        "| MP     | 3x3     |  2          |   427x427 | 459x459    |  16   |  32   |\n",
        "| Conv  |  1x1    |  1          |   459x459 | 459x459    |  32   |  32   |\n",
        "| Conv  |  5x5    |  1          |  459x459 | 587x587    |  32   |  32   |\n",
        "| Conv  |  1x1    |  1          |  587x587 | 587x587    |  32   |  32   |\n",
        "| Conv  |  5x5    |  1          |  587x587 | 715x715    |  32   |  32   |\n",
        "| Exit-Conv  |  7x7    |  1          |  715x715 | 907x907    |  32   |  32   |\n",
        "\n",
        "---\n"
      ]
    },
    {
      "cell_type": "markdown",
      "metadata": {
        "id": "Qksucbmb7bxf",
        "colab_type": "text"
      },
      "source": [
        "![](Network.JPG)"
      ]
    }
  ]
}