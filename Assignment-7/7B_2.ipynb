{
  "nbformat": 4,
  "nbformat_minor": 0,
  "metadata": {
    "colab": {
      "name": "7B_2.ipynb",
      "version": "0.3.2",
      "provenance": [],
      "collapsed_sections": []
    },
    "kernelspec": {
      "name": "python3",
      "display_name": "Python 3"
    },
    "accelerator": "GPU"
  },
  "cells": [
    {
      "cell_type": "markdown",
      "metadata": {
        "id": "Zo3m9ZlloiI8",
        "colab_type": "text"
      },
      "source": [
        "### Import Modules and Libraries"
      ]
    },
    {
      "cell_type": "code",
      "metadata": {
        "id": "KkwXnw9OfHZl",
        "colab_type": "code",
        "colab": {
          "base_uri": "https://localhost:8080/",
          "height": 34
        },
        "outputId": "01c37596-b2bc-4082-dcd2-bea6dbfed0ea"
      },
      "source": [
        "from keras import backend as K\n",
        "import time\n",
        "import matplotlib.pyplot as plt\n",
        "import numpy as np\n",
        "% matplotlib inline\n",
        "np.random.seed(2017) \n",
        "from keras.models import Sequential, Model\n",
        "from keras.layers.convolutional import Convolution2D, MaxPooling2D, Conv2D, SeparableConv2D \n",
        "from keras.layers import Activation, Flatten, Dense, Dropout, concatenate, Lambda, Input\n",
        "from keras.layers.normalization import BatchNormalization\n",
        "from keras.utils import np_utils\n",
        "\n",
        "import tensorflow as tf"
      ],
      "execution_count": 1,
      "outputs": [
        {
          "output_type": "stream",
          "text": [
            "Using TensorFlow backend.\n"
          ],
          "name": "stderr"
        }
      ]
    },
    {
      "cell_type": "markdown",
      "metadata": {
        "id": "2pgCVlCJonA4",
        "colab_type": "text"
      },
      "source": [
        "## Import CiFAR Dataset\n",
        "- It is a more advance dataset compared to MNIST\n",
        "- It has 10 classes \n",
        "- The dimension of the images are 32x32x3 since it is a RGB image\n",
        "- Shown below are the classses in the CiFAR dataset\n",
        "- Like MNIST, CiFAR also has 50K training images and labels as well as 10K test images and labels"
      ]
    },
    {
      "cell_type": "code",
      "metadata": {
        "id": "NHpnoCHZfO8g",
        "colab_type": "code",
        "colab": {
          "base_uri": "https://localhost:8080/",
          "height": 50
        },
        "outputId": "f78835a3-bfab-4275-e8df-d97b44854809"
      },
      "source": [
        "from keras.datasets import cifar10\n",
        "(train_features, train_labels), (test_features, test_labels) = cifar10.load_data()\n",
        "num_train, img_channels, img_rows, img_cols =  train_features.shape\n",
        "num_test, _, _, _ =  test_features.shape\n",
        "num_classes = len(np.unique(train_labels))"
      ],
      "execution_count": 2,
      "outputs": [
        {
          "output_type": "stream",
          "text": [
            "Downloading data from https://www.cs.toronto.edu/~kriz/cifar-10-python.tar.gz\n",
            "170500096/170498071 [==============================] - 2s 0us/step\n"
          ],
          "name": "stdout"
        }
      ]
    },
    {
      "cell_type": "code",
      "metadata": {
        "id": "BFxBSJeeUcQo",
        "colab_type": "code",
        "outputId": "4faf1d34-3210-4064-bb07-74356466fb11",
        "colab": {
          "base_uri": "https://localhost:8080/",
          "height": 34
        }
      },
      "source": [
        "print(train_features.shape)"
      ],
      "execution_count": 3,
      "outputs": [
        {
          "output_type": "stream",
          "text": [
            "(50000, 32, 32, 3)\n"
          ],
          "name": "stdout"
        }
      ]
    },
    {
      "cell_type": "markdown",
      "metadata": {
        "id": "9OtwV5x-oseo",
        "colab_type": "text"
      },
      "source": [
        "### Display Data Samples of each class"
      ]
    },
    {
      "cell_type": "code",
      "metadata": {
        "id": "14HyBUXdfS6G",
        "colab_type": "code",
        "outputId": "66e20f8c-65b6-45a4-9e58-3cbce9a0ebf7",
        "colab": {
          "base_uri": "https://localhost:8080/",
          "height": 213
        }
      },
      "source": [
        "class_names = ['airplane','automobile','bird','cat','deer',\n",
        "               'dog','frog','horse','ship','truck']\n",
        "fig = plt.figure(figsize=(8,3))\n",
        "for i in range(num_classes):\n",
        "    ax = fig.add_subplot(2, 5, 1 + i, xticks=[], yticks=[])\n",
        "    idx = np.where(train_labels[:]==i)[0]\n",
        "    features_idx = train_features[idx,::]\n",
        "    img_num = np.random.randint(features_idx.shape[0])\n",
        "    im = features_idx[img_num]\n",
        "    ax.set_title(class_names[i])\n",
        "    plt.imshow(im)\n",
        "plt.show()"
      ],
      "execution_count": 4,
      "outputs": [
        {
          "output_type": "display_data",
          "data": {
            "image/png": "[encoded data removed]",
            "text/plain": [
              "<Figure size 576x216 with 10 Axes>"
            ]
          },
          "metadata": {
            "tags": []
          }
        }
      ]
    },
    {
      "cell_type": "markdown",
      "metadata": {
        "id": "VFEZ6zg0ov28",
        "colab_type": "text"
      },
      "source": [
        "## Function for plotting accuracy and loss during model training"
      ]
    },
    {
      "cell_type": "code",
      "metadata": {
        "id": "bmfsk76-fadV",
        "colab_type": "code",
        "colab": {}
      },
      "source": [
        "def plot_model_history(model_history):\n",
        "    fig, axs = plt.subplots(1,2,figsize=(15,5))\n",
        "    # summarize history for accuracy\n",
        "    axs[0].plot(range(1,len(model_history.history['acc'])+1),model_history.history['acc'])\n",
        "    axs[0].plot(range(1,len(model_history.history['val_acc'])+1),model_history.history['val_acc'])\n",
        "    axs[0].set_title('Model Accuracy')\n",
        "    axs[0].set_ylabel('Accuracy')\n",
        "    axs[0].set_xlabel('Epoch')\n",
        "    axs[0].set_xticks(np.arange(1,len(model_history.history['acc'])+1),len(model_history.history['acc'])/10)\n",
        "    axs[0].legend(['train', 'val'], loc='best')\n",
        "    # summarize history for loss\n",
        "    axs[1].plot(range(1,len(model_history.history['loss'])+1),model_history.history['loss'])\n",
        "    axs[1].plot(range(1,len(model_history.history['val_loss'])+1),model_history.history['val_loss'])\n",
        "    axs[1].set_title('Model Loss')\n",
        "    axs[1].set_ylabel('Loss')\n",
        "    axs[1].set_xlabel('Epoch')\n",
        "    axs[1].set_xticks(np.arange(1,len(model_history.history['loss'])+1),len(model_history.history['loss'])/10)\n",
        "    axs[1].legend(['train', 'val'], loc='best')\n",
        "    plt.show()"
      ],
      "execution_count": 0,
      "outputs": []
    },
    {
      "cell_type": "markdown",
      "metadata": {
        "id": "mEu32AYDo3_l",
        "colab_type": "text"
      },
      "source": [
        "## Accuracy Calculation for a model"
      ]
    },
    {
      "cell_type": "code",
      "metadata": {
        "id": "YJMT4rjgfdZz",
        "colab_type": "code",
        "colab": {}
      },
      "source": [
        "def accuracy(test_x, test_y, model):\n",
        "    result = model.predict(test_x)\n",
        "    predicted_class = np.argmax(result, axis=1)\n",
        "    true_class = np.argmax(test_y, axis=1)\n",
        "    num_correct = np.sum(predicted_class == true_class) \n",
        "    accuracy = float(num_correct)/result.shape[0]\n",
        "    return (accuracy * 100)"
      ],
      "execution_count": 0,
      "outputs": []
    },
    {
      "cell_type": "markdown",
      "metadata": {
        "id": "qni2FjdNo9Cy",
        "colab_type": "text"
      },
      "source": [
        "### Converting data type and One-hot encoding"
      ]
    },
    {
      "cell_type": "code",
      "metadata": {
        "id": "T5c5nDvxm6zR",
        "colab_type": "code",
        "colab": {}
      },
      "source": [
        "train_features = train_features.astype('float32')/255\n",
        "test_features = test_features.astype('float32')/255\n",
        "# convert class labels to binary class labels\n",
        "train_labels = np_utils.to_categorical(train_labels, num_classes)\n",
        "test_labels = np_utils.to_categorical(test_labels, num_classes)"
      ],
      "execution_count": 0,
      "outputs": []
    },
    {
      "cell_type": "markdown",
      "metadata": {
        "id": "0erMbgaUpBtj",
        "colab_type": "text"
      },
      "source": [
        "### Function to scale down channels for concatenation"
      ]
    },
    {
      "cell_type": "code",
      "metadata": {
        "id": "0IrtSe5vZViM",
        "colab_type": "code",
        "colab": {}
      },
      "source": [
        "def space_to_depth_x2(x):\n",
        "    return tf.space_to_depth(x, block_size=2)\n",
        "  \n",
        "def space_to_depth_x4(x):\n",
        "    return tf.space_to_depth(x, block_size=4)"
      ],
      "execution_count": 0,
      "outputs": []
    },
    {
      "cell_type": "markdown",
      "metadata": {
        "id": "ISlPBzhapHmO",
        "colab_type": "text"
      },
      "source": [
        "## ENAS Model Architecture\n",
        "- This model is built using functional API and not Sequential model\n",
        "- This model consists of various types of convolutions like Depthwise Separable convolution, Dilated convolution, Spatial Separable convolution, and grouped convolutions\n",
        "\n",
        "- ### Separable Convolution:\n",
        "  \n",
        "  ![](SeparableConv.gif)\n",
        "  - They are extensively used in Inception and Xception networks\n",
        "  - Instead of using 3x3, we use 3x1 and then 1x3 over an image\n",
        "  - This reduces the parameters by around 66%\n",
        "  - The accuracy drop is around 0.2-0.8%\n",
        "  \n",
        "- ### Depthwise Convolution:\n",
        "\n",
        "  ![](depthwise.gif)\n",
        "  - We divide the depth i.e. the channels and convolve witht a kernel on each of the channel\n",
        "  - Then we concaenatet the output and use 1x1 to get the output\n",
        "  - Huge number of parameters are reduced using depthwise convolution\n",
        "  - Accuracy drop is around 0.2-0.6 %\n",
        "  \n",
        "  \n",
        "- ### Dilated Convolution\n",
        "\n",
        "![](dilated.gif)\n",
        "  - It is mostly used for segmentation network\n",
        "  - It increases the receptive field of the network\n",
        "\n",
        "- ### Grouped Convolutions:\n",
        "  \n",
        "  ![](grouped.png)\n",
        "  - Different types of convolutions are used parallely to improve the detection result\n",
        "  - It is useful to detect objects with different sizes in the network\n",
        "  \n",
        "  \n",
        "  ## Architecture\n",
        "  ![](https://2.bp.blogspot.com/-HQo2Kx39Q6A/WsqZQn5pJHI/AAAAAAAAVhY/FBkgOeS06vQNvZN2KI2hhGZmfS1cNPg8wCLcBGAs/s1600/enasdiscoverednetwork.png)\n",
        "  \n",
        "  - ENAS stands for *Efficient Neural Architecture Search*\n",
        "  - It is used for automatic model designing\n",
        "  - It is 1000x faster than NAS\n",
        "  - Above diagram is a model created by ENAS for CiFAR dataset\n",
        "  - This model achieved a state-of-the-art performance on CiFAR dataset"
      ]
    },
    {
      "cell_type": "code",
      "metadata": {
        "id": "cSOb2lkJfhVq",
        "colab_type": "code",
        "outputId": "3f84cb07-a0cb-4e9e-a0c6-d17bf1d56f8d",
        "colab": {
          "base_uri": "https://localhost:8080/",
          "height": 306
        }
      },
      "source": [
        "# Defining Model Input\n",
        "input = Input(shape=(32, 32, 3,))\n",
        "\n",
        "# Dropout rate\n",
        "drop = 0.50\n",
        "\n",
        "#******************** Convolution Block - 1 ***************************\n",
        "conv_layer1 = SeparableConv2D(32, 5, 5, border_mode='same', name='conv1')(input)\n",
        "BN_1 = BatchNormalization(name='BN_1')(conv_layer1)\n",
        "Activation_1 = Activation('relu', name='Activation_1')(BN_1)\n",
        "\n",
        "conv_layer2 = Conv2D(32, 5, 5, border_mode='same', name='conv2')(Activation_1) \n",
        "BN_2 = BatchNormalization(name='BN_2')(conv_layer2)\n",
        "Activation_2 = Activation('relu', name='Activation_2')(BN_2)\n",
        "\n",
        "conv_layer3 = Conv2D(32, 5, 5, border_mode='same', name='conv3')(Activation_2) \n",
        "BN_3 = BatchNormalization(name='BN_3')(conv_layer3)\n",
        "Activation_3 = Activation('relu', name='Activation_3')(BN_3)\n",
        "\n",
        "skip_1 = concatenate([Activation_3, Activation_1])\n",
        "conv_layer4 = SeparableConv2D(32, 5, 5, border_mode='same', name='conv4')(skip_1)\n",
        "BN_4 = BatchNormalization(name='BN_4')(conv_layer4)\n",
        "Activation_4 = Activation('relu', name='Activation_4')(BN_4)\n",
        "#**********************************************************************\n",
        "\n",
        "Drop1 = Dropout(drop)(Activation_4)\n",
        "\n",
        "#******************* Transition Block - 1 **************************\n",
        "skip_2 = concatenate([Activation_1, Drop1])\n",
        "maxpool_1 = MaxPooling2D(2, name='MP1')(skip_2)\n",
        "#*******************************************************************\n",
        "\n",
        "############# Skip connection Layers ####################\n",
        "# For Convolution Block - 2\n",
        "Activation_1_2 = Lambda(space_to_depth_x2)(Activation_1)\n",
        "Activation_2_2 = Lambda(space_to_depth_x2)(Activation_2)\n",
        "Activation_3_2 = Lambda(space_to_depth_x2)(Activation_3)\n",
        "Activation_4_2 = Lambda(space_to_depth_x2)(Activation_4)\n",
        "\n",
        "# For Convolution Block - 3\n",
        "Activation_1_3 = Lambda(space_to_depth_x4)(Activation_1)\n",
        "Activation_2_3 = Lambda(space_to_depth_x4)(Activation_2)\n",
        "Activation_3_3 = Lambda(space_to_depth_x4)(Activation_3)\n",
        "Activation_4_3 = Lambda(space_to_depth_x4)(Activation_4)\n",
        "#########################################################\n",
        "\n",
        "#***************** Convolution Block - 2 ****************************\n",
        "conv_layer5 = SeparableConv2D(32, 3, 3, border_mode='same', name='conv5')(maxpool_1)\n",
        "BN_5 = BatchNormalization(name='BN_5')(conv_layer5)\n",
        "Activation_5 = Activation('relu', name='Activation_5')(BN_5)\n",
        "\n",
        "skip_3 = concatenate([Activation_1_2, Activation_4_2, Activation_5])\n",
        "conv_layer6 = Conv2D(32, 5, 5, border_mode='same', name='conv6')(skip_3)\n",
        "BN_6 = BatchNormalization(name='BN_6')(conv_layer6)\n",
        "Activation_6 = Activation('relu', name='Activation_6')(BN_6)\n",
        "\n",
        "skip_4 = concatenate([Activation_6, Activation_5, Activation_4_2, Activation_3_2])\n",
        "conv_layer7 = SeparableConv2D(32, 3, 3, border_mode='same', name='conv7')(skip_4)\n",
        "BN_7 = BatchNormalization(name='BN_7')(conv_layer7)\n",
        "Activation_7 = Activation('relu', name='Activation_7')(BN_7)\n",
        "\n",
        "skip_5 = concatenate([Activation_7, Activation_6, Activation_5, Activation_4_2, Activation_3_2, Activation_1_2])\n",
        "conv_layer8 = SeparableConv2D(32, 5, 5, border_mode='same', name='conv8')(skip_5)\n",
        "BN_8 = BatchNormalization(name='BN_8')(conv_layer8)\n",
        "Activation_8 = Activation('relu', name='Activation_8')(BN_8)\n",
        "#********************************************************************\n",
        "\n",
        "Drop2 = Dropout(drop)(Activation_8)\n",
        "\n",
        "#***************** Transition Block - 2 *****************************\n",
        "skip_6 = concatenate([Drop2, Activation_7, Activation_5, Activation_4_2, Activation_1_2])\n",
        "maxpool_2 = MaxPooling2D(2, name='MP2')(skip_6)\n",
        "#********************************************************************\n",
        "\n",
        "############# Skip connection Layers ####################\n",
        "# For Convolution Block - 2\n",
        "Activation_5_3 = Lambda(space_to_depth_x2)(Activation_5)\n",
        "Activation_6_3 = Lambda(space_to_depth_x2)(Activation_6)\n",
        "Activation_7_3 = Lambda(space_to_depth_x2)(Activation_7)\n",
        "Activation_8_3 = Lambda(space_to_depth_x2)(Activation_8)\n",
        "#########################################################\n",
        "\n",
        "\n",
        "#***************** Convolution Block - 3 ****************************\n",
        "skip_7 = concatenate([maxpool_2, Activation_6_3])\n",
        "conv_layer9 = Conv2D(32, 5, 5, border_mode='same', name='conv9')(skip_7) \n",
        "BN_9 = BatchNormalization(name='BN_9')(conv_layer9)\n",
        "Activation_9 = Activation('relu', name='Acticatn_9')(BN_9)\n",
        "\n",
        "skip_8 = concatenate([Activation_9, Activation_4_3, Activation_7_3, Activation_2_3])\n",
        "conv_layer10 = SeparableConv2D(32, 5, 5, border_mode='same', name='conv10')(skip_8)\n",
        "BN_10 = BatchNormalization(name='BN_10')(conv_layer10)\n",
        "Activation_10 = Activation('relu', name='Acticatn_10')(BN_10)\n",
        "\n",
        "skip_9 = concatenate([Activation_10, Activation_9, Activation_5_3, Activation_3_3, Activation_2_3])\n",
        "conv_layer11 = Conv2D(32, 3, 3, border_mode='same', name='conv11')(skip_9) \n",
        "BN_11 = BatchNormalization(name='BN_11')(conv_layer11)\n",
        "Activation_11 = Activation('relu', name='Acticatn_11')(BN_11)\n",
        "\n",
        "skip_10 = concatenate([Activation_11, Activation_10, Activation_3_3, Activation_7_3, Activation_1_3, Activation_4_3, Activation_5_3])\n",
        "conv_layer12 = SeparableConv2D(10, 5, 5, border_mode='same', name='conv12')(skip_10)\n",
        "#***************************************************************************\n",
        "\n",
        "#*********************** Output Layer **************************************\n",
        "skip_11 = concatenate([conv_layer12, Activation_10, Activation_4_3, Activation_7_3])\n",
        "penultimate = Conv2D(10, 8, 8, name='Penultimate')(skip_11)\n",
        "penultimate = Flatten()(penultimate)\n",
        "output = Activation('softmax', name='Output')(penultimate)\n",
        "#***************************************************************************\n",
        "\n",
        "model = Model(inputs=[input], outputs=[output])\n",
        "\n",
        "\n",
        "# Compile the model\n",
        "model.compile(optimizer='adam', loss='categorical_crossentropy', metrics=['accuracy'])\n"
      ],
      "execution_count": 15,
      "outputs": [
        {
          "output_type": "stream",
          "text": [
            "/usr/local/lib/python3.6/dist-packages/ipykernel_launcher.py:7: UserWarning: Update your `SeparableConv2D` call to the Keras 2 API: `SeparableConv2D(32, (5, 5), name=\"conv1\", padding=\"same\")`\n",
            "  import sys\n",
            "/usr/local/lib/python3.6/dist-packages/ipykernel_launcher.py:11: UserWarning: Update your `Conv2D` call to the Keras 2 API: `Conv2D(32, (5, 5), name=\"conv2\", padding=\"same\")`\n",
            "  # This is added back by InteractiveShellApp.init_path()\n",
            "/usr/local/lib/python3.6/dist-packages/ipykernel_launcher.py:15: UserWarning: Update your `Conv2D` call to the Keras 2 API: `Conv2D(32, (5, 5), name=\"conv3\", padding=\"same\")`\n",
            "  from ipykernel import kernelapp as app\n",
            "/usr/local/lib/python3.6/dist-packages/ipykernel_launcher.py:20: UserWarning: Update your `SeparableConv2D` call to the Keras 2 API: `SeparableConv2D(32, (5, 5), name=\"conv4\", padding=\"same\")`\n",
            "/usr/local/lib/python3.6/dist-packages/ipykernel_launcher.py:47: UserWarning: Update your `SeparableConv2D` call to the Keras 2 API: `SeparableConv2D(32, (3, 3), name=\"conv5\", padding=\"same\")`\n",
            "/usr/local/lib/python3.6/dist-packages/ipykernel_launcher.py:52: UserWarning: Update your `Conv2D` call to the Keras 2 API: `Conv2D(32, (5, 5), name=\"conv6\", padding=\"same\")`\n",
            "/usr/local/lib/python3.6/dist-packages/ipykernel_launcher.py:57: UserWarning: Update your `SeparableConv2D` call to the Keras 2 API: `SeparableConv2D(32, (3, 3), name=\"conv7\", padding=\"same\")`\n",
            "/usr/local/lib/python3.6/dist-packages/ipykernel_launcher.py:62: UserWarning: Update your `SeparableConv2D` call to the Keras 2 API: `SeparableConv2D(32, (5, 5), name=\"conv8\", padding=\"same\")`\n",
            "/usr/local/lib/python3.6/dist-packages/ipykernel_launcher.py:85: UserWarning: Update your `Conv2D` call to the Keras 2 API: `Conv2D(32, (5, 5), name=\"conv9\", padding=\"same\")`\n",
            "/usr/local/lib/python3.6/dist-packages/ipykernel_launcher.py:90: UserWarning: Update your `SeparableConv2D` call to the Keras 2 API: `SeparableConv2D(32, (5, 5), name=\"conv10\", padding=\"same\")`\n",
            "/usr/local/lib/python3.6/dist-packages/ipykernel_launcher.py:95: UserWarning: Update your `Conv2D` call to the Keras 2 API: `Conv2D(32, (3, 3), name=\"conv11\", padding=\"same\")`\n",
            "/usr/local/lib/python3.6/dist-packages/ipykernel_launcher.py:100: UserWarning: Update your `SeparableConv2D` call to the Keras 2 API: `SeparableConv2D(10, (5, 5), name=\"conv12\", padding=\"same\")`\n",
            "/usr/local/lib/python3.6/dist-packages/ipykernel_launcher.py:105: UserWarning: Update your `Conv2D` call to the Keras 2 API: `Conv2D(10, (8, 8), name=\"Penultimate\")`\n"
          ],
          "name": "stderr"
        }
      ]
    },
    {
      "cell_type": "markdown",
      "metadata": {
        "id": "vIGoKCVwqYzJ",
        "colab_type": "text"
      },
      "source": [
        "### Model Summary"
      ]
    },
    {
      "cell_type": "code",
      "metadata": {
        "id": "wvVs5tC8mR6Q",
        "colab_type": "code",
        "outputId": "ec9836e8-b3a7-4c7f-d6a8-f7ced2733597",
        "colab": {
          "base_uri": "https://localhost:8080/",
          "height": 2806
        }
      },
      "source": [
        "model.summary()"
      ],
      "execution_count": 16,
      "outputs": [
        {
          "output_type": "stream",
          "text": [
            "__________________________________________________________________________________________________\n",
            "Layer (type)                    Output Shape         Param #     Connected to                     \n",
            "==================================================================================================\n",
            "input_3 (InputLayer)            (None, 32, 32, 3)    0                                            \n",
            "__________________________________________________________________________________________________\n",
            "conv1 (SeparableConv2D)         (None, 32, 32, 32)   203         input_3[0][0]                    \n",
            "__________________________________________________________________________________________________\n",
            "BN_1 (BatchNormalization)       (None, 32, 32, 32)   128         conv1[0][0]                      \n",
            "__________________________________________________________________________________________________\n",
            "Activation_1 (Activation)       (None, 32, 32, 32)   0           BN_1[0][0]                       \n",
            "__________________________________________________________________________________________________\n",
            "conv2 (Conv2D)                  (None, 32, 32, 32)   25632       Activation_1[0][0]               \n",
            "__________________________________________________________________________________________________\n",
            "BN_2 (BatchNormalization)       (None, 32, 32, 32)   128         conv2[0][0]                      \n",
            "__________________________________________________________________________________________________\n",
            "Activation_2 (Activation)       (None, 32, 32, 32)   0           BN_2[0][0]                       \n",
            "__________________________________________________________________________________________________\n",
            "conv3 (Conv2D)                  (None, 32, 32, 32)   25632       Activation_2[0][0]               \n",
            "__________________________________________________________________________________________________\n",
            "BN_3 (BatchNormalization)       (None, 32, 32, 32)   128         conv3[0][0]                      \n",
            "__________________________________________________________________________________________________\n",
            "Activation_3 (Activation)       (None, 32, 32, 32)   0           BN_3[0][0]                       \n",
            "__________________________________________________________________________________________________\n",
            "concatenate_23 (Concatenate)    (None, 32, 32, 64)   0           Activation_3[0][0]               \n",
            "                                                                 Activation_1[0][0]               \n",
            "__________________________________________________________________________________________________\n",
            "conv4 (SeparableConv2D)         (None, 32, 32, 32)   3680        concatenate_23[0][0]             \n",
            "__________________________________________________________________________________________________\n",
            "BN_4 (BatchNormalization)       (None, 32, 32, 32)   128         conv4[0][0]                      \n",
            "__________________________________________________________________________________________________\n",
            "Activation_4 (Activation)       (None, 32, 32, 32)   0           BN_4[0][0]                       \n",
            "__________________________________________________________________________________________________\n",
            "dropout_5 (Dropout)             (None, 32, 32, 32)   0           Activation_4[0][0]               \n",
            "__________________________________________________________________________________________________\n",
            "concatenate_24 (Concatenate)    (None, 32, 32, 64)   0           Activation_1[0][0]               \n",
            "                                                                 dropout_5[0][0]                  \n",
            "__________________________________________________________________________________________________\n",
            "MP1 (MaxPooling2D)              (None, 16, 16, 64)   0           concatenate_24[0][0]             \n",
            "__________________________________________________________________________________________________\n",
            "conv5 (SeparableConv2D)         (None, 16, 16, 32)   2656        MP1[0][0]                        \n",
            "__________________________________________________________________________________________________\n",
            "BN_5 (BatchNormalization)       (None, 16, 16, 32)   128         conv5[0][0]                      \n",
            "__________________________________________________________________________________________________\n",
            "lambda_25 (Lambda)              (None, 16, 16, 128)  0           Activation_1[0][0]               \n",
            "__________________________________________________________________________________________________\n",
            "lambda_28 (Lambda)              (None, 16, 16, 128)  0           Activation_4[0][0]               \n",
            "__________________________________________________________________________________________________\n",
            "Activation_5 (Activation)       (None, 16, 16, 32)   0           BN_5[0][0]                       \n",
            "__________________________________________________________________________________________________\n",
            "concatenate_25 (Concatenate)    (None, 16, 16, 288)  0           lambda_25[0][0]                  \n",
            "                                                                 lambda_28[0][0]                  \n",
            "                                                                 Activation_5[0][0]               \n",
            "__________________________________________________________________________________________________\n",
            "conv6 (Conv2D)                  (None, 16, 16, 32)   230432      concatenate_25[0][0]             \n",
            "__________________________________________________________________________________________________\n",
            "BN_6 (BatchNormalization)       (None, 16, 16, 32)   128         conv6[0][0]                      \n",
            "__________________________________________________________________________________________________\n",
            "Activation_6 (Activation)       (None, 16, 16, 32)   0           BN_6[0][0]                       \n",
            "__________________________________________________________________________________________________\n",
            "lambda_27 (Lambda)              (None, 16, 16, 128)  0           Activation_3[0][0]               \n",
            "__________________________________________________________________________________________________\n",
            "concatenate_26 (Concatenate)    (None, 16, 16, 320)  0           Activation_6[0][0]               \n",
            "                                                                 Activation_5[0][0]               \n",
            "                                                                 lambda_28[0][0]                  \n",
            "                                                                 lambda_27[0][0]                  \n",
            "__________________________________________________________________________________________________\n",
            "conv7 (SeparableConv2D)         (None, 16, 16, 32)   13152       concatenate_26[0][0]             \n",
            "__________________________________________________________________________________________________\n",
            "BN_7 (BatchNormalization)       (None, 16, 16, 32)   128         conv7[0][0]                      \n",
            "__________________________________________________________________________________________________\n",
            "Activation_7 (Activation)       (None, 16, 16, 32)   0           BN_7[0][0]                       \n",
            "__________________________________________________________________________________________________\n",
            "concatenate_27 (Concatenate)    (None, 16, 16, 480)  0           Activation_7[0][0]               \n",
            "                                                                 Activation_6[0][0]               \n",
            "                                                                 Activation_5[0][0]               \n",
            "                                                                 lambda_28[0][0]                  \n",
            "                                                                 lambda_27[0][0]                  \n",
            "                                                                 lambda_25[0][0]                  \n",
            "__________________________________________________________________________________________________\n",
            "conv8 (SeparableConv2D)         (None, 16, 16, 32)   27392       concatenate_27[0][0]             \n",
            "__________________________________________________________________________________________________\n",
            "BN_8 (BatchNormalization)       (None, 16, 16, 32)   128         conv8[0][0]                      \n",
            "__________________________________________________________________________________________________\n",
            "Activation_8 (Activation)       (None, 16, 16, 32)   0           BN_8[0][0]                       \n",
            "__________________________________________________________________________________________________\n",
            "dropout_6 (Dropout)             (None, 16, 16, 32)   0           Activation_8[0][0]               \n",
            "__________________________________________________________________________________________________\n",
            "concatenate_28 (Concatenate)    (None, 16, 16, 352)  0           dropout_6[0][0]                  \n",
            "                                                                 Activation_7[0][0]               \n",
            "                                                                 Activation_5[0][0]               \n",
            "                                                                 lambda_28[0][0]                  \n",
            "                                                                 lambda_25[0][0]                  \n",
            "__________________________________________________________________________________________________\n",
            "MP2 (MaxPooling2D)              (None, 8, 8, 352)    0           concatenate_28[0][0]             \n",
            "__________________________________________________________________________________________________\n",
            "lambda_34 (Lambda)              (None, 8, 8, 128)    0           Activation_6[0][0]               \n",
            "__________________________________________________________________________________________________\n",
            "concatenate_29 (Concatenate)    (None, 8, 8, 480)    0           MP2[0][0]                        \n",
            "                                                                 lambda_34[0][0]                  \n",
            "__________________________________________________________________________________________________\n",
            "conv9 (Conv2D)                  (None, 8, 8, 32)     384032      concatenate_29[0][0]             \n",
            "__________________________________________________________________________________________________\n",
            "BN_9 (BatchNormalization)       (None, 8, 8, 32)     128         conv9[0][0]                      \n",
            "__________________________________________________________________________________________________\n",
            "Acticatn_9 (Activation)         (None, 8, 8, 32)     0           BN_9[0][0]                       \n",
            "__________________________________________________________________________________________________\n",
            "lambda_32 (Lambda)              (None, 8, 8, 512)    0           Activation_4[0][0]               \n",
            "__________________________________________________________________________________________________\n",
            "lambda_35 (Lambda)              (None, 8, 8, 128)    0           Activation_7[0][0]               \n",
            "__________________________________________________________________________________________________\n",
            "lambda_30 (Lambda)              (None, 8, 8, 512)    0           Activation_2[0][0]               \n",
            "__________________________________________________________________________________________________\n",
            "concatenate_30 (Concatenate)    (None, 8, 8, 1184)   0           Acticatn_9[0][0]                 \n",
            "                                                                 lambda_32[0][0]                  \n",
            "                                                                 lambda_35[0][0]                  \n",
            "                                                                 lambda_30[0][0]                  \n",
            "__________________________________________________________________________________________________\n",
            "conv10 (SeparableConv2D)        (None, 8, 8, 32)     67520       concatenate_30[0][0]             \n",
            "__________________________________________________________________________________________________\n",
            "BN_10 (BatchNormalization)      (None, 8, 8, 32)     128         conv10[0][0]                     \n",
            "__________________________________________________________________________________________________\n",
            "Acticatn_10 (Activation)        (None, 8, 8, 32)     0           BN_10[0][0]                      \n",
            "__________________________________________________________________________________________________\n",
            "lambda_33 (Lambda)              (None, 8, 8, 128)    0           Activation_5[0][0]               \n",
            "__________________________________________________________________________________________________\n",
            "lambda_31 (Lambda)              (None, 8, 8, 512)    0           Activation_3[0][0]               \n",
            "__________________________________________________________________________________________________\n",
            "concatenate_31 (Concatenate)    (None, 8, 8, 1216)   0           Acticatn_10[0][0]                \n",
            "                                                                 Acticatn_9[0][0]                 \n",
            "                                                                 lambda_33[0][0]                  \n",
            "                                                                 lambda_31[0][0]                  \n",
            "                                                                 lambda_30[0][0]                  \n",
            "__________________________________________________________________________________________________\n",
            "conv11 (Conv2D)                 (None, 8, 8, 32)     350240      concatenate_31[0][0]             \n",
            "__________________________________________________________________________________________________\n",
            "BN_11 (BatchNormalization)      (None, 8, 8, 32)     128         conv11[0][0]                     \n",
            "__________________________________________________________________________________________________\n",
            "Acticatn_11 (Activation)        (None, 8, 8, 32)     0           BN_11[0][0]                      \n",
            "__________________________________________________________________________________________________\n",
            "lambda_29 (Lambda)              (None, 8, 8, 512)    0           Activation_1[0][0]               \n",
            "__________________________________________________________________________________________________\n",
            "concatenate_32 (Concatenate)    (None, 8, 8, 1856)   0           Acticatn_11[0][0]                \n",
            "                                                                 Acticatn_10[0][0]                \n",
            "                                                                 lambda_31[0][0]                  \n",
            "                                                                 lambda_35[0][0]                  \n",
            "                                                                 lambda_29[0][0]                  \n",
            "                                                                 lambda_32[0][0]                  \n",
            "                                                                 lambda_33[0][0]                  \n",
            "__________________________________________________________________________________________________\n",
            "conv12 (SeparableConv2D)        (None, 8, 8, 10)     64970       concatenate_32[0][0]             \n",
            "__________________________________________________________________________________________________\n",
            "concatenate_33 (Concatenate)    (None, 8, 8, 682)    0           conv12[0][0]                     \n",
            "                                                                 Acticatn_10[0][0]                \n",
            "                                                                 lambda_32[0][0]                  \n",
            "                                                                 lambda_35[0][0]                  \n",
            "__________________________________________________________________________________________________\n",
            "Penultimate (Conv2D)            (None, 1, 1, 10)     436490      concatenate_33[0][0]             \n",
            "__________________________________________________________________________________________________\n",
            "flatten_3 (Flatten)             (None, 10)           0           Penultimate[0][0]                \n",
            "__________________________________________________________________________________________________\n",
            "Output (Activation)             (None, 10)           0           flatten_3[0][0]                  \n",
            "==================================================================================================\n",
            "Total params: 1,633,439\n",
            "Trainable params: 1,632,735\n",
            "Non-trainable params: 704\n",
            "__________________________________________________________________________________________________\n"
          ],
          "name": "stdout"
        }
      ]
    },
    {
      "cell_type": "markdown",
      "metadata": {
        "id": "Cjqh-CJDqbxE",
        "colab_type": "text"
      },
      "source": [
        "### Training and traking progress"
      ]
    },
    {
      "cell_type": "code",
      "metadata": {
        "id": "5oK_V7WyfsXX",
        "colab_type": "code",
        "outputId": "8a941d9c-a5f5-4523-fc56-8757d8aae3f8",
        "colab": {
          "base_uri": "https://localhost:8080/",
          "height": 3830
        }
      },
      "source": [
        "from keras.preprocessing.image import ImageDataGenerator\n",
        "\n",
        "datagen = ImageDataGenerator(zoom_range=0.0, \n",
        "                             horizontal_flip=False)\n",
        "\n",
        "\n",
        "# train the model\n",
        "start = time.time()\n",
        "# Train the model\n",
        "model_info = model.fit_generator(datagen.flow(train_features, train_labels, batch_size = 128),\n",
        "                                 samples_per_epoch = train_features.shape[0], nb_epoch = 100, \n",
        "                                 validation_data = (test_features, test_labels), verbose=1)\n",
        "end = time.time()\n",
        "print (\"Model took %0.2f seconds to train\"%(end - start))\n",
        "# plot model history\n",
        "plot_model_history(model_info)\n",
        "# compute test accuracy\n",
        "print (\"Accuracy on test data is: %0.2f\"%accuracy(test_features, test_labels, model))"
      ],
      "execution_count": 17,
      "outputs": [
        {
          "output_type": "stream",
          "text": [
            "/usr/local/lib/python3.6/dist-packages/ipykernel_launcher.py:12: UserWarning: The semantics of the Keras 2 argument `steps_per_epoch` is not the same as the Keras 1 argument `samples_per_epoch`. `steps_per_epoch` is the number of batches to draw from the generator at each epoch. Basically steps_per_epoch = samples_per_epoch/batch_size. Similarly `nb_val_samples`->`validation_steps` and `val_samples`->`steps` arguments have changed. Update your method calls accordingly.\n",
            "  if sys.path[0] == '':\n",
            "/usr/local/lib/python3.6/dist-packages/ipykernel_launcher.py:12: UserWarning: Update your `fit_generator` call to the Keras 2 API: `fit_generator(<keras_pre..., validation_data=(array([[[..., verbose=1, steps_per_epoch=390, epochs=100)`\n",
            "  if sys.path[0] == '':\n"
          ],
          "name": "stderr"
        },
        {
          "output_type": "stream",
          "text": [
            "Epoch 1/100\n",
            "390/390 [==============================] - 45s 116ms/step - loss: 6.0184 - acc: 0.3212 - val_loss: 1.8628 - val_acc: 0.4380\n",
            "Epoch 2/100\n",
            "390/390 [==============================] - 41s 106ms/step - loss: 1.7720 - acc: 0.5133 - val_loss: 1.8460 - val_acc: 0.4590\n",
            "Epoch 3/100\n",
            "390/390 [==============================] - 42s 106ms/step - loss: 1.2923 - acc: 0.6023 - val_loss: 1.2144 - val_acc: 0.5750\n",
            "Epoch 4/100\n",
            "390/390 [==============================] - 42s 107ms/step - loss: 0.9806 - acc: 0.6642 - val_loss: 1.0419 - val_acc: 0.6288\n",
            "Epoch 5/100\n",
            "390/390 [==============================] - 42s 107ms/step - loss: 0.8172 - acc: 0.7156 - val_loss: 1.0312 - val_acc: 0.6451\n",
            "Epoch 6/100\n",
            "390/390 [==============================] - 42s 107ms/step - loss: 0.7064 - acc: 0.7552 - val_loss: 1.0308 - val_acc: 0.6549\n",
            "Epoch 7/100\n",
            "390/390 [==============================] - 42s 107ms/step - loss: 0.6019 - acc: 0.7910 - val_loss: 1.0162 - val_acc: 0.6691\n",
            "Epoch 8/100\n",
            "390/390 [==============================] - 42s 107ms/step - loss: 0.5019 - acc: 0.8251 - val_loss: 1.1098 - val_acc: 0.6499\n",
            "Epoch 9/100\n",
            "390/390 [==============================] - 42s 107ms/step - loss: 0.4030 - acc: 0.8608 - val_loss: 1.0862 - val_acc: 0.6670\n",
            "Epoch 10/100\n",
            "390/390 [==============================] - 42s 108ms/step - loss: 0.3052 - acc: 0.8934 - val_loss: 1.2963 - val_acc: 0.6477\n",
            "Epoch 11/100\n",
            "390/390 [==============================] - 42s 107ms/step - loss: 0.2271 - acc: 0.9225 - val_loss: 1.5405 - val_acc: 0.6282\n",
            "Epoch 12/100\n",
            "390/390 [==============================] - 42s 107ms/step - loss: 0.1672 - acc: 0.9429 - val_loss: 1.4874 - val_acc: 0.6396\n",
            "Epoch 13/100\n",
            "390/390 [==============================] - 42s 107ms/step - loss: 0.1302 - acc: 0.9556 - val_loss: 1.6738 - val_acc: 0.6262\n",
            "Epoch 14/100\n",
            "390/390 [==============================] - 42s 107ms/step - loss: 0.1005 - acc: 0.9675 - val_loss: 1.5586 - val_acc: 0.6668\n",
            "Epoch 15/100\n",
            "390/390 [==============================] - 42s 107ms/step - loss: 0.0795 - acc: 0.9748 - val_loss: 1.8016 - val_acc: 0.6657\n",
            "Epoch 16/100\n",
            "390/390 [==============================] - 42s 107ms/step - loss: 0.0784 - acc: 0.9743 - val_loss: 1.7698 - val_acc: 0.6637\n",
            "Epoch 17/100\n",
            "390/390 [==============================] - 42s 107ms/step - loss: 0.0675 - acc: 0.9781 - val_loss: 1.9091 - val_acc: 0.6600\n",
            "Epoch 18/100\n",
            "390/390 [==============================] - 42s 108ms/step - loss: 0.0620 - acc: 0.9791 - val_loss: 1.8103 - val_acc: 0.6672\n",
            "Epoch 19/100\n",
            "390/390 [==============================] - 42s 108ms/step - loss: 0.0686 - acc: 0.9760 - val_loss: 1.8457 - val_acc: 0.6555\n",
            "Epoch 20/100\n",
            "390/390 [==============================] - 42s 107ms/step - loss: 0.0508 - acc: 0.9837 - val_loss: 1.9782 - val_acc: 0.6567\n",
            "Epoch 21/100\n",
            "390/390 [==============================] - 42s 107ms/step - loss: 0.0522 - acc: 0.9821 - val_loss: 2.3011 - val_acc: 0.6215\n",
            "Epoch 22/100\n",
            "390/390 [==============================] - 42s 107ms/step - loss: 0.0482 - acc: 0.9838 - val_loss: 2.2724 - val_acc: 0.6470\n",
            "Epoch 23/100\n",
            "390/390 [==============================] - 42s 108ms/step - loss: 0.0404 - acc: 0.9865 - val_loss: 2.2752 - val_acc: 0.6408\n",
            "Epoch 24/100\n",
            "390/390 [==============================] - 42s 107ms/step - loss: 0.0412 - acc: 0.9861 - val_loss: 1.9969 - val_acc: 0.6641\n",
            "Epoch 25/100\n",
            "390/390 [==============================] - 42s 107ms/step - loss: 0.0400 - acc: 0.9866 - val_loss: 2.2691 - val_acc: 0.6573\n",
            "Epoch 26/100\n",
            "390/390 [==============================] - 42s 107ms/step - loss: 0.0546 - acc: 0.9808 - val_loss: 2.0825 - val_acc: 0.6563\n",
            "Epoch 27/100\n",
            "390/390 [==============================] - 42s 107ms/step - loss: 0.0405 - acc: 0.9861 - val_loss: 2.0590 - val_acc: 0.6801\n",
            "Epoch 28/100\n",
            "390/390 [==============================] - 42s 107ms/step - loss: 0.0256 - acc: 0.9919 - val_loss: 2.1731 - val_acc: 0.6635\n",
            "Epoch 29/100\n",
            "390/390 [==============================] - 42s 107ms/step - loss: 0.0351 - acc: 0.9881 - val_loss: 2.1329 - val_acc: 0.6744\n",
            "Epoch 30/100\n",
            "390/390 [==============================] - 42s 107ms/step - loss: 0.0342 - acc: 0.9880 - val_loss: 2.5158 - val_acc: 0.6462\n",
            "Epoch 31/100\n",
            "390/390 [==============================] - 42s 107ms/step - loss: 0.0379 - acc: 0.9869 - val_loss: 2.3284 - val_acc: 0.6618\n",
            "Epoch 32/100\n",
            "390/390 [==============================] - 42s 107ms/step - loss: 0.0319 - acc: 0.9886 - val_loss: 2.2188 - val_acc: 0.6760\n",
            "Epoch 33/100\n",
            "390/390 [==============================] - 42s 107ms/step - loss: 0.0339 - acc: 0.9884 - val_loss: 2.1956 - val_acc: 0.6686\n",
            "Epoch 34/100\n",
            "390/390 [==============================] - 42s 107ms/step - loss: 0.0228 - acc: 0.9924 - val_loss: 2.4803 - val_acc: 0.6582\n",
            "Epoch 35/100\n",
            "390/390 [==============================] - 42s 107ms/step - loss: 0.0228 - acc: 0.9921 - val_loss: 2.2697 - val_acc: 0.6746\n",
            "Epoch 36/100\n",
            "390/390 [==============================] - 42s 107ms/step - loss: 0.0255 - acc: 0.9909 - val_loss: 2.5728 - val_acc: 0.6582\n",
            "Epoch 37/100\n",
            "390/390 [==============================] - 42s 107ms/step - loss: 0.0415 - acc: 0.9857 - val_loss: 2.3064 - val_acc: 0.6564\n",
            "Epoch 38/100\n",
            "390/390 [==============================] - 42s 107ms/step - loss: 0.0263 - acc: 0.9911 - val_loss: 2.4278 - val_acc: 0.6649\n",
            "Epoch 39/100\n",
            "390/390 [==============================] - 42s 107ms/step - loss: 0.0234 - acc: 0.9920 - val_loss: 2.4639 - val_acc: 0.6714\n",
            "Epoch 40/100\n",
            "390/390 [==============================] - 42s 107ms/step - loss: 0.0236 - acc: 0.9913 - val_loss: 2.2920 - val_acc: 0.6811\n",
            "Epoch 41/100\n",
            "390/390 [==============================] - 42s 107ms/step - loss: 0.0250 - acc: 0.9912 - val_loss: 2.4382 - val_acc: 0.6773\n",
            "Epoch 42/100\n",
            "390/390 [==============================] - 42s 107ms/step - loss: 0.0254 - acc: 0.9911 - val_loss: 2.3708 - val_acc: 0.6821\n",
            "Epoch 43/100\n",
            "390/390 [==============================] - 42s 107ms/step - loss: 0.0225 - acc: 0.9927 - val_loss: 2.7096 - val_acc: 0.6538\n",
            "Epoch 44/100\n",
            "390/390 [==============================] - 42s 107ms/step - loss: 0.0197 - acc: 0.9930 - val_loss: 2.5632 - val_acc: 0.6712\n",
            "Epoch 45/100\n",
            "390/390 [==============================] - 42s 107ms/step - loss: 0.0211 - acc: 0.9925 - val_loss: 2.4188 - val_acc: 0.6789\n",
            "Epoch 46/100\n",
            "390/390 [==============================] - 42s 107ms/step - loss: 0.0173 - acc: 0.9944 - val_loss: 2.3809 - val_acc: 0.6845\n",
            "Epoch 47/100\n",
            "390/390 [==============================] - 42s 107ms/step - loss: 0.0211 - acc: 0.9928 - val_loss: 2.5248 - val_acc: 0.6708\n",
            "Epoch 48/100\n",
            "390/390 [==============================] - 42s 107ms/step - loss: 0.0307 - acc: 0.9896 - val_loss: 2.4037 - val_acc: 0.6812\n",
            "Epoch 49/100\n",
            "390/390 [==============================] - 42s 107ms/step - loss: 0.0232 - acc: 0.9919 - val_loss: 2.3877 - val_acc: 0.6833\n",
            "Epoch 50/100\n",
            "390/390 [==============================] - 42s 107ms/step - loss: 0.0147 - acc: 0.9949 - val_loss: 2.5129 - val_acc: 0.6764\n",
            "Epoch 51/100\n",
            "390/390 [==============================] - 42s 107ms/step - loss: 0.0129 - acc: 0.9958 - val_loss: 2.9789 - val_acc: 0.6395\n",
            "Epoch 52/100\n",
            "390/390 [==============================] - 42s 107ms/step - loss: 0.0216 - acc: 0.9930 - val_loss: 2.5185 - val_acc: 0.6864\n",
            "Epoch 53/100\n",
            "390/390 [==============================] - 42s 107ms/step - loss: 0.0217 - acc: 0.9927 - val_loss: 2.6525 - val_acc: 0.6559\n",
            "Epoch 54/100\n",
            "390/390 [==============================] - 42s 107ms/step - loss: 0.0248 - acc: 0.9919 - val_loss: 2.8501 - val_acc: 0.6607\n",
            "Epoch 55/100\n",
            "390/390 [==============================] - 42s 107ms/step - loss: 0.0230 - acc: 0.9922 - val_loss: 2.6604 - val_acc: 0.6713\n",
            "Epoch 56/100\n",
            "390/390 [==============================] - 42s 107ms/step - loss: 0.0181 - acc: 0.9936 - val_loss: 2.5271 - val_acc: 0.6771\n",
            "Epoch 57/100\n",
            "390/390 [==============================] - 42s 107ms/step - loss: 0.0120 - acc: 0.9957 - val_loss: 2.5642 - val_acc: 0.6819\n",
            "Epoch 58/100\n",
            "390/390 [==============================] - 42s 107ms/step - loss: 0.0104 - acc: 0.9963 - val_loss: 2.6007 - val_acc: 0.6829\n",
            "Epoch 59/100\n",
            "390/390 [==============================] - 42s 107ms/step - loss: 0.0147 - acc: 0.9946 - val_loss: 2.6770 - val_acc: 0.6761\n",
            "Epoch 60/100\n",
            "390/390 [==============================] - 42s 107ms/step - loss: 0.0251 - acc: 0.9909 - val_loss: 2.5281 - val_acc: 0.6891\n",
            "Epoch 61/100\n",
            "390/390 [==============================] - 42s 107ms/step - loss: 0.0187 - acc: 0.9935 - val_loss: 2.5729 - val_acc: 0.6793\n",
            "Epoch 62/100\n",
            "390/390 [==============================] - 42s 107ms/step - loss: 0.0134 - acc: 0.9954 - val_loss: 2.7416 - val_acc: 0.6659\n",
            "Epoch 63/100\n",
            "390/390 [==============================] - 42s 107ms/step - loss: 0.0167 - acc: 0.9941 - val_loss: 3.1982 - val_acc: 0.6499\n",
            "Epoch 64/100\n",
            "390/390 [==============================] - 42s 107ms/step - loss: 0.0191 - acc: 0.9935 - val_loss: 2.7657 - val_acc: 0.6721\n",
            "Epoch 65/100\n",
            "390/390 [==============================] - 42s 107ms/step - loss: 0.0090 - acc: 0.9974 - val_loss: 2.6250 - val_acc: 0.6775\n",
            "Epoch 66/100\n",
            "390/390 [==============================] - 42s 107ms/step - loss: 0.0180 - acc: 0.9939 - val_loss: 2.6958 - val_acc: 0.6711\n",
            "Epoch 67/100\n",
            "390/390 [==============================] - 42s 107ms/step - loss: 0.0168 - acc: 0.9942 - val_loss: 2.5997 - val_acc: 0.6803\n",
            "Epoch 68/100\n",
            "390/390 [==============================] - 42s 107ms/step - loss: 0.0148 - acc: 0.9950 - val_loss: 2.8596 - val_acc: 0.6640\n",
            "Epoch 69/100\n",
            "390/390 [==============================] - 42s 107ms/step - loss: 0.0158 - acc: 0.9946 - val_loss: 2.7555 - val_acc: 0.6733\n",
            "Epoch 70/100\n",
            "390/390 [==============================] - 42s 107ms/step - loss: 0.0197 - acc: 0.9935 - val_loss: 2.7995 - val_acc: 0.6618\n",
            "Epoch 71/100\n",
            "390/390 [==============================] - 42s 107ms/step - loss: 0.0117 - acc: 0.9960 - val_loss: 2.8003 - val_acc: 0.6786\n",
            "Epoch 72/100\n",
            "390/390 [==============================] - 42s 107ms/step - loss: 0.0107 - acc: 0.9964 - val_loss: 2.9208 - val_acc: 0.6673\n",
            "Epoch 73/100\n",
            "390/390 [==============================] - 42s 107ms/step - loss: 0.0217 - acc: 0.9927 - val_loss: 2.7464 - val_acc: 0.6806\n",
            "Epoch 74/100\n",
            "390/390 [==============================] - 42s 107ms/step - loss: 0.0157 - acc: 0.9949 - val_loss: 2.7004 - val_acc: 0.6802\n",
            "Epoch 75/100\n",
            "390/390 [==============================] - 42s 107ms/step - loss: 0.0092 - acc: 0.9967 - val_loss: 2.8068 - val_acc: 0.6798\n",
            "Epoch 76/100\n",
            "390/390 [==============================] - 42s 107ms/step - loss: 0.0090 - acc: 0.9969 - val_loss: 2.6985 - val_acc: 0.6873\n",
            "Epoch 77/100\n",
            "390/390 [==============================] - 42s 107ms/step - loss: 0.0176 - acc: 0.9943 - val_loss: 2.7869 - val_acc: 0.6867\n",
            "Epoch 78/100\n",
            "390/390 [==============================] - 42s 107ms/step - loss: 0.0193 - acc: 0.9937 - val_loss: 2.8389 - val_acc: 0.6747\n",
            "Epoch 79/100\n",
            "390/390 [==============================] - 42s 107ms/step - loss: 0.0188 - acc: 0.9939 - val_loss: 2.7475 - val_acc: 0.6787\n",
            "Epoch 80/100\n",
            "390/390 [==============================] - 42s 107ms/step - loss: 0.0113 - acc: 0.9959 - val_loss: 2.8745 - val_acc: 0.6730\n",
            "Epoch 81/100\n",
            "390/390 [==============================] - 42s 107ms/step - loss: 0.0093 - acc: 0.9969 - val_loss: 3.2097 - val_acc: 0.6478\n",
            "Epoch 82/100\n",
            "390/390 [==============================] - 42s 107ms/step - loss: 0.0086 - acc: 0.9971 - val_loss: 3.2121 - val_acc: 0.6550\n",
            "Epoch 83/100\n",
            "390/390 [==============================] - 42s 107ms/step - loss: 0.0155 - acc: 0.9951 - val_loss: 3.0011 - val_acc: 0.6686\n",
            "Epoch 84/100\n",
            "390/390 [==============================] - 42s 107ms/step - loss: 0.0219 - acc: 0.9929 - val_loss: 2.8534 - val_acc: 0.6621\n",
            "Epoch 85/100\n",
            "390/390 [==============================] - 42s 107ms/step - loss: 0.0122 - acc: 0.9957 - val_loss: 2.9464 - val_acc: 0.6751\n",
            "Epoch 86/100\n",
            "390/390 [==============================] - 42s 107ms/step - loss: 0.0118 - acc: 0.9959 - val_loss: 2.9948 - val_acc: 0.6686\n",
            "Epoch 87/100\n",
            "390/390 [==============================] - 42s 106ms/step - loss: 0.0094 - acc: 0.9969 - val_loss: 2.9305 - val_acc: 0.6697\n",
            "Epoch 88/100\n",
            "390/390 [==============================] - 42s 107ms/step - loss: 0.0045 - acc: 0.9985 - val_loss: 2.8911 - val_acc: 0.6797\n",
            "Epoch 89/100\n",
            "390/390 [==============================] - 42s 107ms/step - loss: 0.0082 - acc: 0.9971 - val_loss: 3.1731 - val_acc: 0.6613\n",
            "Epoch 90/100\n",
            "390/390 [==============================] - 42s 107ms/step - loss: 0.0295 - acc: 0.9911 - val_loss: 2.9218 - val_acc: 0.6771\n",
            "Epoch 91/100\n",
            "390/390 [==============================] - 42s 107ms/step - loss: 0.0175 - acc: 0.9944 - val_loss: 2.7798 - val_acc: 0.6842\n",
            "Epoch 92/100\n",
            "390/390 [==============================] - 42s 107ms/step - loss: 0.0057 - acc: 0.9981 - val_loss: 2.9096 - val_acc: 0.6831\n",
            "Epoch 93/100\n",
            "390/390 [==============================] - 42s 107ms/step - loss: 0.0031 - acc: 0.9990 - val_loss: 2.7299 - val_acc: 0.6999\n",
            "Epoch 94/100\n",
            "390/390 [==============================] - 42s 107ms/step - loss: 0.0013 - acc: 0.9997 - val_loss: 2.7665 - val_acc: 0.6908\n",
            "Epoch 95/100\n",
            "390/390 [==============================] - 42s 107ms/step - loss: 0.0017 - acc: 0.9996 - val_loss: 2.8147 - val_acc: 0.6870\n",
            "Epoch 96/100\n",
            "390/390 [==============================] - 42s 107ms/step - loss: 0.0441 - acc: 0.9866 - val_loss: 3.0837 - val_acc: 0.6503\n",
            "Epoch 97/100\n",
            "390/390 [==============================] - 42s 107ms/step - loss: 0.0185 - acc: 0.9941 - val_loss: 2.7781 - val_acc: 0.6849\n",
            "Epoch 98/100\n",
            "390/390 [==============================] - 42s 107ms/step - loss: 0.0060 - acc: 0.9979 - val_loss: 2.7982 - val_acc: 0.6808\n",
            "Epoch 99/100\n",
            "390/390 [==============================] - 42s 107ms/step - loss: 0.0050 - acc: 0.9984 - val_loss: 2.8135 - val_acc: 0.6877\n",
            "Epoch 100/100\n",
            "390/390 [==============================] - 42s 107ms/step - loss: 0.0049 - acc: 0.9983 - val_loss: 2.9425 - val_acc: 0.6840\n",
            "Model took 4180.84 seconds to train\n"
          ],
          "name": "stdout"
        },
        {
          "output_type": "display_data",
          "data": {
            "image/png": "[encoded data removed]",
            "text/plain": [
              "<Figure size 1080x360 with 2 Axes>"
            ]
          },
          "metadata": {
            "tags": []
          }
        },
        {
          "output_type": "stream",
          "text": [
            "Accuracy on test data is: 68.40\n"
          ],
          "name": "stdout"
        }
      ]
    }
  ]
}