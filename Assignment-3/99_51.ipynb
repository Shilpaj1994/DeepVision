{
  "nbformat": 4,
  "nbformat_minor": 0,
  "metadata": {
    "colab": {
      "name": "99.51.ipynb",
      "version": "0.3.2",
      "provenance": [],
      "collapsed_sections": []
    },
    "kernelspec": {
      "name": "python3",
      "display_name": "Python 3"
    },
    "accelerator": "GPU"
  },
  "cells": [
    {
      "cell_type": "markdown",
      "metadata": {
        "id": "aNyZv-Ec52ot",
        "colab_type": "text"
      },
      "source": [
        "### Install Dependencies \n",
        "\n",
        "- To train the following network, we use a framework named Keras.\n",
        "- Keras provides functions for Convolution layers, Activation layers, MaxPooling layer, etc. so we don't need write code for designing such layers. Instead we can focus on creating better network architecture\n",
        "- Following lines of code installs Keras on the system"
      ]
    },
    {
      "cell_type": "code",
      "metadata": {
        "id": "3m3w1Cw49Zkt",
        "colab_type": "code",
        "colab": {}
      },
      "source": [
        "# https://keras.io/\n",
        "!pip install -q keras\n",
        "import keras"
      ],
      "execution_count": 0,
      "outputs": []
    },
    {
      "cell_type": "markdown",
      "metadata": {
        "id": "L_6H50FBVsld",
        "colab_type": "text"
      },
      "source": [
        "### Import Libraries and Modules"
      ]
    },
    {
      "cell_type": "code",
      "metadata": {
        "id": "Eso6UHE080D4",
        "colab_type": "code",
        "colab": {}
      },
      "source": [
        "# Import Numpy for matrices and multi-dimensional array's processing\n",
        "import numpy as np\n",
        "\n",
        "# Import Sequential to write model layer-by-layer in sequence \n",
        "from keras.models import Sequential\n",
        "\n",
        "# Import Flatten layer to flatten feature-map, Dropout to avoid overfitting\n",
        "from keras.layers import Flatten, Dropout\n",
        "\n",
        "# Import Convolution layer to perform convolution on the channels, MaxPooling to reduce dimensions of channel\n",
        "from keras.layers import Convolution2D, MaxPooling2D\n",
        "\n",
        "# Import np_utils for one-hot-encoding\n",
        "from keras.utils import np_utils\n",
        "\n",
        "# Import hand written dataset of numbers from 0-9\n",
        "from keras.datasets import mnist"
      ],
      "execution_count": 0,
      "outputs": []
    },
    {
      "cell_type": "markdown",
      "metadata": {
        "id": "zByEi95J86RD",
        "colab_type": "text"
      },
      "source": [
        "### Load the Data\n",
        "The data is loaded in following variables:\n",
        "\n",
        "- X_train: Samples used during training the network\n",
        "- y_train: Corresponding labels for training data\n",
        "- X_test: Samples used for validation after training the network\n",
        "- y_test: Corresponding labels for the validation of network's performance"
      ]
    },
    {
      "cell_type": "code",
      "metadata": {
        "id": "7eRM0QWN83PV",
        "colab_type": "code",
        "colab": {}
      },
      "source": [
        "(X_train, y_train), (X_test, y_test) = mnist.load_data()"
      ],
      "execution_count": 0,
      "outputs": []
    },
    {
      "cell_type": "markdown",
      "metadata": {
        "id": "uxIXgp8xYNXF",
        "colab_type": "text"
      },
      "source": [
        "### Dataset Information and Display Data Sample\n",
        "- We have 60000 images in training dataset\n",
        "- We have 10000 images in the testing dataset\n",
        "- Each image's dimension are 28x28x1"
      ]
    },
    {
      "cell_type": "code",
      "metadata": {
        "id": "4a4Be72j8-ZC",
        "colab_type": "code",
        "outputId": "47414f60-6c9f-4e15-e4ad-b496665197c8",
        "colab": {
          "base_uri": "https://localhost:8080/",
          "height": 319
        }
      },
      "source": [
        "# Dimensions of the training dataset images\n",
        "print (X_train.shape)\n",
        "\n",
        "# Dimensions of the testing dataset images\n",
        "print (X_test.shape)\n",
        "\n",
        "# Import python module for plotting the image\n",
        "from matplotlib import pyplot as plt\n",
        "\n",
        "# Below line is written to display an image in this notebook\n",
        "%matplotlib inline\n",
        "\n",
        "# Plotting first image in the training dataset\n",
        "# cmap='gray' displays the data sample in appropriate color space\n",
        "plt.imshow(X_train[0], cmap='gray')"
      ],
      "execution_count": 25,
      "outputs": [
        {
          "output_type": "stream",
          "text": [
            "(60000, 28, 28)\n",
            "(10000, 28, 28)\n"
          ],
          "name": "stdout"
        },
        {
          "output_type": "execute_result",
          "data": {
            "text/plain": [
              "<matplotlib.image.AxesImage at 0x7f19f8102c88>"
            ]
          },
          "metadata": {
            "tags": []
          },
          "execution_count": 25
        },
        {
          "output_type": "display_data",
          "data": {
            "image/png": "[encoded data removed]",
            "text/plain": [
              "<Figure size 432x288 with 1 Axes>"
            ]
          },
          "metadata": {
            "tags": []
          }
        }
      ]
    },
    {
      "cell_type": "markdown",
      "metadata": {
        "id": "bKorE7Q0ZOZY",
        "colab_type": "text"
      },
      "source": [
        "### Reshape the dataset\n",
        "- Keras requires the input data in a form of 4D tensor\n",
        "- The first value represents the total number of images in a training/testing dataset\n",
        "- Second and third values are dimensions of an image\n",
        "- Fourth value is the number of channels (1 for grayscale and 3 for RGB)  \n",
        "\n",
        "Thus, the X_train will have a shape of (60000, 28, 28, 1)  \n",
        "and the X_test will have a shape of (1000, 28, 28, 1)"
      ]
    },
    {
      "cell_type": "code",
      "metadata": {
        "id": "dkmprriw9AnZ",
        "colab_type": "code",
        "colab": {}
      },
      "source": [
        "X_train = X_train.reshape(X_train.shape[0], 28, 28,1)\n",
        "X_test = X_test.reshape(X_test.shape[0], 28, 28,1)"
      ],
      "execution_count": 0,
      "outputs": []
    },
    {
      "cell_type": "markdown",
      "metadata": {
        "id": "3yaQcS6aZnte",
        "colab_type": "text"
      },
      "source": [
        "### Normalizing the Data\n",
        "- When a Kernel is convolved over an input image, the maximum pixel value in the feature-map depends upon the maximum pixel value in the kernel\n",
        "- Different kernels will have different maximum values and so their corresponding feature-maps will have different maximum values\n",
        "- The feature-map with greater maximum pixel value will be louder while training the network\n",
        "- To avoid biased activations of such kernels, we perform Normalization\n",
        "- For normalization, we first convert the data into float so that we can get all the decimal values\n",
        "- By dividing all the pixels by 255, all the pixel values will be restricted between 0.0 to 1.0. This is how we normalize the data."
      ]
    },
    {
      "cell_type": "code",
      "metadata": {
        "id": "X2m4YS4E9CRh",
        "colab_type": "code",
        "colab": {}
      },
      "source": [
        "X_train = X_train.astype('float32')\n",
        "X_test = X_test.astype('float32')\n",
        "X_train /= 255\n",
        "X_test /= 255"
      ],
      "execution_count": 0,
      "outputs": []
    },
    {
      "cell_type": "markdown",
      "metadata": {
        "id": "gFzfX0QqZ9HS",
        "colab_type": "text"
      },
      "source": [
        "### Print Labels"
      ]
    },
    {
      "cell_type": "code",
      "metadata": {
        "id": "0Mn0vAYD9DvB",
        "colab_type": "code",
        "outputId": "720d0e98-6b4b-402d-f749-578db96ca9a2",
        "colab": {
          "base_uri": "https://localhost:8080/",
          "height": 34
        }
      },
      "source": [
        "y_train[:10]"
      ],
      "execution_count": 7,
      "outputs": [
        {
          "output_type": "execute_result",
          "data": {
            "text/plain": [
              "array([5, 0, 4, 1, 9, 2, 1, 3, 1, 4], dtype=uint8)"
            ]
          },
          "metadata": {
            "tags": []
          },
          "execution_count": 7
        }
      ]
    },
    {
      "cell_type": "markdown",
      "metadata": {
        "id": "fhFS2uM3aDEh",
        "colab_type": "text"
      },
      "source": [
        "### One-Hot Encoding\n",
        "- It is way of representing labels\n",
        "- Instead of using one-single scalar for labels, we use a vector to represent the labels.\n",
        "- The position of the ground-truth is marked as 1 while other positions are marked as 0\n",
        "- The network cannot print out the prediction as 0,1,2,....9\n",
        "- Instead it can activate the neuron associated with these numbers. So, the last layer before activation layer has number of neurons equal to number of classes (in this case 10)\n",
        "- The neuron associated with the number is set as 1 while other neurons are set as 0. Following is the pattern in which encoding is done:  \n",
        "  - Number 0 is encoded as 1000000000  \n",
        "  - Number 1 is encoded as 0100000000  \n",
        "  - Number 2 is encoded as 0010000000  \n",
        "   .  \n",
        "   .  \n",
        "   .  \n",
        "   .  \n",
        "  - Number 9 is encoded as 0000000001"
      ]
    },
    {
      "cell_type": "code",
      "metadata": {
        "id": "ZG8JiXR39FHC",
        "colab_type": "code",
        "colab": {}
      },
      "source": [
        "# Convert 1-dimensional class arrays to 10-dimensional class matrices\n",
        "Y_train = np_utils.to_categorical(y_train, 10)\n",
        "Y_test = np_utils.to_categorical(y_test, 10)"
      ],
      "execution_count": 0,
      "outputs": []
    },
    {
      "cell_type": "markdown",
      "metadata": {
        "id": "yShor8IUaiT9",
        "colab_type": "text"
      },
      "source": [
        "### Print Labels after one-hot encoding"
      ]
    },
    {
      "cell_type": "code",
      "metadata": {
        "id": "fYlFRvKS9HMB",
        "colab_type": "code",
        "outputId": "bb8ebd1d-2ee6-4ea9-fb6c-7ed46c2589c5",
        "colab": {
          "base_uri": "https://localhost:8080/",
          "height": 185
        }
      },
      "source": [
        "Y_train[:10]"
      ],
      "execution_count": 9,
      "outputs": [
        {
          "output_type": "execute_result",
          "data": {
            "text/plain": [
              "array([[0., 0., 0., 0., 0., 1., 0., 0., 0., 0.],\n",
              "       [1., 0., 0., 0., 0., 0., 0., 0., 0., 0.],\n",
              "       [0., 0., 0., 0., 1., 0., 0., 0., 0., 0.],\n",
              "       [0., 1., 0., 0., 0., 0., 0., 0., 0., 0.],\n",
              "       [0., 0., 0., 0., 0., 0., 0., 0., 0., 1.],\n",
              "       [0., 0., 1., 0., 0., 0., 0., 0., 0., 0.],\n",
              "       [0., 1., 0., 0., 0., 0., 0., 0., 0., 0.],\n",
              "       [0., 0., 0., 1., 0., 0., 0., 0., 0., 0.],\n",
              "       [0., 1., 0., 0., 0., 0., 0., 0., 0., 0.],\n",
              "       [0., 0., 0., 0., 1., 0., 0., 0., 0., 0.]], dtype=float32)"
            ]
          },
          "metadata": {
            "tags": []
          },
          "execution_count": 9
        }
      ]
    },
    {
      "cell_type": "markdown",
      "metadata": {
        "id": "spiB8iJDao-w",
        "colab_type": "text"
      },
      "source": [
        "### Model Architecture\n",
        "\n",
        "- Model is defined sequential\n",
        "- The model has convolution, maxpooling, flatten and softmax layers\n",
        "\n",
        "- **Convolution Layer:**\n",
        "  - It is a process of extracting features from a channel using a kernel (feature extractor)\n",
        "![](https://github.com/Shilpaj1994/Phase1_assignments/blob/master/Assignment%201/5-3ConvolutionSmall.gif?raw=true)\n",
        "\n",
        "- **MaxPooling Layer:**\n",
        "  - It reduces the dimension of an channel. If we use MaxPooling of 2x2, dimension of an channel will become half of input channel\n",
        "  - It only passes the louder pixel value in the next layer\n",
        "![](https://github.com/Shilpaj1994/Phase1_assignments/blob/master/Assignment%203/Files/maxpool.gif?raw=true)\n",
        "\n",
        "- **Softmax Layer:**\n",
        "  - It is like probability\n",
        "  - It gives score of a class between 0 and 1\n",
        "![](https://github.com/Shilpaj1994/Phase1_assignments/blob/master/Assignment%201/softmax.png?raw=true)\n",
        "\n",
        "- **Flatten Layer:**\n",
        "  - It flattens the input dimension\n",
        "  - Multiple 2D channels are converted into a vector "
      ]
    },
    {
      "cell_type": "code",
      "metadata": {
        "id": "osKqT73Q9JJB",
        "colab_type": "code",
        "outputId": "1c3e90f6-8109-496f-910b-86a9dd44f4e1",
        "colab": {
          "base_uri": "https://localhost:8080/",
          "height": 1314
        }
      },
      "source": [
        "# Set the dropout rate i.e. how many % of neurons to drop during training to avoid overfitting\n",
        "# In below architecture, Dropout Layer drops 10% neurons during training\n",
        "drop = 0.10 \n",
        "\n",
        "# Define Sequential Model Type\n",
        "model = Sequential()\n",
        "\n",
        "# Layer 1: Input:28x28x1  |  Kernels:(3x3x1)x32  |  Output:26x26x32  |  Receptive Field:3x3 \n",
        "model.add(Convolution2D(32, 3, 3, activation='relu', input_shape=(28,28,1), name='conv_1'))\n",
        "model.add(Dropout(drop))\n",
        "\n",
        "# Layer 2: Input:26x26x32  |  Kernels:(3x3x32)x16  |  Output:24x24x16  |  Receptive Field:5x5 \n",
        "model.add(Convolution2D(16, 3, 3, activation='relu', name='conv_2'))\n",
        "model.add(Dropout(drop))\n",
        "\n",
        "# Layer 3: Input:24x24x16  |  Kernels:(3x3x16)x16  |  Output:22x22x16  |  Receptive Field:7x7 \n",
        "model.add(Convolution2D(16, 3, 3, activation='relu', name='conv_3'))\n",
        "model.add(Dropout(drop))\n",
        "\n",
        "# Layer 4: Input:22x22x16  |  Kernels:(1x1x16)x10  |  Output:22x22x10  |  Receptive Field:7x7 \n",
        "model.add(Convolution2D(10, 1, 1, activation='relu', name='conv_4_1x1'))\n",
        "\n",
        "# Layer 5: Input:22x22x10  |  MaxPooling:(2x2)  |  Output:11x11x10  |  Receptive Field:14x14 \n",
        "model.add(MaxPooling2D(2, name='MP'))\n",
        "\n",
        "# Layer 6: Input:11x11x10  |  Kernels:(3x3x10)x12  |  Output:9x9x12  |  Receptive Field:16x16 \n",
        "model.add(Convolution2D(12, 3, 3, activation='relu', name='conv_5'))\n",
        "model.add(Dropout(drop))\n",
        "\n",
        "# Layer 7: Input:9x9x12  |  Kernels:(3x3x12)x16  |  Output:7x7x16  |  Receptive Field:18x18 \n",
        "model.add(Convolution2D(16, 3, 3, activation='relu', name='conv_6'))\n",
        "model.add(Dropout(drop))\n",
        "\n",
        "# Layer 8: Input:7x7x16  |  Kernels:(3x3x16)x16  |  Output:5x5x16  |  Receptive Field:20x20 \n",
        "model.add(Convolution2D(16, 3, 3, activation='relu', name='conv_7'))\n",
        "model.add(Dropout(drop))\n",
        "\n",
        "# Layer 9: Input:5x5x16  |  Kernels:(1x1x16)x12  |  Output:5x5x12  |  Receptive Field:20x20 \n",
        "model.add(Convolution2D(12, 1, 1, activation='relu', name='conv_8_1x1'))\n",
        "model.add(Dropout(drop))\n",
        "\n",
        "# Layer 10: Input:5x5x12  |  Kernels:(3x3x12)x12  |  Output:5x5x12  |  Receptive Field:22x22  |  Padding='same' \n",
        "model.add(Convolution2D(12, 3, padding='same', activation='relu'))\n",
        "model.add(Dropout(drop))\n",
        "\n",
        "# Layer 11: Input:5x5x12  |  Kernels:(3x3x12)x12  |  Output:3x3x12  |  Receptive Field:24x24 \n",
        "model.add(Convolution2D(12, 3, 3, activation='relu'))\n",
        "model.add(Dropout(drop))\n",
        "\n",
        "# Layer 12: Input:3x3x12  |  Kernels:(3x3x12)x12  |  Output:3x3x12  |  Receptive Field:26x26  |  Padding='same' \n",
        "model.add(Convolution2D(12, 3, padding='same', activation='relu'))\n",
        "model.add(Dropout(drop))\n",
        "\n",
        "# Layer 13: Input:3x3x12  |  Kernels:(3x3x12)x10  |  Output:1x1x10  |  Receptive Field:28x28 \n",
        "model.add(Convolution2D(10, 3, 3))\n",
        "\n",
        "# Layer 14: Input:1x1x10  |  Output:10\n",
        "model.add(Flatten())\n",
        "\n",
        "# Layer 15: Activation Layer\n",
        "model.add(Activation('softmax'))\n",
        "\n",
        "# Summaries above architecture\n",
        "model.summary()"
      ],
      "execution_count": 10,
      "outputs": [
        {
          "output_type": "stream",
          "text": [
            "WARNING:tensorflow:From /usr/local/lib/python3.6/dist-packages/tensorflow/python/framework/op_def_library.py:263: colocate_with (from tensorflow.python.framework.ops) is deprecated and will be removed in a future version.\n",
            "Instructions for updating:\n",
            "Colocations handled automatically by placer.\n",
            "WARNING:tensorflow:From /usr/local/lib/python3.6/dist-packages/keras/backend/tensorflow_backend.py:3445: calling dropout (from tensorflow.python.ops.nn_ops) with keep_prob is deprecated and will be removed in a future version.\n",
            "Instructions for updating:\n",
            "Please use `rate` instead of `keep_prob`. Rate should be set to `rate = 1 - keep_prob`.\n"
          ],
          "name": "stdout"
        },
        {
          "output_type": "stream",
          "text": [
            "/usr/local/lib/python3.6/dist-packages/ipykernel_launcher.py:6: UserWarning: Update your `Conv2D` call to the Keras 2 API: `Conv2D(32, (3, 3), activation=\"relu\", input_shape=(28, 28, 1..., name=\"conv_1\")`\n",
            "  \n",
            "/usr/local/lib/python3.6/dist-packages/ipykernel_launcher.py:10: UserWarning: Update your `Conv2D` call to the Keras 2 API: `Conv2D(16, (3, 3), activation=\"relu\", name=\"conv_2\")`\n",
            "  # Remove the CWD from sys.path while we load stuff.\n",
            "/usr/local/lib/python3.6/dist-packages/ipykernel_launcher.py:14: UserWarning: Update your `Conv2D` call to the Keras 2 API: `Conv2D(16, (3, 3), activation=\"relu\", name=\"conv_3\")`\n",
            "  \n",
            "/usr/local/lib/python3.6/dist-packages/ipykernel_launcher.py:18: UserWarning: Update your `Conv2D` call to the Keras 2 API: `Conv2D(10, (1, 1), activation=\"relu\", name=\"conv_4_1x1\")`\n"
          ],
          "name": "stderr"
        },
        {
          "output_type": "stream",
          "text": [
            "_________________________________________________________________\n",
            "Layer (type)                 Output Shape              Param #   \n",
            "=================================================================\n",
            "conv_1 (Conv2D)              (None, 26, 26, 32)        320       \n",
            "_________________________________________________________________\n",
            "dropout_1 (Dropout)          (None, 26, 26, 32)        0         \n",
            "_________________________________________________________________\n",
            "conv_2 (Conv2D)              (None, 24, 24, 16)        4624      \n",
            "_________________________________________________________________\n",
            "dropout_2 (Dropout)          (None, 24, 24, 16)        0         \n",
            "_________________________________________________________________\n",
            "conv_3 (Conv2D)              (None, 22, 22, 16)        2320      \n",
            "_________________________________________________________________\n",
            "dropout_3 (Dropout)          (None, 22, 22, 16)        0         \n",
            "_________________________________________________________________\n",
            "conv_4_1x1 (Conv2D)          (None, 22, 22, 10)        170       \n",
            "_________________________________________________________________\n",
            "MP (MaxPooling2D)            (None, 11, 11, 10)        0         \n",
            "_________________________________________________________________\n",
            "conv_5 (Conv2D)              (None, 9, 9, 12)          1092      \n",
            "_________________________________________________________________\n",
            "dropout_4 (Dropout)          (None, 9, 9, 12)          0         \n",
            "_________________________________________________________________\n",
            "conv_6 (Conv2D)              (None, 7, 7, 16)          1744      \n",
            "_________________________________________________________________\n",
            "dropout_5 (Dropout)          (None, 7, 7, 16)          0         \n",
            "_________________________________________________________________\n",
            "conv_7 (Conv2D)              (None, 5, 5, 16)          2320      \n",
            "_________________________________________________________________\n",
            "dropout_6 (Dropout)          (None, 5, 5, 16)          0         \n",
            "_________________________________________________________________\n",
            "conv_8_1x1 (Conv2D)          (None, 5, 5, 12)          204       \n",
            "_________________________________________________________________\n",
            "dropout_7 (Dropout)          (None, 5, 5, 12)          0         \n",
            "_________________________________________________________________\n",
            "conv2d_1 (Conv2D)            (None, 5, 5, 12)          1308      \n",
            "_________________________________________________________________\n",
            "dropout_8 (Dropout)          (None, 5, 5, 12)          0         \n",
            "_________________________________________________________________\n",
            "conv2d_2 (Conv2D)            (None, 3, 3, 12)          1308      \n",
            "_________________________________________________________________\n",
            "dropout_9 (Dropout)          (None, 3, 3, 12)          0         \n",
            "_________________________________________________________________\n",
            "conv2d_3 (Conv2D)            (None, 3, 3, 12)          1308      \n",
            "_________________________________________________________________\n",
            "dropout_10 (Dropout)         (None, 3, 3, 12)          0         \n",
            "_________________________________________________________________\n",
            "conv2d_4 (Conv2D)            (None, 1, 1, 10)          1090      \n",
            "_________________________________________________________________\n",
            "flatten_1 (Flatten)          (None, 10)                0         \n",
            "_________________________________________________________________\n",
            "activation_1 (Activation)    (None, 10)                0         \n",
            "=================================================================\n",
            "Total params: 17,808\n",
            "Trainable params: 17,808\n",
            "Non-trainable params: 0\n",
            "_________________________________________________________________\n"
          ],
          "name": "stdout"
        },
        {
          "output_type": "stream",
          "text": [
            "/usr/local/lib/python3.6/dist-packages/ipykernel_launcher.py:24: UserWarning: Update your `Conv2D` call to the Keras 2 API: `Conv2D(12, (3, 3), activation=\"relu\", name=\"conv_5\")`\n",
            "/usr/local/lib/python3.6/dist-packages/ipykernel_launcher.py:28: UserWarning: Update your `Conv2D` call to the Keras 2 API: `Conv2D(16, (3, 3), activation=\"relu\", name=\"conv_6\")`\n",
            "/usr/local/lib/python3.6/dist-packages/ipykernel_launcher.py:32: UserWarning: Update your `Conv2D` call to the Keras 2 API: `Conv2D(16, (3, 3), activation=\"relu\", name=\"conv_7\")`\n",
            "/usr/local/lib/python3.6/dist-packages/ipykernel_launcher.py:36: UserWarning: Update your `Conv2D` call to the Keras 2 API: `Conv2D(12, (1, 1), activation=\"relu\", name=\"conv_8_1x1\")`\n",
            "/usr/local/lib/python3.6/dist-packages/ipykernel_launcher.py:44: UserWarning: Update your `Conv2D` call to the Keras 2 API: `Conv2D(12, (3, 3), activation=\"relu\")`\n",
            "/usr/local/lib/python3.6/dist-packages/ipykernel_launcher.py:52: UserWarning: Update your `Conv2D` call to the Keras 2 API: `Conv2D(10, (3, 3))`\n"
          ],
          "name": "stderr"
        }
      ]
    },
    {
      "cell_type": "markdown",
      "metadata": {
        "id": "jkNWPp_ahaxQ",
        "colab_type": "text"
      },
      "source": [
        "### Approach:\n",
        "- First thing I decided was number of layers based on receptive field\n",
        "- Object size in the dataset can be covered in 26x26 receptive field but to make the model robust for exception cases, I have designed architecture for 28x28 receptive field\n",
        "- Second thing was placement of MaxPooling layer. For MNIST dataset, edges and gradients can be found in the recpetive field of 5x5 but I have used MP after 7x7 so that strong edges are developed before the use of MP\n",
        "- As mentioned in the session, at the end of pyramid we add padding to the last 2-3 before converting to 1D array\n",
        "- This approach also helped to increase the receptive field\n",
        "- Then, I reduced the kernel number in layers so that total number of parameters came below 20,000 to around 15000\n",
        "- After training model for 20 epochs, accuracy wasn't improving so I increased the number of kernels slightly to get better results\n",
        "- This helped in improving the accuracy but model started overfitting\n",
        "- So I added dropout layer with 10% dropout and got an accuracy of **99.37%**\n",
        "- After retraining the model with validation accuracy at each epoch, I got an accuracy of **99.51%**\n",
        "\n"
      ]
    },
    {
      "cell_type": "markdown",
      "metadata": {
        "id": "d2PEwIVMbZFI",
        "colab_type": "text"
      },
      "source": [
        "### Compile Model\n",
        "- **Loss Function:**\n",
        "  - Loss function is used to calculate the error  between the prediction and actual label\n",
        "  - Using optimizer, we reduce the value of loss function as much as possible\n",
        "  - [More about cross-entropy loss](https://towardsdatascience.com/demystifying-cross-entropy-e80e3ad54a8)\n",
        "\n",
        "- **Optimizer:**\n",
        "  - Optimizers decide by how much value the weights should be changed while training the network \n",
        "  - Adam (Adaptive Moment Estimation) uses a complicated exponential decay that consists of the average and the variance of the previous steps.\n",
        "  - [More about optimizers](http://ruder.io/optimizing-gradient-descent/index.html#rmsprop)\n",
        "  \n",
        "- **Metrics:**\n",
        "  - The training progress of the model is calculated in terms of metrics used\n",
        "  - Here, we monitor the progress of the training in terms of accuracy"
      ]
    },
    {
      "cell_type": "code",
      "metadata": {
        "id": "Zp6SuGrL9M3h",
        "colab_type": "code",
        "colab": {}
      },
      "source": [
        "model.compile(loss='categorical_crossentropy', optimizer='adam', metrics=['accuracy'])"
      ],
      "execution_count": 0,
      "outputs": []
    },
    {
      "cell_type": "markdown",
      "metadata": {
        "id": "uDAUQu6CbbZD",
        "colab_type": "text"
      },
      "source": [
        "### Training the Model\n",
        "- Model is trained on training images and its labels\n",
        "- Model is trained on batch_size of 32 that is, 32 images are passed through the network at a time\n",
        "- The model is trained on the dataset for 10 iterations (epochs)\n",
        "- Verbose 1 means it will print all the training information"
      ]
    },
    {
      "cell_type": "code",
      "metadata": {
        "id": "VzyuqACn35qx",
        "colab_type": "code",
        "outputId": "8746c5e9-7de4-4967-a22d-7c85c2eefed1",
        "colab": {
          "base_uri": "https://localhost:8080/",
          "height": 1801
        }
      },
      "source": [
        "model.fit(X_train, Y_train, batch_size=128, epochs=50, verbose=1, validation_data=(X_test, Y_test))"
      ],
      "execution_count": 13,
      "outputs": [
        {
          "output_type": "stream",
          "text": [
            "WARNING:tensorflow:From /usr/local/lib/python3.6/dist-packages/tensorflow/python/ops/math_ops.py:3066: to_int32 (from tensorflow.python.ops.math_ops) is deprecated and will be removed in a future version.\n",
            "Instructions for updating:\n",
            "Use tf.cast instead.\n",
            "Train on 60000 samples, validate on 10000 samples\n",
            "Epoch 1/50\n",
            "60000/60000 [==============================] - 11s 188us/step - loss: 0.7496 - acc: 0.7468 - val_loss: 0.1783 - val_acc: 0.9457\n",
            "Epoch 2/50\n",
            "60000/60000 [==============================] - 6s 102us/step - loss: 0.2329 - acc: 0.9283 - val_loss: 0.1029 - val_acc: 0.9683\n",
            "Epoch 3/50\n",
            "60000/60000 [==============================] - 6s 102us/step - loss: 0.1614 - acc: 0.9518 - val_loss: 0.0691 - val_acc: 0.9788\n",
            "Epoch 4/50\n",
            "60000/60000 [==============================] - 6s 101us/step - loss: 0.1286 - acc: 0.9623 - val_loss: 0.0658 - val_acc: 0.9788\n",
            "Epoch 5/50\n",
            "60000/60000 [==============================] - 6s 101us/step - loss: 0.1119 - acc: 0.9672 - val_loss: 0.0525 - val_acc: 0.9847\n",
            "Epoch 6/50\n",
            "60000/60000 [==============================] - 6s 105us/step - loss: 0.1000 - acc: 0.9701 - val_loss: 0.0460 - val_acc: 0.9866\n",
            "Epoch 7/50\n",
            "60000/60000 [==============================] - 6s 105us/step - loss: 0.0918 - acc: 0.9721 - val_loss: 0.0463 - val_acc: 0.9866\n",
            "Epoch 8/50\n",
            "60000/60000 [==============================] - 6s 101us/step - loss: 0.0846 - acc: 0.9747 - val_loss: 0.0387 - val_acc: 0.9885\n",
            "Epoch 9/50\n",
            "60000/60000 [==============================] - 6s 100us/step - loss: 0.0776 - acc: 0.9768 - val_loss: 0.0401 - val_acc: 0.9876\n",
            "Epoch 10/50\n",
            "60000/60000 [==============================] - 6s 102us/step - loss: 0.0703 - acc: 0.9787 - val_loss: 0.0363 - val_acc: 0.9881\n",
            "Epoch 11/50\n",
            "60000/60000 [==============================] - 6s 101us/step - loss: 0.0676 - acc: 0.9801 - val_loss: 0.0302 - val_acc: 0.9907\n",
            "Epoch 12/50\n",
            "60000/60000 [==============================] - 6s 101us/step - loss: 0.0643 - acc: 0.9813 - val_loss: 0.0310 - val_acc: 0.9906\n",
            "Epoch 13/50\n",
            "60000/60000 [==============================] - 6s 101us/step - loss: 0.0614 - acc: 0.9817 - val_loss: 0.0358 - val_acc: 0.9896\n",
            "Epoch 14/50\n",
            "60000/60000 [==============================] - 6s 100us/step - loss: 0.0615 - acc: 0.9814 - val_loss: 0.0345 - val_acc: 0.9891\n",
            "Epoch 15/50\n",
            "60000/60000 [==============================] - 6s 100us/step - loss: 0.0587 - acc: 0.9827 - val_loss: 0.0343 - val_acc: 0.9906\n",
            "Epoch 16/50\n",
            "60000/60000 [==============================] - 6s 101us/step - loss: 0.0552 - acc: 0.9831 - val_loss: 0.0299 - val_acc: 0.9903\n",
            "Epoch 17/50\n",
            "60000/60000 [==============================] - 6s 102us/step - loss: 0.0525 - acc: 0.9843 - val_loss: 0.0275 - val_acc: 0.9916\n",
            "Epoch 18/50\n",
            "60000/60000 [==============================] - 6s 101us/step - loss: 0.0536 - acc: 0.9838 - val_loss: 0.0278 - val_acc: 0.9922\n",
            "Epoch 19/50\n",
            "60000/60000 [==============================] - 6s 104us/step - loss: 0.0506 - acc: 0.9851 - val_loss: 0.0318 - val_acc: 0.9907\n",
            "Epoch 20/50\n",
            "60000/60000 [==============================] - 6s 106us/step - loss: 0.0508 - acc: 0.9847 - val_loss: 0.0257 - val_acc: 0.9925\n",
            "Epoch 21/50\n",
            "60000/60000 [==============================] - 6s 100us/step - loss: 0.0503 - acc: 0.9850 - val_loss: 0.0277 - val_acc: 0.9921\n",
            "Epoch 22/50\n",
            "60000/60000 [==============================] - 6s 101us/step - loss: 0.0467 - acc: 0.9858 - val_loss: 0.0292 - val_acc: 0.9915\n",
            "Epoch 23/50\n",
            "60000/60000 [==============================] - 6s 100us/step - loss: 0.0470 - acc: 0.9855 - val_loss: 0.0327 - val_acc: 0.9909\n",
            "Epoch 24/50\n",
            "60000/60000 [==============================] - 6s 100us/step - loss: 0.0435 - acc: 0.9867 - val_loss: 0.0299 - val_acc: 0.9908\n",
            "Epoch 25/50\n",
            "60000/60000 [==============================] - 6s 105us/step - loss: 0.0441 - acc: 0.9866 - val_loss: 0.0262 - val_acc: 0.9928\n",
            "Epoch 26/50\n",
            "60000/60000 [==============================] - 6s 108us/step - loss: 0.0435 - acc: 0.9872 - val_loss: 0.0261 - val_acc: 0.9918\n",
            "Epoch 27/50\n",
            "60000/60000 [==============================] - 7s 109us/step - loss: 0.0407 - acc: 0.9879 - val_loss: 0.0283 - val_acc: 0.9918\n",
            "Epoch 28/50\n",
            "60000/60000 [==============================] - 6s 108us/step - loss: 0.0427 - acc: 0.9870 - val_loss: 0.0273 - val_acc: 0.9926\n",
            "Epoch 29/50\n",
            "60000/60000 [==============================] - 6s 108us/step - loss: 0.0429 - acc: 0.9872 - val_loss: 0.0244 - val_acc: 0.9932\n",
            "Epoch 30/50\n",
            "60000/60000 [==============================] - 7s 109us/step - loss: 0.0406 - acc: 0.9880 - val_loss: 0.0263 - val_acc: 0.9927\n",
            "Epoch 31/50\n",
            "60000/60000 [==============================] - 7s 109us/step - loss: 0.0393 - acc: 0.9880 - val_loss: 0.0276 - val_acc: 0.9917\n",
            "Epoch 32/50\n",
            "60000/60000 [==============================] - 7s 113us/step - loss: 0.0389 - acc: 0.9884 - val_loss: 0.0266 - val_acc: 0.9918\n",
            "Epoch 33/50\n",
            "60000/60000 [==============================] - 7s 111us/step - loss: 0.0389 - acc: 0.9883 - val_loss: 0.0254 - val_acc: 0.9926\n",
            "Epoch 34/50\n",
            "60000/60000 [==============================] - 7s 109us/step - loss: 0.0383 - acc: 0.9883 - val_loss: 0.0247 - val_acc: 0.9930\n",
            "Epoch 35/50\n",
            "60000/60000 [==============================] - 6s 108us/step - loss: 0.0374 - acc: 0.9889 - val_loss: 0.0260 - val_acc: 0.9924\n",
            "Epoch 36/50\n",
            "60000/60000 [==============================] - 7s 109us/step - loss: 0.0388 - acc: 0.9882 - val_loss: 0.0271 - val_acc: 0.9927\n",
            "Epoch 37/50\n",
            "60000/60000 [==============================] - 7s 110us/step - loss: 0.0364 - acc: 0.9885 - val_loss: 0.0266 - val_acc: 0.9928\n",
            "Epoch 38/50\n",
            "60000/60000 [==============================] - 7s 116us/step - loss: 0.0357 - acc: 0.9893 - val_loss: 0.0230 - val_acc: 0.9931\n",
            "Epoch 39/50\n",
            "60000/60000 [==============================] - 7s 110us/step - loss: 0.0344 - acc: 0.9894 - val_loss: 0.0266 - val_acc: 0.9923\n",
            "Epoch 40/50\n",
            "60000/60000 [==============================] - 7s 113us/step - loss: 0.0344 - acc: 0.9897 - val_loss: 0.0244 - val_acc: 0.9930\n",
            "Epoch 41/50\n",
            "60000/60000 [==============================] - 7s 109us/step - loss: 0.0343 - acc: 0.9892 - val_loss: 0.0232 - val_acc: 0.9929\n",
            "Epoch 42/50\n",
            "60000/60000 [==============================] - 7s 109us/step - loss: 0.0343 - acc: 0.9897 - val_loss: 0.0227 - val_acc: 0.9941\n",
            "Epoch 43/50\n",
            "60000/60000 [==============================] - 6s 108us/step - loss: 0.0343 - acc: 0.9890 - val_loss: 0.0217 - val_acc: 0.9934\n",
            "Epoch 44/50\n",
            "60000/60000 [==============================] - 7s 113us/step - loss: 0.0325 - acc: 0.9903 - val_loss: 0.0266 - val_acc: 0.9925\n",
            "Epoch 45/50\n",
            "60000/60000 [==============================] - 7s 112us/step - loss: 0.0333 - acc: 0.9897 - val_loss: 0.0260 - val_acc: 0.9927\n",
            "Epoch 46/50\n",
            "60000/60000 [==============================] - 6s 108us/step - loss: 0.0338 - acc: 0.9898 - val_loss: 0.0220 - val_acc: 0.9942\n",
            "Epoch 47/50\n",
            "60000/60000 [==============================] - 6s 108us/step - loss: 0.0334 - acc: 0.9898 - val_loss: 0.0240 - val_acc: 0.9929\n",
            "Epoch 48/50\n",
            "60000/60000 [==============================] - 7s 109us/step - loss: 0.0321 - acc: 0.9899 - val_loss: 0.0250 - val_acc: 0.9931\n",
            "Epoch 49/50\n",
            "60000/60000 [==============================] - 6s 108us/step - loss: 0.0322 - acc: 0.9899 - val_loss: 0.0302 - val_acc: 0.9918\n",
            "Epoch 50/50\n",
            "60000/60000 [==============================] - 7s 109us/step - loss: 0.0323 - acc: 0.9900 - val_loss: 0.0188 - val_acc: 0.9951\n"
          ],
          "name": "stdout"
        },
        {
          "output_type": "execute_result",
          "data": {
            "text/plain": [
              "<keras.callbacks.History at 0x7f1a476444a8>"
            ]
          },
          "metadata": {
            "tags": []
          },
          "execution_count": 13
        }
      ]
    },
    {
      "cell_type": "markdown",
      "metadata": {
        "id": "YXma7Ya5bmD5",
        "colab_type": "text"
      },
      "source": [
        "### Evaluate the Model\n",
        "- Performance of the model is evaluated on the tetsing datasets (images which the network has not seen)"
      ]
    },
    {
      "cell_type": "code",
      "metadata": {
        "id": "AtsH-lLk-eLb",
        "colab_type": "code",
        "outputId": "276c6787-226d-4466-a8b8-930e25c8bf7b",
        "colab": {
          "base_uri": "https://localhost:8080/",
          "height": 34
        }
      },
      "source": [
        "score = model.evaluate(X_test, Y_test, verbose=0)\n",
        "print(score) "
      ],
      "execution_count": 14,
      "outputs": [
        {
          "output_type": "stream",
          "text": [
            "[0.018759749712351184, 0.9951]\n"
          ],
          "name": "stdout"
        }
      ]
    },
    {
      "cell_type": "markdown",
      "metadata": {
        "id": "o0_VWnvububV",
        "colab_type": "text"
      },
      "source": [
        "### Model Accuracy \n",
        "The accuracy of the model is **99.51%**"
      ]
    },
    {
      "cell_type": "markdown",
      "metadata": {
        "id": "G-kmgZcKb2sr",
        "colab_type": "text"
      },
      "source": [
        "### Check all the prediction for testig dataset"
      ]
    },
    {
      "cell_type": "code",
      "metadata": {
        "id": "OCWoJkwE9suh",
        "colab_type": "code",
        "colab": {}
      },
      "source": [
        "y_pred = model.predict(X_test)"
      ],
      "execution_count": 0,
      "outputs": []
    },
    {
      "cell_type": "markdown",
      "metadata": {
        "id": "lyZF3gi-b4Dz",
        "colab_type": "text"
      },
      "source": [
        "### Print 10 predictions and labels (ground-truth)"
      ]
    },
    {
      "cell_type": "code",
      "metadata": {
        "id": "Ym7iCFBm9uBs",
        "colab_type": "code",
        "outputId": "f429535d-d9f9-4e17-8530-5a06eecbca7a",
        "colab": {
          "base_uri": "https://localhost:8080/",
          "height": 336
        }
      },
      "source": [
        "print(y_pred[:9])\n",
        "print(y_test[:9])"
      ],
      "execution_count": 17,
      "outputs": [
        {
          "output_type": "stream",
          "text": [
            "[[4.1407822e-14 6.5365859e-09 4.5612063e-07 1.4611366e-07 1.7155796e-06\n",
            "  2.9385125e-10 3.7096406e-19 9.9999726e-01 4.1225395e-10 4.9356271e-07]\n",
            " [2.1075737e-06 1.5480441e-06 9.9998355e-01 1.2407160e-09 5.8535170e-06\n",
            "  3.0587628e-07 8.9529175e-07 5.4062270e-09 5.7403217e-06 1.7498066e-13]\n",
            " [2.9157320e-16 9.9999964e-01 1.8606471e-10 1.1132114e-09 2.4545429e-07\n",
            "  6.0069929e-08 5.0813221e-12 5.1154259e-08 2.3337754e-09 1.5635312e-11]\n",
            " [9.9983370e-01 2.2077321e-10 8.3476704e-07 1.2991472e-09 3.9120319e-08\n",
            "  4.8287067e-08 1.6145894e-04 1.1153666e-09 3.7450393e-06 1.9245928e-07]\n",
            " [4.5766646e-12 1.8722435e-08 2.6157229e-10 6.2716390e-12 9.9705708e-01\n",
            "  6.4140977e-09 1.1918606e-04 3.2648098e-09 2.5196025e-06 2.8212604e-03]\n",
            " [1.2096205e-16 9.9999952e-01 4.6155014e-11 8.0989776e-10 2.4658749e-07\n",
            "  1.2590841e-07 8.2702144e-12 7.2950442e-08 2.4492577e-09 4.2766273e-11]\n",
            " [3.5478644e-15 4.9873876e-08 4.9964703e-12 2.0761524e-11 9.9989307e-01\n",
            "  5.1606641e-08 7.5271869e-09 1.2710096e-06 2.5950675e-07 1.0528925e-04]\n",
            " [8.7804458e-11 2.0984509e-11 7.5435097e-10 9.9428235e-09 6.6100292e-05\n",
            "  5.1466282e-07 9.3090136e-12 7.9271899e-08 2.9525896e-07 9.9993300e-01]\n",
            " [1.7298050e-03 1.7121682e-04 2.5445720e-06 2.0508089e-05 1.0383112e-03\n",
            "  1.4152433e-01 8.3527619e-01 2.8683319e-06 1.9545699e-02 6.8847416e-04]]\n",
            "[7 2 1 0 4 1 4 9 5]\n"
          ],
          "name": "stdout"
        }
      ]
    },
    {
      "cell_type": "markdown",
      "metadata": {
        "id": "bKwP8nJDcEO5",
        "colab_type": "text"
      },
      "source": [
        "---\n",
        "\n",
        "### Visualization of Filters in a Layer"
      ]
    },
    {
      "cell_type": "code",
      "metadata": {
        "id": "CT--y98_dr2T",
        "colab_type": "code",
        "colab": {}
      },
      "source": [
        "layer_dict = dict([(layer.name, layer) for layer in model.layers])"
      ],
      "execution_count": 0,
      "outputs": []
    },
    {
      "cell_type": "code",
      "metadata": {
        "id": "2GY4Upv4dsUR",
        "colab_type": "code",
        "outputId": "39bdf932-ed74-4ea5-da69-bdd3fa406271",
        "colab": {
          "base_uri": "https://localhost:8080/",
          "height": 741
        }
      },
      "source": [
        "import numpy as np\n",
        "from matplotlib import pyplot as plt\n",
        "from keras import backend as K\n",
        "%matplotlib inline\n",
        "# util function to convert a tensor into a valid image\n",
        "def deprocess_image(x):\n",
        "    # normalize tensor: center on 0., ensure std is 0.1\n",
        "    x -= x.mean()\n",
        "    x /= (x.std() + 1e-5)\n",
        "    x *= 0.1\n",
        "\n",
        "    # clip to [0, 1]\n",
        "    x += 0.5\n",
        "    x = np.clip(x, 0, 1)\n",
        "\n",
        "    # convert to RGB array\n",
        "    x *= 255\n",
        "    #x = x.transpose((1, 2, 0))\n",
        "    x = np.clip(x, 0, 255).astype('uint8')\n",
        "    return x\n",
        "\n",
        "def vis_img_in_filter(img = np.array(X_train[2]).reshape((1, 28, 28, 1)).astype(np.float64), \n",
        "                      layer_name = 'conv_7'):\n",
        "    layer_output = layer_dict[layer_name].output\n",
        "    img_ascs = list()\n",
        "    for filter_index in range(layer_output.shape[3]):\n",
        "        # build a loss function that maximizes the activation\n",
        "        # of the nth filter of the layer considered\n",
        "        loss = K.mean(layer_output[:, :, :, filter_index])\n",
        "\n",
        "        # compute the gradient of the input picture wrt this loss\n",
        "        grads = K.gradients(loss, model.input)[0]\n",
        "\n",
        "        # normalization trick: we normalize the gradient\n",
        "        grads /= (K.sqrt(K.mean(K.square(grads))) + 1e-5)\n",
        "\n",
        "        # this function returns the loss and grads given the input picture\n",
        "        iterate = K.function([model.input], [loss, grads])\n",
        "\n",
        "        # step size for gradient ascent\n",
        "        step = 5.\n",
        "\n",
        "        img_asc = np.array(img)\n",
        "        # run gradient ascent for 20 steps\n",
        "        for i in range(20):\n",
        "            loss_value, grads_value = iterate([img_asc])\n",
        "            img_asc += grads_value * step\n",
        "\n",
        "        img_asc = img_asc[0]\n",
        "        img_ascs.append(deprocess_image(img_asc).reshape((28, 28)))\n",
        "        \n",
        "    if layer_output.shape[3] >= 35:\n",
        "        plot_x, plot_y = 6, 6\n",
        "    elif layer_output.shape[3] >= 23:\n",
        "        plot_x, plot_y = 4, 6\n",
        "    elif layer_output.shape[3] >= 11:\n",
        "        plot_x, plot_y = 2, 6\n",
        "    else:\n",
        "        plot_x, plot_y = 1, 2\n",
        "    fig, ax = plt.subplots(plot_x, plot_y, figsize = (12, 12))\n",
        "    ax[0, 0].imshow(img.reshape((28, 28)), cmap = 'gray')\n",
        "    ax[0, 0].set_title('Input image')\n",
        "    fig.suptitle('Input image and %s filters' % (layer_name,))\n",
        "    fig.tight_layout(pad = 0.3, rect = [0, 0, 0.9, 0.9])\n",
        "    for (x, y) in [(i, j) for i in range(plot_x) for j in range(plot_y)]:\n",
        "        if x == 0 and y == 0:\n",
        "            continue\n",
        "        ax[x, y].imshow(img_ascs[x * plot_y + y - 1], cmap = 'gray')\n",
        "        ax[x, y].set_title('filter %d' % (x * plot_y + y - 1))\n",
        "\n",
        "vis_img_in_filter()"
      ],
      "execution_count": 19,
      "outputs": [
        {
          "output_type": "display_data",
          "data": {
            "image/png": "[encoded data removed]",
            "text/plain": [
              "<Figure size 864x864 with 12 Axes>"
            ]
          },
          "metadata": {
            "tags": []
          }
        }
      ]
    }
  ]
}