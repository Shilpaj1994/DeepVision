{
  "nbformat": 4,
  "nbformat_minor": 0,
  "metadata": {
    "colab": {
      "name": "6A_2.ipynb",
      "version": "0.3.2",
      "provenance": [],
      "collapsed_sections": []
    },
    "kernelspec": {
      "name": "python3",
      "display_name": "Python 3"
    },
    "accelerator": "GPU"
  },
  "cells": [
    {
      "cell_type": "markdown",
      "metadata": {
        "id": "bQQuNghqYOMU",
        "colab_type": "text"
      },
      "source": [
        "# Base Accuracy:\n",
        "- The base accuracy after training for 100 epochs is **83.54%**\n",
        "- So the target is to beat this accuracy with modifivations in the model"
      ]
    },
    {
      "cell_type": "markdown",
      "metadata": {
        "id": "XhYxNwZN0Xhg",
        "colab_type": "text"
      },
      "source": [
        "## Import Modules and Libraries"
      ]
    },
    {
      "cell_type": "code",
      "metadata": {
        "id": "KkwXnw9OfHZl",
        "colab_type": "code",
        "outputId": "503188e8-9aef-4067-c8aa-ab85748a2c0f",
        "colab": {
          "base_uri": "https://localhost:8080/",
          "height": 34
        }
      },
      "source": [
        "from keras import backend as K\n",
        "import time\n",
        "import matplotlib.pyplot as plt\n",
        "import numpy as np\n",
        "% matplotlib inline\n",
        "np.random.seed(2017) \n",
        "from keras.models import Sequential\n",
        "from keras.layers.convolutional import Convolution2D, MaxPooling2D\n",
        "from keras.layers import Activation, Flatten, Dense, Dropout\n",
        "from keras.layers.normalization import BatchNormalization\n",
        "from keras.utils import np_utils"
      ],
      "execution_count": 0,
      "outputs": [
        {
          "output_type": "stream",
          "text": [
            "Using TensorFlow backend.\n"
          ],
          "name": "stderr"
        }
      ]
    },
    {
      "cell_type": "markdown",
      "metadata": {
        "id": "sx_VzSIYsueF",
        "colab_type": "text"
      },
      "source": [
        "## Import CiFAR Dataset\n",
        "- It is a more advance dataset compared to MNIST\n",
        "- It has 10 classes \n",
        "- The dimension of the images are 32x32x3 since it is a RGB image\n",
        "- Shown below are the classses in the CiFAR dataset\n",
        "- Like MNIST, CiFAR also has 50K training images and labels as well as 10K test images and labels"
      ]
    },
    {
      "cell_type": "code",
      "metadata": {
        "id": "NHpnoCHZfO8g",
        "colab_type": "code",
        "outputId": "4e438049-d0a7-40f3-8c4e-511abf72e074",
        "colab": {
          "base_uri": "https://localhost:8080/",
          "height": 51
        }
      },
      "source": [
        "from keras.datasets import cifar10\n",
        "(train_features, train_labels), (test_features, test_labels) = cifar10.load_data()\n",
        "num_train, img_channels, img_rows, img_cols =  train_features.shape\n",
        "num_test, _, _, _ =  test_features.shape\n",
        "num_classes = len(np.unique(train_labels))"
      ],
      "execution_count": 0,
      "outputs": [
        {
          "output_type": "stream",
          "text": [
            "Downloading data from https://www.cs.toronto.edu/~kriz/cifar-10-python.tar.gz\n",
            "170500096/170498071 [==============================] - 55s 0us/step\n"
          ],
          "name": "stdout"
        }
      ]
    },
    {
      "cell_type": "markdown",
      "metadata": {
        "id": "CRODk5Tg1gkw",
        "colab_type": "text"
      },
      "source": [
        "## Print training data dimensions"
      ]
    },
    {
      "cell_type": "code",
      "metadata": {
        "id": "BFxBSJeeUcQo",
        "colab_type": "code",
        "outputId": "5c73758d-6c97-4242-b67d-583a67bbb711",
        "colab": {
          "base_uri": "https://localhost:8080/",
          "height": 34
        }
      },
      "source": [
        "print(train_features.shape)"
      ],
      "execution_count": 0,
      "outputs": [
        {
          "output_type": "stream",
          "text": [
            "(50000, 32, 32, 3)\n"
          ],
          "name": "stdout"
        }
      ]
    },
    {
      "cell_type": "markdown",
      "metadata": {
        "id": "unYM-914uF5Q",
        "colab_type": "text"
      },
      "source": [
        "## Displaying a sample from each class of the dataset"
      ]
    },
    {
      "cell_type": "code",
      "metadata": {
        "id": "14HyBUXdfS6G",
        "colab_type": "code",
        "outputId": "91ec8bf4-1bcd-4aa1-dfbe-862437bb549a",
        "colab": {
          "base_uri": "https://localhost:8080/",
          "height": 213
        }
      },
      "source": [
        "class_names = ['airplane','automobile','bird','cat','deer',\n",
        "               'dog','frog','horse','ship','truck']\n",
        "fig = plt.figure(figsize=(8,3))\n",
        "for i in range(num_classes):\n",
        "    ax = fig.add_subplot(2, 5, 1 + i, xticks=[], yticks=[])\n",
        "    idx = np.where(train_labels[:]==i)[0]\n",
        "    features_idx = train_features[idx,::]\n",
        "    img_num = np.random.randint(features_idx.shape[0])\n",
        "    im = features_idx[img_num]\n",
        "    ax.set_title(class_names[i])\n",
        "    plt.imshow(im)\n",
        "plt.show()"
      ],
      "execution_count": 0,
      "outputs": [
        {
          "output_type": "display_data",
          "data": {
            "image/png": "[encoded data removed]",
            "text/plain": [
              "<Figure size 576x216 with 10 Axes>"
            ]
          },
          "metadata": {
            "tags": []
          }
        }
      ]
    },
    {
      "cell_type": "markdown",
      "metadata": {
        "id": "9ebR1EcAuNDK",
        "colab_type": "text"
      },
      "source": [
        "## Function for plotting accuracy and loss during model training"
      ]
    },
    {
      "cell_type": "code",
      "metadata": {
        "id": "bmfsk76-fadV",
        "colab_type": "code",
        "colab": {}
      },
      "source": [
        "def plot_model_history(model_history):\n",
        "    fig, axs = plt.subplots(1,2,figsize=(15,5))\n",
        "    # summarize history for accuracy\n",
        "    axs[0].plot(range(1,len(model_history.history['acc'])+1),model_history.history['acc'])\n",
        "    axs[0].plot(range(1,len(model_history.history['val_acc'])+1),model_history.history['val_acc'])\n",
        "    axs[0].set_title('Model Accuracy')\n",
        "    axs[0].set_ylabel('Accuracy')\n",
        "    axs[0].set_xlabel('Epoch')\n",
        "    axs[0].set_xticks(np.arange(1,len(model_history.history['acc'])+1),len(model_history.history['acc'])/10)\n",
        "    axs[0].legend(['train', 'val'], loc='best')\n",
        "    # summarize history for loss\n",
        "    axs[1].plot(range(1,len(model_history.history['loss'])+1),model_history.history['loss'])\n",
        "    axs[1].plot(range(1,len(model_history.history['val_loss'])+1),model_history.history['val_loss'])\n",
        "    axs[1].set_title('Model Loss')\n",
        "    axs[1].set_ylabel('Loss')\n",
        "    axs[1].set_xlabel('Epoch')\n",
        "    axs[1].set_xticks(np.arange(1,len(model_history.history['loss'])+1),len(model_history.history['loss'])/10)\n",
        "    axs[1].legend(['train', 'val'], loc='best')\n",
        "    plt.show()"
      ],
      "execution_count": 0,
      "outputs": []
    },
    {
      "cell_type": "markdown",
      "metadata": {
        "id": "xjIl8rJvxd6L",
        "colab_type": "text"
      },
      "source": [
        "## Accuracy Calculation for a model"
      ]
    },
    {
      "cell_type": "code",
      "metadata": {
        "id": "YJMT4rjgfdZz",
        "colab_type": "code",
        "colab": {}
      },
      "source": [
        "def accuracy(test_x, test_y, model):\n",
        "    result = model.predict(test_x)\n",
        "    predicted_class = np.argmax(result, axis=1)\n",
        "    true_class = np.argmax(test_y, axis=1)\n",
        "    num_correct = np.sum(predicted_class == true_class) \n",
        "    accuracy = float(num_correct)/result.shape[0]\n",
        "    return (accuracy * 100)"
      ],
      "execution_count": 0,
      "outputs": []
    },
    {
      "cell_type": "markdown",
      "metadata": {
        "id": "NSEMO4THxmKG",
        "colab_type": "text"
      },
      "source": [
        "## Data Float Conversion , remapping pixel values between 0 & 1, and One-Hot encoding"
      ]
    },
    {
      "cell_type": "code",
      "metadata": {
        "id": "T5c5nDvxm6zR",
        "colab_type": "code",
        "colab": {}
      },
      "source": [
        "train_features = train_features.astype('float32')/255\n",
        "test_features = test_features.astype('float32')/255\n",
        "# convert class labels to binary class labels\n",
        "train_labels = np_utils.to_categorical(train_labels, num_classes)\n",
        "test_labels = np_utils.to_categorical(test_labels, num_classes)"
      ],
      "execution_count": 0,
      "outputs": []
    },
    {
      "cell_type": "markdown",
      "metadata": {
        "id": "qx2UQ-GHyENN",
        "colab_type": "text"
      },
      "source": [
        "## Model Architecture and Compiling Model\n",
        "- First thing I changed is the model architecture\n",
        "- I have implemented a model with convolution block, transition block and output block\n",
        "![](model.png)\n",
        "- The convolution blocks extract the features from the data while the transition block combine this information in fewer channels and also reduce the size of the model\n",
        "- The number of layers were added bassed on the Receptive field of the model\n",
        "- With the below changes in the architecture, I got an accuracy around the base accuraccy \n",
        "- Then, I reduced number of kernels to reduce the number of parameters\n",
        "- Then I added Dropout to reduce the overfitting\n",
        "- Adding Batch Normalization layer gave the required accuracy within 100 epochs\n",
        "- **Accuracy of 84.32% was achieved in 87th epoch**"
      ]
    },
    {
      "cell_type": "code",
      "metadata": {
        "id": "cSOb2lkJfhVq",
        "colab_type": "code",
        "outputId": "a36fc5ad-b39b-455d-eeac-0d963d30bccf",
        "colab": {
          "base_uri": "https://localhost:8080/",
          "height": 357
        }
      },
      "source": [
        "# Define the model\n",
        "model = Sequential()\n",
        "\n",
        "drop = 0.35\n",
        "\n",
        "# Convolution Block\n",
        "model.add(Convolution2D(32, 3, 3, border_mode='same', input_shape=(32, 32, 3))) # Output: 32x32x32    |    Receptive Field: 3x3\n",
        "model.add(Activation('relu'))\n",
        "model.add(BatchNormalization())\n",
        "model.add(Convolution2D(64, 3, 3, border_mode='same'))                          # Output: 32x32x64    |    Receptive Field: 3x3\n",
        "model.add(Activation('relu'))\n",
        "model.add(BatchNormalization())\n",
        "model.add(Convolution2D(128, 3, 3, border_mode='same'))                         # Output: 32x32x128    |    Receptive Field: 3x3\n",
        "model.add(Activation('relu'))\n",
        "model.add(BatchNormalization())\n",
        "\n",
        "model.add(Dropout(drop))\n",
        "\n",
        "# Transition Block\n",
        "model.add(MaxPooling2D(pool_size=(2, 2)))                                       # Output: 16x16x128    |    Receptive Field: 6x6\n",
        "model.add(Convolution2D(64, 1, 1))                                              # Output: 16x16x64     |    Receptive Field: 6x6\n",
        "model.add(Activation('relu'))\n",
        "model.add(BatchNormalization())\n",
        "\n",
        "# Convolution Block\n",
        "model.add(Convolution2D(64, 3, 3, border_mode='same'))                          # Output: 16x16x64     |    Receptive Field: 6x6\n",
        "model.add(Activation('relu'))\n",
        "model.add(BatchNormalization())\n",
        "model.add(Convolution2D(128, 3, 3, border_mode='same'))                         # Output: 16x16x128    |    Receptive Field: 6x6\n",
        "model.add(BatchNormalization())\n",
        "model.add(Activation('relu'))\n",
        "\n",
        "model.add(Dropout(drop))\n",
        "\n",
        "# Transition Block\n",
        "model.add(MaxPooling2D(pool_size=(2, 2)))                                       # Output: 8x8x128      |    Receptive Field: 12x12 \n",
        "model.add(Convolution2D(64, 1, 1))                                              # Output: 8x8x64       |    Receptive Field: 12x12\n",
        "model.add(Activation('relu'))\n",
        "model.add(BatchNormalization())\n",
        "\n",
        "# Convolution Block\n",
        "model.add(Convolution2D(64, 3, 3, border_mode='same'))                          # Output: 8x8x64       |    Receptive Field: 12x12\n",
        "model.add(Activation('relu'))\n",
        "model.add(BatchNormalization())\n",
        "model.add(Convolution2D(128, 3, 3, border_mode='same'))                         # Output: 8x8x128      |    Receptive Field: 12x12\n",
        "model.add(Activation('relu'))\n",
        "model.add(BatchNormalization())\n",
        "\n",
        "model.add(Dropout(drop))\n",
        "\n",
        "# Transition Block\n",
        "model.add(Convolution2D(64, 1, 1))                                              # Output: 8x8x64       |    Receptive Field: 12x12\n",
        "model.add(BatchNormalization())\n",
        "model.add(Convolution2D(num_classes, 8, 8))                                     # Output: 1x1x10       |    Receptive Field:  20x20\n",
        "\n",
        "# Output Block\n",
        "model.add(Flatten())                                                            \n",
        "model.add(Activation('softmax'))\n",
        "\n",
        "# Compile the model\n",
        "model.compile(optimizer='adam', loss='categorical_crossentropy', metrics=['accuracy'])\n"
      ],
      "execution_count": 0,
      "outputs": [
        {
          "output_type": "stream",
          "text": [
            "WARNING:tensorflow:From /usr/local/lib/python3.6/dist-packages/tensorflow/python/framework/op_def_library.py:263: colocate_with (from tensorflow.python.framework.ops) is deprecated and will be removed in a future version.\n",
            "Instructions for updating:\n",
            "Colocations handled automatically by placer.\n"
          ],
          "name": "stdout"
        },
        {
          "output_type": "stream",
          "text": [
            "/usr/local/lib/python3.6/dist-packages/ipykernel_launcher.py:6: UserWarning: Update your `Conv2D` call to the Keras 2 API: `Conv2D(32, (3, 3), input_shape=(32, 32, 3..., padding=\"same\")`\n",
            "  \n"
          ],
          "name": "stderr"
        },
        {
          "output_type": "stream",
          "text": [
            "WARNING:tensorflow:From /usr/local/lib/python3.6/dist-packages/keras/backend/tensorflow_backend.py:3445: calling dropout (from tensorflow.python.ops.nn_ops) with keep_prob is deprecated and will be removed in a future version.\n",
            "Instructions for updating:\n",
            "Please use `rate` instead of `keep_prob`. Rate should be set to `rate = 1 - keep_prob`.\n"
          ],
          "name": "stdout"
        },
        {
          "output_type": "stream",
          "text": [
            "/usr/local/lib/python3.6/dist-packages/ipykernel_launcher.py:9: UserWarning: Update your `Conv2D` call to the Keras 2 API: `Conv2D(64, (3, 3), padding=\"same\")`\n",
            "  if __name__ == '__main__':\n",
            "/usr/local/lib/python3.6/dist-packages/ipykernel_launcher.py:12: UserWarning: Update your `Conv2D` call to the Keras 2 API: `Conv2D(128, (3, 3), padding=\"same\")`\n",
            "  if sys.path[0] == '':\n",
            "/usr/local/lib/python3.6/dist-packages/ipykernel_launcher.py:20: UserWarning: Update your `Conv2D` call to the Keras 2 API: `Conv2D(64, (1, 1))`\n",
            "/usr/local/lib/python3.6/dist-packages/ipykernel_launcher.py:25: UserWarning: Update your `Conv2D` call to the Keras 2 API: `Conv2D(64, (3, 3), padding=\"same\")`\n",
            "/usr/local/lib/python3.6/dist-packages/ipykernel_launcher.py:28: UserWarning: Update your `Conv2D` call to the Keras 2 API: `Conv2D(128, (3, 3), padding=\"same\")`\n",
            "/usr/local/lib/python3.6/dist-packages/ipykernel_launcher.py:36: UserWarning: Update your `Conv2D` call to the Keras 2 API: `Conv2D(64, (1, 1))`\n",
            "/usr/local/lib/python3.6/dist-packages/ipykernel_launcher.py:41: UserWarning: Update your `Conv2D` call to the Keras 2 API: `Conv2D(64, (3, 3), padding=\"same\")`\n",
            "/usr/local/lib/python3.6/dist-packages/ipykernel_launcher.py:44: UserWarning: Update your `Conv2D` call to the Keras 2 API: `Conv2D(128, (3, 3), padding=\"same\")`\n",
            "/usr/local/lib/python3.6/dist-packages/ipykernel_launcher.py:51: UserWarning: Update your `Conv2D` call to the Keras 2 API: `Conv2D(64, (1, 1))`\n",
            "/usr/local/lib/python3.6/dist-packages/ipykernel_launcher.py:53: UserWarning: Update your `Conv2D` call to the Keras 2 API: `Conv2D(10, (8, 8))`\n"
          ],
          "name": "stderr"
        }
      ]
    },
    {
      "cell_type": "markdown",
      "metadata": {
        "id": "ea-VdmRN_8V9",
        "colab_type": "text"
      },
      "source": [
        "## Model Summary"
      ]
    },
    {
      "cell_type": "code",
      "metadata": {
        "id": "wvVs5tC8mR6Q",
        "colab_type": "code",
        "outputId": "8f3ece8a-3087-421a-d3f8-3b468ccd972c",
        "colab": {
          "base_uri": "https://localhost:8080/",
          "height": 1394
        }
      },
      "source": [
        "model.summary()"
      ],
      "execution_count": 0,
      "outputs": [
        {
          "output_type": "stream",
          "text": [
            "_________________________________________________________________\n",
            "Layer (type)                 Output Shape              Param #   \n",
            "=================================================================\n",
            "conv2d_1 (Conv2D)            (None, 32, 32, 32)        896       \n",
            "_________________________________________________________________\n",
            "activation_1 (Activation)    (None, 32, 32, 32)        0         \n",
            "_________________________________________________________________\n",
            "batch_normalization_1 (Batch (None, 32, 32, 32)        128       \n",
            "_________________________________________________________________\n",
            "conv2d_2 (Conv2D)            (None, 32, 32, 64)        18496     \n",
            "_________________________________________________________________\n",
            "activation_2 (Activation)    (None, 32, 32, 64)        0         \n",
            "_________________________________________________________________\n",
            "batch_normalization_2 (Batch (None, 32, 32, 64)        256       \n",
            "_________________________________________________________________\n",
            "conv2d_3 (Conv2D)            (None, 32, 32, 128)       73856     \n",
            "_________________________________________________________________\n",
            "activation_3 (Activation)    (None, 32, 32, 128)       0         \n",
            "_________________________________________________________________\n",
            "batch_normalization_3 (Batch (None, 32, 32, 128)       512       \n",
            "_________________________________________________________________\n",
            "dropout_1 (Dropout)          (None, 32, 32, 128)       0         \n",
            "_________________________________________________________________\n",
            "max_pooling2d_1 (MaxPooling2 (None, 16, 16, 128)       0         \n",
            "_________________________________________________________________\n",
            "conv2d_4 (Conv2D)            (None, 16, 16, 64)        8256      \n",
            "_________________________________________________________________\n",
            "activation_4 (Activation)    (None, 16, 16, 64)        0         \n",
            "_________________________________________________________________\n",
            "batch_normalization_4 (Batch (None, 16, 16, 64)        256       \n",
            "_________________________________________________________________\n",
            "conv2d_5 (Conv2D)            (None, 16, 16, 64)        36928     \n",
            "_________________________________________________________________\n",
            "activation_5 (Activation)    (None, 16, 16, 64)        0         \n",
            "_________________________________________________________________\n",
            "batch_normalization_5 (Batch (None, 16, 16, 64)        256       \n",
            "_________________________________________________________________\n",
            "conv2d_6 (Conv2D)            (None, 16, 16, 128)       73856     \n",
            "_________________________________________________________________\n",
            "batch_normalization_6 (Batch (None, 16, 16, 128)       512       \n",
            "_________________________________________________________________\n",
            "activation_6 (Activation)    (None, 16, 16, 128)       0         \n",
            "_________________________________________________________________\n",
            "dropout_2 (Dropout)          (None, 16, 16, 128)       0         \n",
            "_________________________________________________________________\n",
            "max_pooling2d_2 (MaxPooling2 (None, 8, 8, 128)         0         \n",
            "_________________________________________________________________\n",
            "conv2d_7 (Conv2D)            (None, 8, 8, 64)          8256      \n",
            "_________________________________________________________________\n",
            "activation_7 (Activation)    (None, 8, 8, 64)          0         \n",
            "_________________________________________________________________\n",
            "batch_normalization_7 (Batch (None, 8, 8, 64)          256       \n",
            "_________________________________________________________________\n",
            "conv2d_8 (Conv2D)            (None, 8, 8, 64)          36928     \n",
            "_________________________________________________________________\n",
            "activation_8 (Activation)    (None, 8, 8, 64)          0         \n",
            "_________________________________________________________________\n",
            "batch_normalization_8 (Batch (None, 8, 8, 64)          256       \n",
            "_________________________________________________________________\n",
            "conv2d_9 (Conv2D)            (None, 8, 8, 128)         73856     \n",
            "_________________________________________________________________\n",
            "activation_9 (Activation)    (None, 8, 8, 128)         0         \n",
            "_________________________________________________________________\n",
            "batch_normalization_9 (Batch (None, 8, 8, 128)         512       \n",
            "_________________________________________________________________\n",
            "dropout_3 (Dropout)          (None, 8, 8, 128)         0         \n",
            "_________________________________________________________________\n",
            "conv2d_10 (Conv2D)           (None, 8, 8, 64)          8256      \n",
            "_________________________________________________________________\n",
            "batch_normalization_10 (Batc (None, 8, 8, 64)          256       \n",
            "_________________________________________________________________\n",
            "conv2d_11 (Conv2D)           (None, 1, 1, 10)          40970     \n",
            "_________________________________________________________________\n",
            "flatten_1 (Flatten)          (None, 10)                0         \n",
            "_________________________________________________________________\n",
            "activation_10 (Activation)   (None, 10)                0         \n",
            "=================================================================\n",
            "Total params: 383,754\n",
            "Trainable params: 382,154\n",
            "Non-trainable params: 1,600\n",
            "_________________________________________________________________\n"
          ],
          "name": "stdout"
        }
      ]
    },
    {
      "cell_type": "markdown",
      "metadata": {
        "id": "mcX36rqTAAuC",
        "colab_type": "text"
      },
      "source": [
        "## Model Training and progress tracking"
      ]
    },
    {
      "cell_type": "code",
      "metadata": {
        "id": "5oK_V7WyfsXX",
        "colab_type": "code",
        "outputId": "39670637-0f7c-49ac-c41c-254daa6f38cb",
        "colab": {
          "base_uri": "https://localhost:8080/",
          "height": 3923
        }
      },
      "source": [
        "from keras.preprocessing.image import ImageDataGenerator\n",
        "\n",
        "datagen = ImageDataGenerator(zoom_range=0.0, \n",
        "                             horizontal_flip=False)\n",
        "\n",
        "\n",
        "# train the model\n",
        "start = time.time()\n",
        "# Train the model\n",
        "model_info = model.fit_generator(datagen.flow(train_features, train_labels, batch_size = 128),\n",
        "                                 samples_per_epoch = train_features.shape[0], nb_epoch = 100, \n",
        "                                 validation_data = (test_features, test_labels), verbose=1)\n",
        "end = time.time()\n",
        "print (\"Model took %0.2f seconds to train\"%(end - start))\n",
        "# plot model history\n",
        "plot_model_history(model_info)\n",
        "# compute test accuracy\n",
        "print (\"Accuracy on test data is: %0.2f\"%accuracy(test_features, test_labels, model))"
      ],
      "execution_count": 0,
      "outputs": [
        {
          "output_type": "stream",
          "text": [
            "WARNING:tensorflow:From /usr/local/lib/python3.6/dist-packages/tensorflow/python/ops/math_ops.py:3066: to_int32 (from tensorflow.python.ops.math_ops) is deprecated and will be removed in a future version.\n",
            "Instructions for updating:\n",
            "Use tf.cast instead.\n"
          ],
          "name": "stdout"
        },
        {
          "output_type": "stream",
          "text": [
            "/usr/local/lib/python3.6/dist-packages/ipykernel_launcher.py:12: UserWarning: The semantics of the Keras 2 argument `steps_per_epoch` is not the same as the Keras 1 argument `samples_per_epoch`. `steps_per_epoch` is the number of batches to draw from the generator at each epoch. Basically steps_per_epoch = samples_per_epoch/batch_size. Similarly `nb_val_samples`->`validation_steps` and `val_samples`->`steps` arguments have changed. Update your method calls accordingly.\n",
            "  if sys.path[0] == '':\n",
            "/usr/local/lib/python3.6/dist-packages/ipykernel_launcher.py:12: UserWarning: Update your `fit_generator` call to the Keras 2 API: `fit_generator(<keras_pre..., validation_data=(array([[[..., verbose=1, steps_per_epoch=390, epochs=100)`\n",
            "  if sys.path[0] == '':\n"
          ],
          "name": "stderr"
        },
        {
          "output_type": "stream",
          "text": [
            "Epoch 1/100\n",
            "390/390 [==============================] - 29s 75ms/step - loss: 1.4607 - acc: 0.5004 - val_loss: 1.3312 - val_acc: 0.5229\n",
            "Epoch 2/100\n",
            "390/390 [==============================] - 25s 64ms/step - loss: 0.9303 - acc: 0.6753 - val_loss: 1.1876 - val_acc: 0.5823\n",
            "Epoch 3/100\n",
            "390/390 [==============================] - 24s 63ms/step - loss: 0.7445 - acc: 0.7402 - val_loss: 1.1738 - val_acc: 0.5880\n",
            "Epoch 4/100\n",
            "390/390 [==============================] - 24s 62ms/step - loss: 0.6409 - acc: 0.7783 - val_loss: 0.7512 - val_acc: 0.7430\n",
            "Epoch 5/100\n",
            "390/390 [==============================] - 24s 62ms/step - loss: 0.5608 - acc: 0.8036 - val_loss: 0.8781 - val_acc: 0.6843\n",
            "Epoch 6/100\n",
            "390/390 [==============================] - 24s 62ms/step - loss: 0.4985 - acc: 0.8278 - val_loss: 0.7295 - val_acc: 0.7495\n",
            "Epoch 7/100\n",
            "390/390 [==============================] - 24s 62ms/step - loss: 0.4513 - acc: 0.8436 - val_loss: 0.8789 - val_acc: 0.6988\n",
            "Epoch 8/100\n",
            "390/390 [==============================] - 24s 63ms/step - loss: 0.4076 - acc: 0.8582 - val_loss: 0.7336 - val_acc: 0.7504\n",
            "Epoch 9/100\n",
            "390/390 [==============================] - 24s 62ms/step - loss: 0.3709 - acc: 0.8704 - val_loss: 0.7708 - val_acc: 0.7308\n",
            "Epoch 10/100\n",
            "390/390 [==============================] - 24s 62ms/step - loss: 0.3358 - acc: 0.8830 - val_loss: 0.7091 - val_acc: 0.7568\n",
            "Epoch 11/100\n",
            "390/390 [==============================] - 24s 62ms/step - loss: 0.3123 - acc: 0.8883 - val_loss: 0.8976 - val_acc: 0.7016\n",
            "Epoch 12/100\n",
            "390/390 [==============================] - 24s 62ms/step - loss: 0.2839 - acc: 0.8994 - val_loss: 0.7161 - val_acc: 0.7646\n",
            "Epoch 13/100\n",
            "390/390 [==============================] - 24s 62ms/step - loss: 0.2684 - acc: 0.9040 - val_loss: 0.6345 - val_acc: 0.7874\n",
            "Epoch 14/100\n",
            "390/390 [==============================] - 24s 62ms/step - loss: 0.2500 - acc: 0.9119 - val_loss: 0.8110 - val_acc: 0.7489\n",
            "Epoch 15/100\n",
            "390/390 [==============================] - 24s 62ms/step - loss: 0.2263 - acc: 0.9193 - val_loss: 0.6551 - val_acc: 0.7895\n",
            "Epoch 16/100\n",
            "390/390 [==============================] - 24s 62ms/step - loss: 0.2126 - acc: 0.9244 - val_loss: 0.6726 - val_acc: 0.7845\n",
            "Epoch 17/100\n",
            "390/390 [==============================] - 24s 62ms/step - loss: 0.1958 - acc: 0.9297 - val_loss: 0.8163 - val_acc: 0.7511\n",
            "Epoch 18/100\n",
            "390/390 [==============================] - 24s 62ms/step - loss: 0.1894 - acc: 0.9317 - val_loss: 0.7223 - val_acc: 0.7870\n",
            "Epoch 19/100\n",
            "390/390 [==============================] - 24s 62ms/step - loss: 0.1764 - acc: 0.9371 - val_loss: 0.8120 - val_acc: 0.7614\n",
            "Epoch 20/100\n",
            "390/390 [==============================] - 24s 62ms/step - loss: 0.1671 - acc: 0.9399 - val_loss: 0.7684 - val_acc: 0.7748\n",
            "Epoch 21/100\n",
            "390/390 [==============================] - 24s 62ms/step - loss: 0.1564 - acc: 0.9440 - val_loss: 0.6980 - val_acc: 0.7951\n",
            "Epoch 22/100\n",
            "390/390 [==============================] - 24s 62ms/step - loss: 0.1462 - acc: 0.9486 - val_loss: 0.6537 - val_acc: 0.8073\n",
            "Epoch 23/100\n",
            "390/390 [==============================] - 24s 62ms/step - loss: 0.1435 - acc: 0.9481 - val_loss: 0.6956 - val_acc: 0.7988\n",
            "Epoch 24/100\n",
            "390/390 [==============================] - 24s 62ms/step - loss: 0.1392 - acc: 0.9506 - val_loss: 0.7457 - val_acc: 0.7851\n",
            "Epoch 25/100\n",
            "390/390 [==============================] - 24s 62ms/step - loss: 0.1312 - acc: 0.9519 - val_loss: 0.6962 - val_acc: 0.8085\n",
            "Epoch 26/100\n",
            "390/390 [==============================] - 24s 62ms/step - loss: 0.1218 - acc: 0.9571 - val_loss: 0.8724 - val_acc: 0.7709\n",
            "Epoch 27/100\n",
            "390/390 [==============================] - 24s 62ms/step - loss: 0.1221 - acc: 0.9564 - val_loss: 0.6528 - val_acc: 0.8171\n",
            "Epoch 28/100\n",
            "390/390 [==============================] - 24s 62ms/step - loss: 0.1187 - acc: 0.9571 - val_loss: 0.6809 - val_acc: 0.8115\n",
            "Epoch 29/100\n",
            "390/390 [==============================] - 24s 62ms/step - loss: 0.1072 - acc: 0.9628 - val_loss: 0.7176 - val_acc: 0.7994\n",
            "Epoch 30/100\n",
            "390/390 [==============================] - 24s 62ms/step - loss: 0.1053 - acc: 0.9620 - val_loss: 0.6971 - val_acc: 0.8113\n",
            "Epoch 31/100\n",
            "390/390 [==============================] - 24s 62ms/step - loss: 0.1009 - acc: 0.9640 - val_loss: 0.8254 - val_acc: 0.7880\n",
            "Epoch 32/100\n",
            "390/390 [==============================] - 24s 62ms/step - loss: 0.0993 - acc: 0.9644 - val_loss: 0.7393 - val_acc: 0.8037\n",
            "Epoch 33/100\n",
            "390/390 [==============================] - 24s 62ms/step - loss: 0.1045 - acc: 0.9629 - val_loss: 0.7270 - val_acc: 0.8091\n",
            "Epoch 34/100\n",
            "390/390 [==============================] - 24s 62ms/step - loss: 0.0903 - acc: 0.9672 - val_loss: 0.7264 - val_acc: 0.8093\n",
            "Epoch 35/100\n",
            "390/390 [==============================] - 24s 62ms/step - loss: 0.0872 - acc: 0.9686 - val_loss: 0.7432 - val_acc: 0.8059\n",
            "Epoch 36/100\n",
            "390/390 [==============================] - 24s 62ms/step - loss: 0.0889 - acc: 0.9687 - val_loss: 0.7620 - val_acc: 0.8032\n",
            "Epoch 37/100\n",
            "390/390 [==============================] - 24s 62ms/step - loss: 0.0887 - acc: 0.9687 - val_loss: 0.7653 - val_acc: 0.8056\n",
            "Epoch 38/100\n",
            "390/390 [==============================] - 24s 62ms/step - loss: 0.0814 - acc: 0.9715 - val_loss: 0.7620 - val_acc: 0.8049\n",
            "Epoch 39/100\n",
            "390/390 [==============================] - 24s 62ms/step - loss: 0.0851 - acc: 0.9700 - val_loss: 0.7141 - val_acc: 0.8150\n",
            "Epoch 40/100\n",
            "390/390 [==============================] - 24s 62ms/step - loss: 0.0813 - acc: 0.9713 - val_loss: 0.7152 - val_acc: 0.8187\n",
            "Epoch 41/100\n",
            "390/390 [==============================] - 24s 62ms/step - loss: 0.0731 - acc: 0.9737 - val_loss: 0.7063 - val_acc: 0.8146\n",
            "Epoch 42/100\n",
            "390/390 [==============================] - 24s 62ms/step - loss: 0.0763 - acc: 0.9731 - val_loss: 0.7491 - val_acc: 0.8165\n",
            "Epoch 43/100\n",
            "390/390 [==============================] - 24s 62ms/step - loss: 0.0779 - acc: 0.9727 - val_loss: 0.8392 - val_acc: 0.8045\n",
            "Epoch 44/100\n",
            "390/390 [==============================] - 24s 62ms/step - loss: 0.0741 - acc: 0.9738 - val_loss: 0.7902 - val_acc: 0.7991\n",
            "Epoch 45/100\n",
            "390/390 [==============================] - 24s 62ms/step - loss: 0.0726 - acc: 0.9740 - val_loss: 0.7956 - val_acc: 0.8013\n",
            "Epoch 46/100\n",
            "390/390 [==============================] - 24s 62ms/step - loss: 0.0655 - acc: 0.9761 - val_loss: 0.7509 - val_acc: 0.8124\n",
            "Epoch 47/100\n",
            "390/390 [==============================] - 24s 62ms/step - loss: 0.0679 - acc: 0.9759 - val_loss: 0.8559 - val_acc: 0.7991\n",
            "Epoch 48/100\n",
            "390/390 [==============================] - 24s 62ms/step - loss: 0.0675 - acc: 0.9754 - val_loss: 0.8497 - val_acc: 0.8014\n",
            "Epoch 49/100\n",
            "390/390 [==============================] - 24s 62ms/step - loss: 0.0672 - acc: 0.9761 - val_loss: 0.7448 - val_acc: 0.8199\n",
            "Epoch 50/100\n",
            "390/390 [==============================] - 24s 62ms/step - loss: 0.0653 - acc: 0.9771 - val_loss: 0.7738 - val_acc: 0.8169\n",
            "Epoch 51/100\n",
            "390/390 [==============================] - 24s 62ms/step - loss: 0.0622 - acc: 0.9781 - val_loss: 0.6590 - val_acc: 0.8369\n",
            "Epoch 52/100\n",
            "390/390 [==============================] - 24s 62ms/step - loss: 0.0606 - acc: 0.9783 - val_loss: 0.7302 - val_acc: 0.8263\n",
            "Epoch 53/100\n",
            "390/390 [==============================] - 24s 62ms/step - loss: 0.0629 - acc: 0.9772 - val_loss: 0.7280 - val_acc: 0.8112\n",
            "Epoch 54/100\n",
            "390/390 [==============================] - 24s 62ms/step - loss: 0.0622 - acc: 0.9783 - val_loss: 0.7590 - val_acc: 0.8196\n",
            "Epoch 55/100\n",
            "390/390 [==============================] - 24s 62ms/step - loss: 0.0613 - acc: 0.9784 - val_loss: 0.7399 - val_acc: 0.8236\n",
            "Epoch 56/100\n",
            "390/390 [==============================] - 24s 62ms/step - loss: 0.0571 - acc: 0.9799 - val_loss: 0.7443 - val_acc: 0.8276\n",
            "Epoch 57/100\n",
            "390/390 [==============================] - 24s 62ms/step - loss: 0.0560 - acc: 0.9798 - val_loss: 0.7578 - val_acc: 0.8242\n",
            "Epoch 58/100\n",
            "390/390 [==============================] - 24s 62ms/step - loss: 0.0613 - acc: 0.9784 - val_loss: 0.6934 - val_acc: 0.8361\n",
            "Epoch 59/100\n",
            "390/390 [==============================] - 24s 62ms/step - loss: 0.0508 - acc: 0.9821 - val_loss: 0.7454 - val_acc: 0.8278\n",
            "Epoch 60/100\n",
            "390/390 [==============================] - 24s 62ms/step - loss: 0.0563 - acc: 0.9806 - val_loss: 0.7673 - val_acc: 0.8215\n",
            "Epoch 61/100\n",
            "390/390 [==============================] - 24s 62ms/step - loss: 0.0534 - acc: 0.9803 - val_loss: 0.7936 - val_acc: 0.8192\n",
            "Epoch 62/100\n",
            "390/390 [==============================] - 24s 62ms/step - loss: 0.0520 - acc: 0.9821 - val_loss: 0.8036 - val_acc: 0.8096\n",
            "Epoch 63/100\n",
            "390/390 [==============================] - 24s 62ms/step - loss: 0.0507 - acc: 0.9820 - val_loss: 0.8175 - val_acc: 0.8172\n",
            "Epoch 64/100\n",
            "390/390 [==============================] - 24s 62ms/step - loss: 0.0495 - acc: 0.9824 - val_loss: 0.9224 - val_acc: 0.8026\n",
            "Epoch 65/100\n",
            "390/390 [==============================] - 24s 62ms/step - loss: 0.0555 - acc: 0.9807 - val_loss: 0.7093 - val_acc: 0.8308\n",
            "Epoch 66/100\n",
            "390/390 [==============================] - 24s 62ms/step - loss: 0.0487 - acc: 0.9824 - val_loss: 0.7455 - val_acc: 0.8254\n",
            "Epoch 67/100\n",
            "390/390 [==============================] - 24s 62ms/step - loss: 0.0512 - acc: 0.9817 - val_loss: 0.7569 - val_acc: 0.8273\n",
            "Epoch 68/100\n",
            "390/390 [==============================] - 24s 62ms/step - loss: 0.0454 - acc: 0.9843 - val_loss: 0.7599 - val_acc: 0.8203\n",
            "Epoch 69/100\n",
            "390/390 [==============================] - 24s 62ms/step - loss: 0.0475 - acc: 0.9832 - val_loss: 0.7610 - val_acc: 0.8323\n",
            "Epoch 70/100\n",
            "390/390 [==============================] - 24s 62ms/step - loss: 0.0479 - acc: 0.9826 - val_loss: 0.7837 - val_acc: 0.8287\n",
            "Epoch 71/100\n",
            "390/390 [==============================] - 24s 62ms/step - loss: 0.0477 - acc: 0.9834 - val_loss: 0.7555 - val_acc: 0.8344\n",
            "Epoch 72/100\n",
            "390/390 [==============================] - 24s 62ms/step - loss: 0.0423 - acc: 0.9853 - val_loss: 0.8539 - val_acc: 0.8103\n",
            "Epoch 73/100\n",
            "390/390 [==============================] - 24s 62ms/step - loss: 0.0447 - acc: 0.9839 - val_loss: 0.8241 - val_acc: 0.8195\n",
            "Epoch 74/100\n",
            "390/390 [==============================] - 24s 62ms/step - loss: 0.0425 - acc: 0.9851 - val_loss: 0.8138 - val_acc: 0.8123\n",
            "Epoch 75/100\n",
            "390/390 [==============================] - 24s 62ms/step - loss: 0.0446 - acc: 0.9842 - val_loss: 0.7843 - val_acc: 0.8225\n",
            "Epoch 76/100\n",
            "390/390 [==============================] - 24s 62ms/step - loss: 0.0446 - acc: 0.9849 - val_loss: 0.7729 - val_acc: 0.8257\n",
            "Epoch 77/100\n",
            "390/390 [==============================] - 24s 62ms/step - loss: 0.0442 - acc: 0.9852 - val_loss: 0.7509 - val_acc: 0.8282\n",
            "Epoch 78/100\n",
            "390/390 [==============================] - 24s 62ms/step - loss: 0.0405 - acc: 0.9858 - val_loss: 0.8455 - val_acc: 0.8170\n",
            "Epoch 79/100\n",
            "390/390 [==============================] - 24s 62ms/step - loss: 0.0429 - acc: 0.9854 - val_loss: 0.9022 - val_acc: 0.8017\n",
            "Epoch 80/100\n",
            "390/390 [==============================] - 24s 62ms/step - loss: 0.0459 - acc: 0.9836 - val_loss: 0.7773 - val_acc: 0.8290\n",
            "Epoch 81/100\n",
            "390/390 [==============================] - 24s 62ms/step - loss: 0.0397 - acc: 0.9865 - val_loss: 0.7640 - val_acc: 0.8249\n",
            "Epoch 82/100\n",
            "390/390 [==============================] - 24s 62ms/step - loss: 0.0383 - acc: 0.9863 - val_loss: 0.8303 - val_acc: 0.8171\n",
            "Epoch 83/100\n",
            "390/390 [==============================] - 24s 62ms/step - loss: 0.0396 - acc: 0.9858 - val_loss: 0.7790 - val_acc: 0.8302\n",
            "Epoch 84/100\n",
            "390/390 [==============================] - 24s 62ms/step - loss: 0.0422 - acc: 0.9857 - val_loss: 0.8208 - val_acc: 0.8223\n",
            "Epoch 85/100\n",
            "390/390 [==============================] - 24s 62ms/step - loss: 0.0408 - acc: 0.9857 - val_loss: 0.7971 - val_acc: 0.8265\n",
            "Epoch 86/100\n",
            "390/390 [==============================] - 24s 62ms/step - loss: 0.0412 - acc: 0.9860 - val_loss: 0.8087 - val_acc: 0.8250\n",
            "Epoch 87/100\n",
            "390/390 [==============================] - 24s 62ms/step - loss: 0.0399 - acc: 0.9862 - val_loss: 0.7165 - val_acc: 0.8432\n",
            "Epoch 88/100\n",
            "390/390 [==============================] - 24s 62ms/step - loss: 0.0326 - acc: 0.9883 - val_loss: 0.8024 - val_acc: 0.8302\n",
            "Epoch 89/100\n",
            "390/390 [==============================] - 24s 62ms/step - loss: 0.0360 - acc: 0.9873 - val_loss: 0.8052 - val_acc: 0.8219\n",
            "Epoch 90/100\n",
            "390/390 [==============================] - 24s 62ms/step - loss: 0.0351 - acc: 0.9877 - val_loss: 0.8480 - val_acc: 0.8157\n",
            "Epoch 91/100\n",
            "390/390 [==============================] - 24s 62ms/step - loss: 0.0397 - acc: 0.9861 - val_loss: 0.7598 - val_acc: 0.8335\n",
            "Epoch 92/100\n",
            "390/390 [==============================] - 24s 62ms/step - loss: 0.0375 - acc: 0.9865 - val_loss: 0.7476 - val_acc: 0.8276\n",
            "Epoch 93/100\n",
            "390/390 [==============================] - 24s 62ms/step - loss: 0.0370 - acc: 0.9867 - val_loss: 0.7575 - val_acc: 0.8307\n",
            "Epoch 94/100\n",
            "390/390 [==============================] - 24s 62ms/step - loss: 0.0338 - acc: 0.9883 - val_loss: 0.8117 - val_acc: 0.8318\n",
            "Epoch 95/100\n",
            "390/390 [==============================] - 24s 62ms/step - loss: 0.0410 - acc: 0.9861 - val_loss: 0.8008 - val_acc: 0.8318\n",
            "Epoch 96/100\n",
            "390/390 [==============================] - 24s 62ms/step - loss: 0.0328 - acc: 0.9890 - val_loss: 0.8583 - val_acc: 0.8166\n",
            "Epoch 97/100\n",
            "390/390 [==============================] - 24s 62ms/step - loss: 0.0339 - acc: 0.9881 - val_loss: 0.8222 - val_acc: 0.8280\n",
            "Epoch 98/100\n",
            "390/390 [==============================] - 24s 62ms/step - loss: 0.0316 - acc: 0.9886 - val_loss: 0.7984 - val_acc: 0.8354\n",
            "Epoch 99/100\n",
            "390/390 [==============================] - 24s 62ms/step - loss: 0.0352 - acc: 0.9882 - val_loss: 0.8736 - val_acc: 0.8173\n",
            "Epoch 100/100\n",
            "390/390 [==============================] - 24s 62ms/step - loss: 0.0346 - acc: 0.9875 - val_loss: 0.7679 - val_acc: 0.8352\n",
            "Model took 2427.76 seconds to train\n"
          ],
          "name": "stdout"
        },
        {
          "output_type": "display_data",
          "data": {
            "image/png": "[encoded data removed]",
            "text/plain": [
              "<Figure size 1080x360 with 2 Axes>"
            ]
          },
          "metadata": {
            "tags": []
          }
        },
        {
          "output_type": "stream",
          "text": [
            "Accuracy on test data is: 83.52\n"
          ],
          "name": "stdout"
        }
      ]
    },
    {
      "cell_type": "markdown",
      "metadata": {
        "id": "Pc0lpil4zvgs",
        "colab_type": "text"
      },
      "source": [
        "## 84.32% - (87th Epoch)"
      ]
    }
  ]
}