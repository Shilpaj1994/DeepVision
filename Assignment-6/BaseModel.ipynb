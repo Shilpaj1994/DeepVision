{
  "nbformat": 4,
  "nbformat_minor": 0,
  "metadata": {
    "colab": {
      "name": "BaseModel.ipynb",
      "version": "0.3.2",
      "provenance": [],
      "collapsed_sections": []
    },
    "kernelspec": {
      "name": "python3",
      "display_name": "Python 3"
    },
    "accelerator": "GPU"
  },
  "cells": [
    {
      "cell_type": "markdown",
      "metadata": {
        "id": "yXZcFEAGsk1y",
        "colab_type": "text"
      },
      "source": [
        "## Import Modules and Libraries"
      ]
    },
    {
      "cell_type": "code",
      "metadata": {
        "id": "KkwXnw9OfHZl",
        "colab_type": "code",
        "outputId": "46ea1b21-e082-40b9-9fbe-6e3b52495efc",
        "colab": {
          "base_uri": "https://localhost:8080/",
          "height": 34
        }
      },
      "source": [
        "from keras import backend as K\n",
        "import time\n",
        "import matplotlib.pyplot as plt\n",
        "import numpy as np\n",
        "% matplotlib inline\n",
        "np.random.seed(2017) \n",
        "from keras.models import Sequential\n",
        "from keras.layers.convolutional import Convolution2D, MaxPooling2D\n",
        "from keras.layers import Activation, Flatten, Dense, Dropout\n",
        "from keras.layers.normalization import BatchNormalization\n",
        "from keras.utils import np_utils"
      ],
      "execution_count": 1,
      "outputs": [
        {
          "output_type": "stream",
          "text": [
            "Using TensorFlow backend.\n"
          ],
          "name": "stderr"
        }
      ]
    },
    {
      "cell_type": "markdown",
      "metadata": {
        "id": "sx_VzSIYsueF",
        "colab_type": "text"
      },
      "source": [
        "## Import CiFAR Dataset\n",
        "- It is a more advance dataset compared to MNIST\n",
        "- It has 10 classes \n",
        "- The dimension of the images are 32x32x3 since it is a RGB image\n",
        "- Shown below are the classses in the CiFAR dataset\n",
        "- Like MNIST, CiFAR also has 50K training images and labels as well as 10K test images and labels"
      ]
    },
    {
      "cell_type": "code",
      "metadata": {
        "id": "NHpnoCHZfO8g",
        "colab_type": "code",
        "colab": {}
      },
      "source": [
        "from keras.datasets import cifar10\n",
        "(train_features, train_labels), (test_features, test_labels) = cifar10.load_data()\n",
        "num_train, img_channels, img_rows, img_cols =  train_features.shape\n",
        "num_test, _, _, _ =  test_features.shape\n",
        "num_classes = len(np.unique(train_labels))"
      ],
      "execution_count": 0,
      "outputs": []
    },
    {
      "cell_type": "markdown",
      "metadata": {
        "id": "MoaU_cX-t8y6",
        "colab_type": "text"
      },
      "source": [
        "## Print Number of training and test images and labels"
      ]
    },
    {
      "cell_type": "code",
      "metadata": {
        "id": "9eEKynfAtZVN",
        "colab_type": "code",
        "colab": {
          "base_uri": "https://localhost:8080/",
          "height": 84
        },
        "outputId": "9b79f4d1-d0d9-43cf-8a71-dd4e546d1120"
      },
      "source": [
        "print(train_features.shape)\n",
        "print(train_labels.shape)\n",
        "print(test_features.shape)\n",
        "print(test_labels.shape)"
      ],
      "execution_count": 4,
      "outputs": [
        {
          "output_type": "stream",
          "text": [
            "(50000, 32, 32, 3)\n",
            "(50000, 1)\n",
            "(10000, 32, 32, 3)\n",
            "(10000, 1)\n"
          ],
          "name": "stdout"
        }
      ]
    },
    {
      "cell_type": "markdown",
      "metadata": {
        "id": "unYM-914uF5Q",
        "colab_type": "text"
      },
      "source": [
        "## Displaying a sample from each class of the dataset"
      ]
    },
    {
      "cell_type": "code",
      "metadata": {
        "id": "14HyBUXdfS6G",
        "colab_type": "code",
        "outputId": "8125c151-7f89-46df-c35d-a849bee45f76",
        "colab": {
          "base_uri": "https://localhost:8080/",
          "height": 213
        }
      },
      "source": [
        "class_names = ['airplane','automobile','bird','cat','deer',\n",
        "               'dog','frog','horse','ship','truck']\n",
        "fig = plt.figure(figsize=(8,3))\n",
        "for i in range(num_classes):\n",
        "    ax = fig.add_subplot(2, 5, 1 + i, xticks=[], yticks=[])\n",
        "    idx = np.where(train_labels[:]==i)[0]\n",
        "    features_idx = train_features[idx,::]\n",
        "    img_num = np.random.randint(features_idx.shape[0])\n",
        "    im = features_idx[img_num]\n",
        "    ax.set_title(class_names[i])\n",
        "    plt.imshow(im)\n",
        "plt.show()"
      ],
      "execution_count": 0,
      "outputs": [
        {
          "output_type": "display_data",
          "data": {
            "image/png": "[encoded data removed]",
            "text/plain": [
              "<Figure size 576x216 with 10 Axes>"
            ]
          },
          "metadata": {
            "tags": []
          }
        }
      ]
    },
    {
      "cell_type": "markdown",
      "metadata": {
        "id": "9ebR1EcAuNDK",
        "colab_type": "text"
      },
      "source": [
        "## Function for plotting accuracy and loss during model training"
      ]
    },
    {
      "cell_type": "code",
      "metadata": {
        "id": "bmfsk76-fadV",
        "colab_type": "code",
        "colab": {}
      },
      "source": [
        "def plot_model_history(model_history):\n",
        "    fig, axs = plt.subplots(1,2,figsize=(15,5))\n",
        "    # summarize history for accuracy\n",
        "    axs[0].plot(range(1,len(model_history.history['acc'])+1),model_history.history['acc'])\n",
        "    axs[0].plot(range(1,len(model_history.history['val_acc'])+1),model_history.history['val_acc'])\n",
        "    axs[0].set_title('Model Accuracy')\n",
        "    axs[0].set_ylabel('Accuracy')\n",
        "    axs[0].set_xlabel('Epoch')\n",
        "    axs[0].set_xticks(np.arange(1,len(model_history.history['acc'])+1),len(model_history.history['acc'])/10)\n",
        "    axs[0].legend(['train', 'val'], loc='best')\n",
        "    # summarize history for loss\n",
        "    axs[1].plot(range(1,len(model_history.history['loss'])+1),model_history.history['loss'])\n",
        "    axs[1].plot(range(1,len(model_history.history['val_loss'])+1),model_history.history['val_loss'])\n",
        "    axs[1].set_title('Model Loss')\n",
        "    axs[1].set_ylabel('Loss')\n",
        "    axs[1].set_xlabel('Epoch')\n",
        "    axs[1].set_xticks(np.arange(1,len(model_history.history['loss'])+1),len(model_history.history['loss'])/10)\n",
        "    axs[1].legend(['train', 'val'], loc='best')\n",
        "    plt.show()"
      ],
      "execution_count": 0,
      "outputs": []
    },
    {
      "cell_type": "markdown",
      "metadata": {
        "id": "xjIl8rJvxd6L",
        "colab_type": "text"
      },
      "source": [
        "## Accuracy Calculation for a model"
      ]
    },
    {
      "cell_type": "code",
      "metadata": {
        "id": "YJMT4rjgfdZz",
        "colab_type": "code",
        "colab": {}
      },
      "source": [
        "def accuracy(test_x, test_y, model):\n",
        "    result = model.predict(test_x)\n",
        "    predicted_class = np.argmax(result, axis=1)\n",
        "    true_class = np.argmax(test_y, axis=1)\n",
        "    num_correct = np.sum(predicted_class == true_class) \n",
        "    accuracy = float(num_correct)/result.shape[0]\n",
        "    return (accuracy * 100)"
      ],
      "execution_count": 0,
      "outputs": []
    },
    {
      "cell_type": "markdown",
      "metadata": {
        "id": "NSEMO4THxmKG",
        "colab_type": "text"
      },
      "source": [
        "## Data Float Conversion , remapping pixel values between 0 & 1, and One-Hot encoding"
      ]
    },
    {
      "cell_type": "code",
      "metadata": {
        "id": "T5c5nDvxm6zR",
        "colab_type": "code",
        "colab": {}
      },
      "source": [
        "train_features = train_features.astype('float32')/255\n",
        "test_features = test_features.astype('float32')/255\n",
        "# convert class labels to binary class labels\n",
        "train_labels = np_utils.to_categorical(train_labels, num_classes)\n",
        "test_labels = np_utils.to_categorical(test_labels, num_classes)"
      ],
      "execution_count": 0,
      "outputs": []
    },
    {
      "cell_type": "markdown",
      "metadata": {
        "id": "qx2UQ-GHyENN",
        "colab_type": "text"
      },
      "source": [
        "## Model Architecture and Compiling Model"
      ]
    },
    {
      "cell_type": "code",
      "metadata": {
        "id": "cSOb2lkJfhVq",
        "colab_type": "code",
        "outputId": "beb1d01d-08eb-46a9-c3cf-54aab7f3b53b",
        "colab": {
          "base_uri": "https://localhost:8080/",
          "height": 323
        }
      },
      "source": [
        "# Define the model\n",
        "model = Sequential()\n",
        "model.add(Convolution2D(48, 3, 3, border_mode='same', input_shape=(32, 32, 3)))\n",
        "model.add(Activation('relu'))\n",
        "model.add(Convolution2D(48, 3, 3))\n",
        "model.add(Activation('relu'))\n",
        "model.add(MaxPooling2D(pool_size=(2, 2)))\n",
        "model.add(Dropout(0.25))\n",
        "model.add(Convolution2D(96, 3, 3, border_mode='same'))\n",
        "model.add(Activation('relu'))\n",
        "model.add(Convolution2D(96, 3, 3))\n",
        "model.add(Activation('relu'))\n",
        "model.add(MaxPooling2D(pool_size=(2, 2)))\n",
        "model.add(Dropout(0.25))\n",
        "model.add(Convolution2D(192, 3, 3, border_mode='same'))\n",
        "model.add(Activation('relu'))\n",
        "model.add(Convolution2D(192, 3, 3))\n",
        "model.add(Activation('relu'))\n",
        "model.add(MaxPooling2D(pool_size=(2, 2)))\n",
        "model.add(Dropout(0.25))\n",
        "model.add(Flatten())\n",
        "model.add(Dense(512))\n",
        "model.add(Activation('relu'))\n",
        "model.add(Dropout(0.5))\n",
        "model.add(Dense(256))\n",
        "model.add(Activation('relu'))\n",
        "model.add(Dropout(0.5))\n",
        "model.add(Dense(num_classes, activation='softmax'))\n",
        "# Compile the model\n",
        "model.compile(optimizer='adam', loss='categorical_crossentropy', metrics=['accuracy'])\n"
      ],
      "execution_count": 0,
      "outputs": [
        {
          "output_type": "stream",
          "text": [
            "WARNING:tensorflow:From /usr/local/lib/python3.6/dist-packages/tensorflow/python/framework/op_def_library.py:263: colocate_with (from tensorflow.python.framework.ops) is deprecated and will be removed in a future version.\n",
            "Instructions for updating:\n",
            "Colocations handled automatically by placer.\n",
            "WARNING:tensorflow:From /usr/local/lib/python3.6/dist-packages/keras/backend/tensorflow_backend.py:3445: calling dropout (from tensorflow.python.ops.nn_ops) with keep_prob is deprecated and will be removed in a future version.\n",
            "Instructions for updating:\n",
            "Please use `rate` instead of `keep_prob`. Rate should be set to `rate = 1 - keep_prob`.\n"
          ],
          "name": "stdout"
        },
        {
          "output_type": "stream",
          "text": [
            "/usr/local/lib/python3.6/dist-packages/ipykernel_launcher.py:2: UserWarning: Update your `Conv2D` call to the Keras 2 API: `Conv2D(48, (3, 3), input_shape=(32, 32, 3..., padding=\"same\")`\n",
            "  \n",
            "/usr/local/lib/python3.6/dist-packages/ipykernel_launcher.py:4: UserWarning: Update your `Conv2D` call to the Keras 2 API: `Conv2D(48, (3, 3))`\n",
            "  after removing the cwd from sys.path.\n",
            "/usr/local/lib/python3.6/dist-packages/ipykernel_launcher.py:8: UserWarning: Update your `Conv2D` call to the Keras 2 API: `Conv2D(96, (3, 3), padding=\"same\")`\n",
            "  \n",
            "/usr/local/lib/python3.6/dist-packages/ipykernel_launcher.py:10: UserWarning: Update your `Conv2D` call to the Keras 2 API: `Conv2D(96, (3, 3))`\n",
            "  # Remove the CWD from sys.path while we load stuff.\n",
            "/usr/local/lib/python3.6/dist-packages/ipykernel_launcher.py:14: UserWarning: Update your `Conv2D` call to the Keras 2 API: `Conv2D(192, (3, 3), padding=\"same\")`\n",
            "  \n",
            "/usr/local/lib/python3.6/dist-packages/ipykernel_launcher.py:16: UserWarning: Update your `Conv2D` call to the Keras 2 API: `Conv2D(192, (3, 3))`\n",
            "  app.launch_new_instance()\n"
          ],
          "name": "stderr"
        }
      ]
    },
    {
      "cell_type": "markdown",
      "metadata": {
        "id": "UsFIWg_oyUrX",
        "colab_type": "text"
      },
      "source": [
        "## Model Summary"
      ]
    },
    {
      "cell_type": "code",
      "metadata": {
        "id": "wvVs5tC8mR6Q",
        "colab_type": "code",
        "outputId": "3ba40c75-2a69-43a4-dec6-716c5df8938f",
        "colab": {
          "base_uri": "https://localhost:8080/",
          "height": 1020
        }
      },
      "source": [
        "model.summary()"
      ],
      "execution_count": 0,
      "outputs": [
        {
          "output_type": "stream",
          "text": [
            "_________________________________________________________________\n",
            "Layer (type)                 Output Shape              Param #   \n",
            "=================================================================\n",
            "conv2d_1 (Conv2D)            (None, 32, 32, 48)        1344      \n",
            "_________________________________________________________________\n",
            "activation_1 (Activation)    (None, 32, 32, 48)        0         \n",
            "_________________________________________________________________\n",
            "conv2d_2 (Conv2D)            (None, 30, 30, 48)        20784     \n",
            "_________________________________________________________________\n",
            "activation_2 (Activation)    (None, 30, 30, 48)        0         \n",
            "_________________________________________________________________\n",
            "max_pooling2d_1 (MaxPooling2 (None, 15, 15, 48)        0         \n",
            "_________________________________________________________________\n",
            "dropout_1 (Dropout)          (None, 15, 15, 48)        0         \n",
            "_________________________________________________________________\n",
            "conv2d_3 (Conv2D)            (None, 15, 15, 96)        41568     \n",
            "_________________________________________________________________\n",
            "activation_3 (Activation)    (None, 15, 15, 96)        0         \n",
            "_________________________________________________________________\n",
            "conv2d_4 (Conv2D)            (None, 13, 13, 96)        83040     \n",
            "_________________________________________________________________\n",
            "activation_4 (Activation)    (None, 13, 13, 96)        0         \n",
            "_________________________________________________________________\n",
            "max_pooling2d_2 (MaxPooling2 (None, 6, 6, 96)          0         \n",
            "_________________________________________________________________\n",
            "dropout_2 (Dropout)          (None, 6, 6, 96)          0         \n",
            "_________________________________________________________________\n",
            "conv2d_5 (Conv2D)            (None, 6, 6, 192)         166080    \n",
            "_________________________________________________________________\n",
            "activation_5 (Activation)    (None, 6, 6, 192)         0         \n",
            "_________________________________________________________________\n",
            "conv2d_6 (Conv2D)            (None, 4, 4, 192)         331968    \n",
            "_________________________________________________________________\n",
            "activation_6 (Activation)    (None, 4, 4, 192)         0         \n",
            "_________________________________________________________________\n",
            "max_pooling2d_3 (MaxPooling2 (None, 2, 2, 192)         0         \n",
            "_________________________________________________________________\n",
            "dropout_3 (Dropout)          (None, 2, 2, 192)         0         \n",
            "_________________________________________________________________\n",
            "flatten_1 (Flatten)          (None, 768)               0         \n",
            "_________________________________________________________________\n",
            "dense_1 (Dense)              (None, 512)               393728    \n",
            "_________________________________________________________________\n",
            "activation_7 (Activation)    (None, 512)               0         \n",
            "_________________________________________________________________\n",
            "dropout_4 (Dropout)          (None, 512)               0         \n",
            "_________________________________________________________________\n",
            "dense_2 (Dense)              (None, 256)               131328    \n",
            "_________________________________________________________________\n",
            "activation_8 (Activation)    (None, 256)               0         \n",
            "_________________________________________________________________\n",
            "dropout_5 (Dropout)          (None, 256)               0         \n",
            "_________________________________________________________________\n",
            "dense_3 (Dense)              (None, 10)                2570      \n",
            "=================================================================\n",
            "Total params: 1,172,410\n",
            "Trainable params: 1,172,410\n",
            "Non-trainable params: 0\n",
            "_________________________________________________________________\n"
          ],
          "name": "stdout"
        }
      ]
    },
    {
      "cell_type": "markdown",
      "metadata": {
        "id": "qKt4XEm8yaWc",
        "colab_type": "text"
      },
      "source": [
        "## Training Model using ImageDataGenerator and plotting progress"
      ]
    },
    {
      "cell_type": "code",
      "metadata": {
        "id": "5oK_V7WyfsXX",
        "colab_type": "code",
        "outputId": "566f4c7d-bc54-4ce6-a82e-369891d12615",
        "colab": {
          "base_uri": "https://localhost:8080/",
          "height": 3923
        }
      },
      "source": [
        "from keras.preprocessing.image import ImageDataGenerator\n",
        "\n",
        "datagen = ImageDataGenerator(zoom_range=0.0, \n",
        "                             horizontal_flip=False)\n",
        "\n",
        "\n",
        "# train the model\n",
        "start = time.time()\n",
        "# Train the model\n",
        "model_info = model.fit_generator(datagen.flow(train_features, train_labels, batch_size = 128),\n",
        "                                 samples_per_epoch = train_features.shape[0], nb_epoch = 100, \n",
        "                                 validation_data = (test_features, test_labels), verbose=1)\n",
        "end = time.time()\n",
        "print (\"Model took %0.2f seconds to train\"%(end - start))\n",
        "# plot model history\n",
        "plot_model_history(model_info)\n",
        "# compute test accuracy\n",
        "print (\"Accuracy on test data is: %0.2f\"%accuracy(test_features, test_labels, model))"
      ],
      "execution_count": 0,
      "outputs": [
        {
          "output_type": "stream",
          "text": [
            "WARNING:tensorflow:From /usr/local/lib/python3.6/dist-packages/tensorflow/python/ops/math_ops.py:3066: to_int32 (from tensorflow.python.ops.math_ops) is deprecated and will be removed in a future version.\n",
            "Instructions for updating:\n",
            "Use tf.cast instead.\n"
          ],
          "name": "stdout"
        },
        {
          "output_type": "stream",
          "text": [
            "/usr/local/lib/python3.6/dist-packages/ipykernel_launcher.py:12: UserWarning: The semantics of the Keras 2 argument `steps_per_epoch` is not the same as the Keras 1 argument `samples_per_epoch`. `steps_per_epoch` is the number of batches to draw from the generator at each epoch. Basically steps_per_epoch = samples_per_epoch/batch_size. Similarly `nb_val_samples`->`validation_steps` and `val_samples`->`steps` arguments have changed. Update your method calls accordingly.\n",
            "  if sys.path[0] == '':\n",
            "/usr/local/lib/python3.6/dist-packages/ipykernel_launcher.py:12: UserWarning: Update your `fit_generator` call to the Keras 2 API: `fit_generator(<keras_pre..., validation_data=(array([[[..., verbose=1, steps_per_epoch=390, epochs=100)`\n",
            "  if sys.path[0] == '':\n"
          ],
          "name": "stderr"
        },
        {
          "output_type": "stream",
          "text": [
            "Epoch 1/100\n",
            "390/390 [==============================] - 16s 40ms/step - loss: 1.8680 - acc: 0.2837 - val_loss: 1.5822 - val_acc: 0.4195\n",
            "Epoch 2/100\n",
            "390/390 [==============================] - 9s 23ms/step - loss: 1.3552 - acc: 0.5097 - val_loss: 1.0922 - val_acc: 0.6077\n",
            "Epoch 3/100\n",
            "390/390 [==============================] - 9s 23ms/step - loss: 1.1267 - acc: 0.6018 - val_loss: 0.9763 - val_acc: 0.6525\n",
            "Epoch 4/100\n",
            "390/390 [==============================] - 9s 23ms/step - loss: 0.9906 - acc: 0.6553 - val_loss: 0.8582 - val_acc: 0.6987\n",
            "Epoch 5/100\n",
            "390/390 [==============================] - 9s 23ms/step - loss: 0.8885 - acc: 0.6924 - val_loss: 0.7751 - val_acc: 0.7308\n",
            "Epoch 6/100\n",
            "390/390 [==============================] - 9s 23ms/step - loss: 0.8119 - acc: 0.7213 - val_loss: 0.7840 - val_acc: 0.7345\n",
            "Epoch 7/100\n",
            "390/390 [==============================] - 9s 23ms/step - loss: 0.7602 - acc: 0.7387 - val_loss: 0.7173 - val_acc: 0.7558\n",
            "Epoch 8/100\n",
            "390/390 [==============================] - 9s 23ms/step - loss: 0.7097 - acc: 0.7567 - val_loss: 0.6635 - val_acc: 0.7717\n",
            "Epoch 9/100\n",
            "390/390 [==============================] - 9s 23ms/step - loss: 0.6710 - acc: 0.7695 - val_loss: 0.6336 - val_acc: 0.7836\n",
            "Epoch 10/100\n",
            "390/390 [==============================] - 9s 24ms/step - loss: 0.6441 - acc: 0.7825 - val_loss: 0.6466 - val_acc: 0.7837\n",
            "Epoch 11/100\n",
            "390/390 [==============================] - 9s 23ms/step - loss: 0.6137 - acc: 0.7902 - val_loss: 0.6203 - val_acc: 0.7884\n",
            "Epoch 12/100\n",
            "390/390 [==============================] - 9s 23ms/step - loss: 0.5978 - acc: 0.7970 - val_loss: 0.6184 - val_acc: 0.7901\n",
            "Epoch 13/100\n",
            "390/390 [==============================] - 9s 23ms/step - loss: 0.5759 - acc: 0.8046 - val_loss: 0.5981 - val_acc: 0.8033\n",
            "Epoch 14/100\n",
            "390/390 [==============================] - 9s 23ms/step - loss: 0.5541 - acc: 0.8113 - val_loss: 0.6311 - val_acc: 0.7909\n",
            "Epoch 15/100\n",
            "390/390 [==============================] - 9s 23ms/step - loss: 0.5490 - acc: 0.8131 - val_loss: 0.5727 - val_acc: 0.8090\n",
            "Epoch 16/100\n",
            "390/390 [==============================] - 9s 23ms/step - loss: 0.5242 - acc: 0.8203 - val_loss: 0.5955 - val_acc: 0.8069\n",
            "Epoch 17/100\n",
            "390/390 [==============================] - 9s 23ms/step - loss: 0.5069 - acc: 0.8279 - val_loss: 0.5899 - val_acc: 0.8010\n",
            "Epoch 18/100\n",
            "390/390 [==============================] - 9s 24ms/step - loss: 0.5080 - acc: 0.8269 - val_loss: 0.5616 - val_acc: 0.8126\n",
            "Epoch 19/100\n",
            "390/390 [==============================] - 9s 24ms/step - loss: 0.4942 - acc: 0.8307 - val_loss: 0.5561 - val_acc: 0.8168\n",
            "Epoch 20/100\n",
            "390/390 [==============================] - 9s 23ms/step - loss: 0.4695 - acc: 0.8405 - val_loss: 0.5756 - val_acc: 0.8138\n",
            "Epoch 21/100\n",
            "390/390 [==============================] - 9s 23ms/step - loss: 0.4632 - acc: 0.8404 - val_loss: 0.5582 - val_acc: 0.8189\n",
            "Epoch 22/100\n",
            "390/390 [==============================] - 9s 23ms/step - loss: 0.4547 - acc: 0.8434 - val_loss: 0.5559 - val_acc: 0.8208\n",
            "Epoch 23/100\n",
            "390/390 [==============================] - 9s 23ms/step - loss: 0.4559 - acc: 0.8456 - val_loss: 0.5758 - val_acc: 0.8160\n",
            "Epoch 24/100\n",
            "390/390 [==============================] - 9s 23ms/step - loss: 0.4468 - acc: 0.8466 - val_loss: 0.5681 - val_acc: 0.8210\n",
            "Epoch 25/100\n",
            "390/390 [==============================] - 9s 23ms/step - loss: 0.4390 - acc: 0.8507 - val_loss: 0.5950 - val_acc: 0.8135\n",
            "Epoch 26/100\n",
            "390/390 [==============================] - 9s 23ms/step - loss: 0.4286 - acc: 0.8537 - val_loss: 0.5787 - val_acc: 0.8171\n",
            "Epoch 27/100\n",
            "390/390 [==============================] - 9s 24ms/step - loss: 0.4196 - acc: 0.8569 - val_loss: 0.5655 - val_acc: 0.8266\n",
            "Epoch 28/100\n",
            "390/390 [==============================] - 9s 24ms/step - loss: 0.4156 - acc: 0.8593 - val_loss: 0.5811 - val_acc: 0.8157\n",
            "Epoch 29/100\n",
            "390/390 [==============================] - 9s 23ms/step - loss: 0.4085 - acc: 0.8621 - val_loss: 0.5613 - val_acc: 0.8203\n",
            "Epoch 30/100\n",
            "390/390 [==============================] - 9s 23ms/step - loss: 0.4104 - acc: 0.8605 - val_loss: 0.5869 - val_acc: 0.8113\n",
            "Epoch 31/100\n",
            "390/390 [==============================] - 9s 24ms/step - loss: 0.4066 - acc: 0.8630 - val_loss: 0.5595 - val_acc: 0.8265\n",
            "Epoch 32/100\n",
            "390/390 [==============================] - 9s 23ms/step - loss: 0.3911 - acc: 0.8673 - val_loss: 0.5579 - val_acc: 0.8244\n",
            "Epoch 33/100\n",
            "390/390 [==============================] - 9s 23ms/step - loss: 0.3915 - acc: 0.8676 - val_loss: 0.5784 - val_acc: 0.8205\n",
            "Epoch 34/100\n",
            "390/390 [==============================] - 9s 23ms/step - loss: 0.3807 - acc: 0.8714 - val_loss: 0.5685 - val_acc: 0.8198\n",
            "Epoch 35/100\n",
            "390/390 [==============================] - 9s 23ms/step - loss: 0.3837 - acc: 0.8702 - val_loss: 0.5518 - val_acc: 0.8259\n",
            "Epoch 36/100\n",
            "390/390 [==============================] - 9s 24ms/step - loss: 0.3762 - acc: 0.8734 - val_loss: 0.5598 - val_acc: 0.8231\n",
            "Epoch 37/100\n",
            "390/390 [==============================] - 9s 23ms/step - loss: 0.3725 - acc: 0.8749 - val_loss: 0.5550 - val_acc: 0.8243\n",
            "Epoch 38/100\n",
            "390/390 [==============================] - 9s 24ms/step - loss: 0.3653 - acc: 0.8773 - val_loss: 0.5752 - val_acc: 0.8249\n",
            "Epoch 39/100\n",
            "390/390 [==============================] - 9s 23ms/step - loss: 0.3695 - acc: 0.8756 - val_loss: 0.5988 - val_acc: 0.8220\n",
            "Epoch 40/100\n",
            "390/390 [==============================] - 9s 23ms/step - loss: 0.3504 - acc: 0.8829 - val_loss: 0.5891 - val_acc: 0.8197\n",
            "Epoch 41/100\n",
            "390/390 [==============================] - 9s 23ms/step - loss: 0.3570 - acc: 0.8805 - val_loss: 0.5877 - val_acc: 0.8196\n",
            "Epoch 42/100\n",
            "390/390 [==============================] - 9s 23ms/step - loss: 0.3511 - acc: 0.8814 - val_loss: 0.5693 - val_acc: 0.8272\n",
            "Epoch 43/100\n",
            "390/390 [==============================] - 9s 23ms/step - loss: 0.3532 - acc: 0.8817 - val_loss: 0.5599 - val_acc: 0.8294\n",
            "Epoch 44/100\n",
            "390/390 [==============================] - 9s 23ms/step - loss: 0.3446 - acc: 0.8827 - val_loss: 0.5802 - val_acc: 0.8248\n",
            "Epoch 45/100\n",
            "390/390 [==============================] - 9s 24ms/step - loss: 0.3431 - acc: 0.8854 - val_loss: 0.5729 - val_acc: 0.8289\n",
            "Epoch 46/100\n",
            "390/390 [==============================] - 9s 23ms/step - loss: 0.3443 - acc: 0.8841 - val_loss: 0.5658 - val_acc: 0.8285\n",
            "Epoch 47/100\n",
            "390/390 [==============================] - 9s 23ms/step - loss: 0.3336 - acc: 0.8861 - val_loss: 0.5889 - val_acc: 0.8239\n",
            "Epoch 48/100\n",
            "390/390 [==============================] - 9s 23ms/step - loss: 0.3416 - acc: 0.8850 - val_loss: 0.5890 - val_acc: 0.8273\n",
            "Epoch 49/100\n",
            "390/390 [==============================] - 9s 23ms/step - loss: 0.3284 - acc: 0.8897 - val_loss: 0.5723 - val_acc: 0.8287\n",
            "Epoch 50/100\n",
            "390/390 [==============================] - 9s 23ms/step - loss: 0.3225 - acc: 0.8913 - val_loss: 0.5899 - val_acc: 0.8272\n",
            "Epoch 51/100\n",
            "390/390 [==============================] - 9s 23ms/step - loss: 0.3232 - acc: 0.8924 - val_loss: 0.5809 - val_acc: 0.8248\n",
            "Epoch 52/100\n",
            "390/390 [==============================] - 9s 24ms/step - loss: 0.3254 - acc: 0.8929 - val_loss: 0.5778 - val_acc: 0.8284\n",
            "Epoch 53/100\n",
            "390/390 [==============================] - 9s 24ms/step - loss: 0.3162 - acc: 0.8939 - val_loss: 0.6397 - val_acc: 0.8197\n",
            "Epoch 54/100\n",
            "390/390 [==============================] - 9s 24ms/step - loss: 0.3226 - acc: 0.8931 - val_loss: 0.5733 - val_acc: 0.8301\n",
            "Epoch 55/100\n",
            "390/390 [==============================] - 9s 23ms/step - loss: 0.3154 - acc: 0.8957 - val_loss: 0.5899 - val_acc: 0.8289\n",
            "Epoch 56/100\n",
            "390/390 [==============================] - 9s 23ms/step - loss: 0.3243 - acc: 0.8937 - val_loss: 0.5780 - val_acc: 0.8311\n",
            "Epoch 57/100\n",
            "390/390 [==============================] - 9s 24ms/step - loss: 0.3215 - acc: 0.8931 - val_loss: 0.5795 - val_acc: 0.8255\n",
            "Epoch 58/100\n",
            "390/390 [==============================] - 9s 23ms/step - loss: 0.3127 - acc: 0.8962 - val_loss: 0.5828 - val_acc: 0.8250\n",
            "Epoch 59/100\n",
            "390/390 [==============================] - 9s 23ms/step - loss: 0.3025 - acc: 0.9004 - val_loss: 0.5900 - val_acc: 0.8241\n",
            "Epoch 60/100\n",
            "390/390 [==============================] - 9s 23ms/step - loss: 0.3065 - acc: 0.8992 - val_loss: 0.6160 - val_acc: 0.8233\n",
            "Epoch 61/100\n",
            "390/390 [==============================] - 9s 23ms/step - loss: 0.3029 - acc: 0.9003 - val_loss: 0.6590 - val_acc: 0.8203\n",
            "Epoch 62/100\n",
            "390/390 [==============================] - 9s 24ms/step - loss: 0.3000 - acc: 0.9007 - val_loss: 0.6068 - val_acc: 0.8240\n",
            "Epoch 63/100\n",
            "390/390 [==============================] - 9s 24ms/step - loss: 0.3075 - acc: 0.9001 - val_loss: 0.5957 - val_acc: 0.8302\n",
            "Epoch 64/100\n",
            "390/390 [==============================] - 9s 23ms/step - loss: 0.3053 - acc: 0.8992 - val_loss: 0.5970 - val_acc: 0.8259\n",
            "Epoch 65/100\n",
            "390/390 [==============================] - 9s 24ms/step - loss: 0.3041 - acc: 0.8991 - val_loss: 0.5837 - val_acc: 0.8250\n",
            "Epoch 66/100\n",
            "390/390 [==============================] - 9s 23ms/step - loss: 0.2958 - acc: 0.9027 - val_loss: 0.5886 - val_acc: 0.8256\n",
            "Epoch 67/100\n",
            "390/390 [==============================] - 9s 23ms/step - loss: 0.2870 - acc: 0.9064 - val_loss: 0.6061 - val_acc: 0.8275\n",
            "Epoch 68/100\n",
            "390/390 [==============================] - 9s 23ms/step - loss: 0.2838 - acc: 0.9066 - val_loss: 0.5904 - val_acc: 0.8291\n",
            "Epoch 69/100\n",
            "390/390 [==============================] - 9s 23ms/step - loss: 0.2973 - acc: 0.9026 - val_loss: 0.6284 - val_acc: 0.8215\n",
            "Epoch 70/100\n",
            "390/390 [==============================] - 9s 23ms/step - loss: 0.2853 - acc: 0.9054 - val_loss: 0.6208 - val_acc: 0.8259\n",
            "Epoch 71/100\n",
            "390/390 [==============================] - 9s 24ms/step - loss: 0.2867 - acc: 0.9053 - val_loss: 0.6084 - val_acc: 0.8331\n",
            "Epoch 72/100\n",
            "390/390 [==============================] - 9s 24ms/step - loss: 0.2819 - acc: 0.9087 - val_loss: 0.5864 - val_acc: 0.8309\n",
            "Epoch 73/100\n",
            "390/390 [==============================] - 9s 23ms/step - loss: 0.2862 - acc: 0.9061 - val_loss: 0.6130 - val_acc: 0.8288\n",
            "Epoch 74/100\n",
            "390/390 [==============================] - 9s 23ms/step - loss: 0.2876 - acc: 0.9074 - val_loss: 0.6075 - val_acc: 0.8296\n",
            "Epoch 75/100\n",
            "390/390 [==============================] - 9s 23ms/step - loss: 0.2898 - acc: 0.9078 - val_loss: 0.6073 - val_acc: 0.8315\n",
            "Epoch 76/100\n",
            "390/390 [==============================] - 9s 23ms/step - loss: 0.2787 - acc: 0.9100 - val_loss: 0.5815 - val_acc: 0.8345\n",
            "Epoch 77/100\n",
            "390/390 [==============================] - 9s 23ms/step - loss: 0.2746 - acc: 0.9116 - val_loss: 0.6009 - val_acc: 0.8256\n",
            "Epoch 78/100\n",
            "390/390 [==============================] - 9s 22ms/step - loss: 0.2771 - acc: 0.9095 - val_loss: 0.6019 - val_acc: 0.8282\n",
            "Epoch 79/100\n",
            "390/390 [==============================] - 9s 22ms/step - loss: 0.2779 - acc: 0.9100 - val_loss: 0.5790 - val_acc: 0.8354\n",
            "Epoch 80/100\n",
            "390/390 [==============================] - 9s 23ms/step - loss: 0.2835 - acc: 0.9105 - val_loss: 0.5772 - val_acc: 0.8304\n",
            "Epoch 81/100\n",
            "390/390 [==============================] - 9s 23ms/step - loss: 0.2740 - acc: 0.9108 - val_loss: 0.5995 - val_acc: 0.8266\n",
            "Epoch 82/100\n",
            "390/390 [==============================] - 9s 22ms/step - loss: 0.2794 - acc: 0.9111 - val_loss: 0.6191 - val_acc: 0.8243\n",
            "Epoch 83/100\n",
            "390/390 [==============================] - 9s 22ms/step - loss: 0.2714 - acc: 0.9121 - val_loss: 0.6042 - val_acc: 0.8330\n",
            "Epoch 84/100\n",
            "390/390 [==============================] - 9s 22ms/step - loss: 0.2742 - acc: 0.9124 - val_loss: 0.6463 - val_acc: 0.8236\n",
            "Epoch 85/100\n",
            "390/390 [==============================] - 9s 22ms/step - loss: 0.2756 - acc: 0.9119 - val_loss: 0.6076 - val_acc: 0.8277\n",
            "Epoch 86/100\n",
            "390/390 [==============================] - 9s 22ms/step - loss: 0.2752 - acc: 0.9129 - val_loss: 0.6048 - val_acc: 0.8304\n",
            "Epoch 87/100\n",
            "390/390 [==============================] - 9s 23ms/step - loss: 0.2790 - acc: 0.9113 - val_loss: 0.6070 - val_acc: 0.8332\n",
            "Epoch 88/100\n",
            "390/390 [==============================] - 9s 23ms/step - loss: 0.2620 - acc: 0.9173 - val_loss: 0.6131 - val_acc: 0.8318\n",
            "Epoch 89/100\n",
            "390/390 [==============================] - 9s 23ms/step - loss: 0.2692 - acc: 0.9128 - val_loss: 0.6671 - val_acc: 0.8216\n",
            "Epoch 90/100\n",
            "390/390 [==============================] - 9s 23ms/step - loss: 0.2610 - acc: 0.9173 - val_loss: 0.6308 - val_acc: 0.8311\n",
            "Epoch 91/100\n",
            "390/390 [==============================] - 9s 23ms/step - loss: 0.2737 - acc: 0.9140 - val_loss: 0.5991 - val_acc: 0.8326\n",
            "Epoch 92/100\n",
            "390/390 [==============================] - 9s 22ms/step - loss: 0.2614 - acc: 0.9151 - val_loss: 0.6412 - val_acc: 0.8254\n",
            "Epoch 93/100\n",
            "390/390 [==============================] - 9s 22ms/step - loss: 0.2759 - acc: 0.9130 - val_loss: 0.6353 - val_acc: 0.8325\n",
            "Epoch 94/100\n",
            "390/390 [==============================] - 9s 22ms/step - loss: 0.2650 - acc: 0.9170 - val_loss: 0.6122 - val_acc: 0.8328\n",
            "Epoch 95/100\n",
            "390/390 [==============================] - 9s 23ms/step - loss: 0.2601 - acc: 0.9180 - val_loss: 0.6325 - val_acc: 0.8325\n",
            "Epoch 96/100\n",
            "390/390 [==============================] - 9s 22ms/step - loss: 0.2607 - acc: 0.9198 - val_loss: 0.6191 - val_acc: 0.8326\n",
            "Epoch 97/100\n",
            "390/390 [==============================] - 9s 23ms/step - loss: 0.2568 - acc: 0.9185 - val_loss: 0.6739 - val_acc: 0.8241\n",
            "Epoch 98/100\n",
            "390/390 [==============================] - 9s 23ms/step - loss: 0.2610 - acc: 0.9179 - val_loss: 0.6532 - val_acc: 0.8280\n",
            "Epoch 99/100\n",
            "390/390 [==============================] - 9s 23ms/step - loss: 0.2568 - acc: 0.9193 - val_loss: 0.6169 - val_acc: 0.8285\n",
            "Epoch 100/100\n",
            "390/390 [==============================] - 9s 23ms/step - loss: 0.2598 - acc: 0.9189 - val_loss: 0.6433 - val_acc: 0.8207\n",
            "Model took 908.89 seconds to train\n"
          ],
          "name": "stdout"
        },
        {
          "output_type": "display_data",
          "data": {
            "image/png": "[encoded data removed]",
            "text/plain": [
              "<Figure size 1080x360 with 2 Axes>"
            ]
          },
          "metadata": {
            "tags": []
          }
        },
        {
          "output_type": "stream",
          "text": [
            "Accuracy on test data is: 82.07\n"
          ],
          "name": "stdout"
        }
      ]
    },
    {
      "cell_type": "markdown",
      "metadata": {
        "id": "qOFVRsEryoIR",
        "colab_type": "text"
      },
      "source": [
        "## Base Accuracy of the Model: 83.54% (79th Epoch)"
      ]
    }
  ]
}