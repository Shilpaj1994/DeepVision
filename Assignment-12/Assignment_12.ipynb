{
  "nbformat": 4,
  "nbformat_minor": 0,
  "metadata": {
    "colab": {
      "name": "Assignment-12.ipynb",
      "version": "0.3.2",
      "provenance": [],
      "collapsed_sections": []
    },
    "kernelspec": {
      "name": "python3",
      "display_name": "Python 3"
    },
    "accelerator": "GPU"
  },
  "cells": [
    {
      "cell_type": "markdown",
      "metadata": {
        "id": "CXh_KCk44SHM",
        "colab_type": "text"
      },
      "source": [
        "## New Topics:\n",
        "- Normalization using mean and standard deviation\n",
        "- Crop and padding augmentation\n",
        "- Multiple augmentation technique in datagen.flow\n",
        "- Parameters adjustment using trackbars\n",
        "- Model with lambda layer\n",
        "- One cycle LR"
      ]
    },
    {
      "cell_type": "markdown",
      "metadata": {
        "id": "l09377dC4Lli",
        "colab_type": "text"
      },
      "source": [
        "### Mount Drive"
      ]
    },
    {
      "cell_type": "code",
      "metadata": {
        "id": "a0DeR1xF1skk",
        "colab_type": "code",
        "outputId": "4b6a0590-f9c9-4d2b-9a87-ecbfec06a8fc",
        "colab": {
          "base_uri": "https://localhost:8080/",
          "height": 139
        }
      },
      "source": [
        "from google.colab import drive\n",
        "drive.mount('/content/gdrive')\n",
        "\n",
        "%cd /content/gdrive/My Drive/Colab Notebooks/EVA - Assignments/"
      ],
      "execution_count": 1,
      "outputs": [
        {
          "output_type": "stream",
          "text": [
            "Go to this URL in a browser: https://accounts.google.com/o/oauth2/auth?client_id=947318989803-6bn6qk8qdgf4n4g3pfee6491hc0brc4i.apps.googleusercontent.com&redirect_uri=urn%3Aietf%3Awg%3Aoauth%3A2.0%3Aoob&scope=email%20https%3A%2F%2Fwww.googleapis.com%2Fauth%2Fdocs.test%20https%3A%2F%2Fwww.googleapis.com%2Fauth%2Fdrive%20https%3A%2F%2Fwww.googleapis.com%2Fauth%2Fdrive.photos.readonly%20https%3A%2F%2Fwww.googleapis.com%2Fauth%2Fpeopleapi.readonly&response_type=code\n",
            "\n",
            "Enter your authorization code:\n",
            "··········\n",
            "Mounted at /content/gdrive\n",
            "/content/gdrive/My Drive/Colab Notebooks/EVA - Assignments\n"
          ],
          "name": "stdout"
        }
      ]
    },
    {
      "cell_type": "markdown",
      "metadata": {
        "id": "Vh8T4GBfKVUy",
        "colab_type": "text"
      },
      "source": [
        "### Import Modules and Dependencies"
      ]
    },
    {
      "cell_type": "code",
      "metadata": {
        "id": "dMAvSTTb3WiV",
        "colab_type": "code",
        "outputId": "f295f496-a158-4aed-c92e-f89af89c3eb1",
        "colab": {
          "base_uri": "https://localhost:8080/",
          "height": 34
        }
      },
      "source": [
        "from keras import backend as K\n",
        "import time\n",
        "import matplotlib.pyplot as plt\n",
        "import numpy as np\n",
        "np.random.seed(2019) \n",
        "\n",
        "from keras import regularizers\n",
        "from keras.models import Sequential, Model\n",
        "from keras.layers.convolutional import Conv2D, MaxPooling2D,AveragePooling2D, Convolution2D, SeparableConv2D\n",
        "from keras.layers import Activation, Flatten, Dense, Dropout, SpatialDropout2D, GlobalMaxPooling2D, Input, add, concatenate, Lambda\n",
        "from keras.layers.normalization import BatchNormalization\n",
        "from keras.utils import np_utils\n",
        "from keras.preprocessing.image import ImageDataGenerator\n",
        "from keras import optimizers\n",
        "import cv2\n",
        "from google.colab.patches import cv2_imshow\n",
        "\n",
        "import imgaug as ia\n",
        "import imgaug.augmenters as iaa"
      ],
      "execution_count": 2,
      "outputs": [
        {
          "output_type": "stream",
          "text": [
            "Using TensorFlow backend.\n"
          ],
          "name": "stderr"
        }
      ]
    },
    {
      "cell_type": "markdown",
      "metadata": {
        "id": "PjZi5WnBKa-Q",
        "colab_type": "text"
      },
      "source": [
        "### Import Data"
      ]
    },
    {
      "cell_type": "code",
      "metadata": {
        "id": "iqeRNDtUYOEe",
        "colab_type": "code",
        "outputId": "51454170-1cbc-4b13-d5a6-65c81f457e0d",
        "colab": {
          "base_uri": "https://localhost:8080/",
          "height": 51
        }
      },
      "source": [
        "from keras.datasets import cifar10\n",
        "(train_features, train_labels), (test_features, test_labels) = cifar10.load_data()\n",
        "num_train, img_rows, img_cols,img_channels =  train_features.shape\n",
        "num_test, _, _, _ =  test_features.shape\n",
        "num_classes = len(np.unique(train_labels))"
      ],
      "execution_count": 3,
      "outputs": [
        {
          "output_type": "stream",
          "text": [
            "Downloading data from https://www.cs.toronto.edu/~kriz/cifar-10-python.tar.gz\n",
            "170500096/170498071 [==============================] - 9s 0us/step\n"
          ],
          "name": "stdout"
        }
      ]
    },
    {
      "cell_type": "markdown",
      "metadata": {
        "id": "WQIY6wEFKdwT",
        "colab_type": "text"
      },
      "source": [
        "### Print Data Dimensions"
      ]
    },
    {
      "cell_type": "code",
      "metadata": {
        "id": "g2KsVy6ICI-1",
        "colab_type": "code",
        "outputId": "8d03133b-69da-4bb5-fe95-50b11c7254f4",
        "colab": {
          "base_uri": "https://localhost:8080/",
          "height": 68
        }
      },
      "source": [
        "print (num_classes)\n",
        "print (num_train)\n",
        "print (train_features.shape)"
      ],
      "execution_count": 4,
      "outputs": [
        {
          "output_type": "stream",
          "text": [
            "10\n",
            "50000\n",
            "(50000, 32, 32, 3)\n"
          ],
          "name": "stdout"
        }
      ]
    },
    {
      "cell_type": "markdown",
      "metadata": {
        "id": "Vr4LLmZEKgq_",
        "colab_type": "text"
      },
      "source": [
        "### Display Data Samples"
      ]
    },
    {
      "cell_type": "code",
      "metadata": {
        "id": "XcFYYiEZCKr0",
        "colab_type": "code",
        "outputId": "9a396e01-3d9b-4ca0-e905-cb5d00d8389f",
        "colab": {
          "base_uri": "https://localhost:8080/",
          "height": 213
        }
      },
      "source": [
        "class_names = ['airplane','automobile','bird','cat','deer',\n",
        "               'dog','frog','horse','ship','truck']\n",
        "fig = plt.figure(figsize=(8,3))\n",
        "for i in range(num_classes):\n",
        "    ax = fig.add_subplot(2, 5, 1 + i, xticks=[], yticks=[])\n",
        "    idx = np.where(train_labels[:]==i)[0]\n",
        "    features_idx = train_features[idx,::]\n",
        "    img_num = np.random.randint(features_idx.shape[0])\n",
        "    im = features_idx[img_num]\n",
        "    ax.set_title(class_names[i])\n",
        "    plt.imshow(im)\n",
        "plt.show()"
      ],
      "execution_count": 5,
      "outputs": [
        {
          "output_type": "display_data",
          "data": {
            "image/png": "[encoded data removed]",
            "text/plain": [
              "<Figure size 576x216 with 10 Axes>"
            ]
          },
          "metadata": {
            "tags": []
          }
        }
      ]
    },
    {
      "cell_type": "markdown",
      "metadata": {
        "id": "ySlvqL-oKmqg",
        "colab_type": "text"
      },
      "source": [
        "### Data Normalization"
      ]
    },
    {
      "cell_type": "code",
      "metadata": {
        "id": "Rj2CHNjvlr8z",
        "colab_type": "code",
        "outputId": "37484de5-0efb-4540-ce28-740c9494ca91",
        "colab": {
          "base_uri": "https://localhost:8080/",
          "height": 34
        }
      },
      "source": [
        "# Convert data in the range 0&1\n",
        "train_features = train_features.astype('float32')/255\n",
        "test_features = test_features.astype('float32')/255\n",
        "\n",
        "# Findout mean and standard deviation\n",
        "train_mean = np.mean(train_features, axis=(0,1,2))\n",
        "train_std = np.std(train_features, axis=(0,1,2))\n",
        "print(\"Mean: \", train_mean, \"\\t Std Deviation: \", train_std)\n",
        "\n",
        "# Normalize the data\n",
        "train_features = (train_features - train_mean) / train_std\n",
        "test_features = (test_features - train_mean) / train_std\n",
        "\n",
        "# One Hot Encoding\n",
        "train_labels = np_utils.to_categorical(train_labels, num_classes)\n",
        "test_labels = np_utils.to_categorical(test_labels, num_classes)"
      ],
      "execution_count": 6,
      "outputs": [
        {
          "output_type": "stream",
          "text": [
            "Mean:  [0.4914009  0.48215896 0.4465308 ] \t Std Deviation:  [0.24703279 0.24348423 0.26158753]\n"
          ],
          "name": "stdout"
        }
      ]
    },
    {
      "cell_type": "markdown",
      "metadata": {
        "id": "gGlq6iOgLJ9p",
        "colab_type": "text"
      },
      "source": [
        "### Training Plots"
      ]
    },
    {
      "cell_type": "code",
      "metadata": {
        "id": "caXvdS_Bvmkb",
        "colab_type": "code",
        "colab": {}
      },
      "source": [
        "def plot_model_history(model_history):\n",
        "    fig, axs = plt.subplots(1,2,figsize=(15,5))\n",
        "    # summarize history for accuracy\n",
        "    axs[0].plot(range(1,len(model_history.history['acc'])+1),model_history.history['acc'])\n",
        "    axs[0].plot(range(1,len(model_history.history['val_acc'])+1),model_history.history['val_acc'])\n",
        "    axs[0].set_title('Model Accuracy')\n",
        "    axs[0].set_ylabel('Accuracy')\n",
        "    axs[0].set_xlabel('Epoch')\n",
        "    axs[0].set_xticks(np.arange(1,len(model_history.history['acc'])+1),len(model_history.history['acc'])/10)\n",
        "    axs[0].legend(['train', 'val'], loc='best')\n",
        "    # summarize history for loss\n",
        "    axs[1].plot(range(1,len(model_history.history['loss'])+1),model_history.history['loss'])\n",
        "    axs[1].plot(range(1,len(model_history.history['val_loss'])+1),model_history.history['val_loss'])\n",
        "    axs[1].set_title('Model Loss')\n",
        "    axs[1].set_ylabel('Loss')\n",
        "    axs[1].set_xlabel('Epoch')\n",
        "    axs[1].set_xticks(np.arange(1,len(model_history.history['loss'])+1),len(model_history.history['loss'])/10)\n",
        "    axs[1].legend(['train', 'val'], loc='best')\n",
        "    plt.show()"
      ],
      "execution_count": 0,
      "outputs": []
    },
    {
      "cell_type": "code",
      "metadata": {
        "id": "alGiYNVEvnVX",
        "colab_type": "code",
        "colab": {}
      },
      "source": [
        "def accuracy(test_x, test_y, model):\n",
        "    result = model.predict(test_x)\n",
        "    predicted_class = np.argmax(result, axis=1)\n",
        "    true_class = np.argmax(test_y, axis=1)\n",
        "    num_correct = np.sum(predicted_class == true_class) \n",
        "    accuracy = float(num_correct)/result.shape[0]\n",
        "    return (accuracy * 100)"
      ],
      "execution_count": 0,
      "outputs": []
    },
    {
      "cell_type": "markdown",
      "metadata": {
        "id": "ePBJ3WcZLOl6",
        "colab_type": "text"
      },
      "source": [
        "### Cutout, Crop and Padding"
      ]
    },
    {
      "cell_type": "code",
      "metadata": {
        "id": "E3NWNtGImYCI",
        "colab_type": "code",
        "colab": {}
      },
      "source": [
        "cap = iaa.CropAndPad(percent=(-0.05, 0.2), pad_mode=ia.ALL, pad_cval=(0, 255))\n",
        "\n",
        "def get_random_eraser(p=0.5, s_l=0.02, s_h=0.4, r_1=0.3, r_2=1/0.3, v_l=0, v_h=255, pixel_level=False):\n",
        "    def eraser(input_img):\n",
        "        img_h, img_w, img_c = input_img.shape\n",
        "        p_1 = np.random.rand()\n",
        "\n",
        "        if p_1 > p:\n",
        "            return input_img\n",
        "\n",
        "        while True:\n",
        "            s = np.random.uniform(s_l, s_h) * img_h * img_w\n",
        "            r = np.random.uniform(r_1, r_2)\n",
        "            w = int(np.sqrt(s / r))\n",
        "            h = int(np.sqrt(s * r))\n",
        "            left = np.random.randint(0, img_w)\n",
        "            top = np.random.randint(0, img_h)\n",
        "\n",
        "            if left + w <= img_w and top + h <= img_h:\n",
        "                break\n",
        "\n",
        "        if pixel_level:\n",
        "            c = np.random.uniform(v_l, v_h, (h, w, img_c))\n",
        "        else:\n",
        "            c = np.random.uniform(v_l, v_h)\n",
        "\n",
        "        input_img[top:top + h, left:left + w, :] = c\n",
        "        \n",
        "        # Crop and Padding \n",
        "        input_img = cap.augment_image(input_img)\n",
        "\n",
        "        return input_img\n",
        "      \n",
        "    return eraser"
      ],
      "execution_count": 0,
      "outputs": []
    },
    {
      "cell_type": "markdown",
      "metadata": {
        "id": "cV07Ju-HLec5",
        "colab_type": "text"
      },
      "source": [
        "### Model Architecture"
      ]
    },
    {
      "cell_type": "code",
      "metadata": {
        "id": "Jn5gVtLI3DCM",
        "colab_type": "code",
        "outputId": "cf1c258f-fee1-4ce8-c3d9-16b10a3edc5d",
        "colab": {
          "base_uri": "https://localhost:8080/",
          "height": 293
        }
      },
      "source": [
        "input = Input(shape=(32, 32, 3,))\n",
        "\n",
        "layer1 = Conv2D(64, (3,3), kernel_initializer='glorot_uniform', padding='same', use_bias=False)(input)\n",
        "layer1 = BatchNormalization(momentum=0.99, epsilon=0.001)(layer1)\n",
        "layer1 = Activation('relu')(layer1)\n",
        "\n",
        "layer2 = Conv2D(64, (3,3), kernel_initializer='glorot_uniform', padding='same', use_bias=False)(layer1)\n",
        "layer2 = BatchNormalization(momentum=0.99, epsilon=0.001)(layer2)\n",
        "layer2 = Activation('relu')(layer2)\n",
        "\n",
        "MP1 = MaxPooling2D(2)(layer2)\n",
        "\n",
        "layer2_1 = Conv2D(128, (3,3), kernel_initializer='glorot_uniform', padding='same', use_bias=False)(MP1)\n",
        "layer2_1 = BatchNormalization(momentum=0.99, epsilon=0.001)(layer2_1)\n",
        "layer2_1 = Activation('relu')(layer2_1)\n",
        "\n",
        "layer2_2 = Conv2D(128, (3,3), kernel_initializer='glorot_uniform', padding='same', use_bias=False)(layer2_1)\n",
        "layer2_2 = BatchNormalization(momentum=0.99, epsilon=0.001)(layer2_2)\n",
        "layer2_2 = Activation('relu')(layer2_2)\n",
        "\n",
        "# Concat\n",
        "block2_out = concatenate([layer2_2, MP1])\n",
        "\n",
        "layer3 = Conv2D(128, (3,3), kernel_initializer='glorot_uniform', padding='same', use_bias=False)(block2_out)\n",
        "layer3 = BatchNormalization(momentum=0.99, epsilon=0.001)(layer3)\n",
        "layer3 = Activation('relu')(layer3)\n",
        "MP2 = MaxPooling2D(2)(layer3)\n",
        "\n",
        "layer4 = Conv2D(64, (3,3), kernel_initializer='glorot_uniform', padding='same', use_bias=False)(MP2)\n",
        "layer4 = BatchNormalization(momentum=0.99, epsilon=0.001)(layer4)\n",
        "layer4 = Activation('relu')(layer4)\n",
        "MP3 = MaxPooling2D(2)(layer4)\n",
        "\n",
        "layer4_1 = Conv2D(256, (3,3), kernel_initializer='glorot_uniform', padding='same', use_bias=False)(MP3)\n",
        "layer4_1 = BatchNormalization(momentum=0.99, epsilon=0.001)(layer4_1)\n",
        "layer4_1 = Activation('relu')(layer4_1)\n",
        "\n",
        "layer4_2 = Conv2D(256, (3,3), kernel_initializer='glorot_uniform', padding='same', use_bias=False)(layer4_1)\n",
        "layer4_2 = BatchNormalization(momentum=0.99, epsilon=0.001)(layer4_2)\n",
        "layer4_2 = Activation('relu')(layer4_2)\n",
        "\n",
        "# Concat\n",
        "block4_out = concatenate([layer4_2, MP3])\n",
        "\n",
        "# globalmaxpool\n",
        "GMP = GlobalMaxPooling2D()(block4_out)\n",
        "\n",
        "DenseLayer = Dense(num_classes, kernel_initializer='glorot_uniform', use_bias=False)(GMP)\n",
        "\n",
        "Scaling = Lambda(lambda x: x*0.125)(DenseLayer)\n",
        "\n",
        "model = Model(inputs=[input], outputs=[Scaling])\n",
        "# model.summary()"
      ],
      "execution_count": 10,
      "outputs": [
        {
          "output_type": "stream",
          "text": [
            "WARNING: Logging before flag parsing goes to stderr.\n",
            "W0724 18:10:02.283679 139966665582464 deprecation_wrapper.py:119] From /usr/local/lib/python3.6/dist-packages/keras/backend/tensorflow_backend.py:74: The name tf.get_default_graph is deprecated. Please use tf.compat.v1.get_default_graph instead.\n",
            "\n",
            "W0724 18:10:02.315551 139966665582464 deprecation_wrapper.py:119] From /usr/local/lib/python3.6/dist-packages/keras/backend/tensorflow_backend.py:517: The name tf.placeholder is deprecated. Please use tf.compat.v1.placeholder instead.\n",
            "\n",
            "W0724 18:10:02.325874 139966665582464 deprecation_wrapper.py:119] From /usr/local/lib/python3.6/dist-packages/keras/backend/tensorflow_backend.py:4138: The name tf.random_uniform is deprecated. Please use tf.random.uniform instead.\n",
            "\n",
            "W0724 18:10:02.357913 139966665582464 deprecation_wrapper.py:119] From /usr/local/lib/python3.6/dist-packages/keras/backend/tensorflow_backend.py:174: The name tf.get_default_session is deprecated. Please use tf.compat.v1.get_default_session instead.\n",
            "\n",
            "W0724 18:10:02.358748 139966665582464 deprecation_wrapper.py:119] From /usr/local/lib/python3.6/dist-packages/keras/backend/tensorflow_backend.py:181: The name tf.ConfigProto is deprecated. Please use tf.compat.v1.ConfigProto instead.\n",
            "\n",
            "W0724 18:10:04.711329 139966665582464 deprecation_wrapper.py:119] From /usr/local/lib/python3.6/dist-packages/keras/backend/tensorflow_backend.py:1834: The name tf.nn.fused_batch_norm is deprecated. Please use tf.compat.v1.nn.fused_batch_norm instead.\n",
            "\n",
            "W0724 18:10:04.867233 139966665582464 deprecation_wrapper.py:119] From /usr/local/lib/python3.6/dist-packages/keras/backend/tensorflow_backend.py:3976: The name tf.nn.max_pool is deprecated. Please use tf.nn.max_pool2d instead.\n",
            "\n"
          ],
          "name": "stderr"
        }
      ]
    },
    {
      "cell_type": "markdown",
      "metadata": {
        "id": "H7zT3qiFLkcv",
        "colab_type": "text"
      },
      "source": [
        "### Hyperparameters"
      ]
    },
    {
      "cell_type": "code",
      "metadata": {
        "id": "7LUIR6tuV9W3",
        "colab_type": "code",
        "colab": {}
      },
      "source": [
        "BATCH_SIZE = 128        #@param [\"512\", \"256\", \"128\"] {type:\"raw\"}\n",
        "MOMENTUM = 0.9          #@param [\"0.9\", \"0.95\", \"0.975\"] {type:\"raw\"}\n",
        "WEIGHT_DECAY = 0.000125 #@param [\"0.000125\", \"0.00025\", \"0.0005\"] {type:\"raw\"}\n",
        "LEARNING_RATE = 0.01     #@param [\"0.4\", \"0.2\", \"0.1\", \"0.01\"] {type:\"raw\"}\n",
        "EPOCHS = 10             #@param {type:\"slider\", min:0, max:100, step:1}\n",
        "WARMUP = 5              #@param {type:\"slider\", min:0, max:24, step:1}\n",
        "VERBOSE = 1             #@param [\"0\", \"1\"]{type:\"raw\"}"
      ],
      "execution_count": 0,
      "outputs": []
    },
    {
      "cell_type": "markdown",
      "metadata": {
        "id": "tbuO1NEGLpcc",
        "colab_type": "text"
      },
      "source": [
        "### SGD with momentum"
      ]
    },
    {
      "cell_type": "code",
      "metadata": {
        "id": "lxawjhGDl9TT",
        "colab_type": "code",
        "colab": {}
      },
      "source": [
        "sgd = optimizers.SGD(lr=LEARNING_RATE, decay=WEIGHT_DECAY, momentum=MOMENTUM, nesterov=True)"
      ],
      "execution_count": 0,
      "outputs": []
    },
    {
      "cell_type": "markdown",
      "metadata": {
        "id": "AZnQAwyOLx2N",
        "colab_type": "text"
      },
      "source": [
        "### Compile Model"
      ]
    },
    {
      "cell_type": "code",
      "metadata": {
        "id": "uGhYs8dpERAx",
        "colab_type": "code",
        "outputId": "a081a9e1-605b-47fe-8743-08c45a57124a",
        "colab": {
          "base_uri": "https://localhost:8080/",
          "height": 51
        }
      },
      "source": [
        "model.compile(optimizer=sgd, loss='categorical_crossentropy', metrics=['accuracy'])"
      ],
      "execution_count": 13,
      "outputs": [
        {
          "output_type": "stream",
          "text": [
            "W0724 18:10:05.494174 139966665582464 deprecation_wrapper.py:119] From /usr/local/lib/python3.6/dist-packages/keras/optimizers.py:790: The name tf.train.Optimizer is deprecated. Please use tf.compat.v1.train.Optimizer instead.\n",
            "\n"
          ],
          "name": "stderr"
        }
      ]
    },
    {
      "cell_type": "markdown",
      "metadata": {
        "id": "LfrNKQE7iuBW",
        "colab_type": "text"
      },
      "source": [
        "### One Cycle LR"
      ]
    },
    {
      "cell_type": "code",
      "metadata": {
        "id": "we9ZDqUkLver",
        "colab_type": "code",
        "colab": {
          "base_uri": "https://localhost:8080/",
          "height": 34
        },
        "outputId": "7df3933f-7967-425a-da76-121d9219b6be"
      },
      "source": [
        "!git clone https://github.com/amitkayal/keras-one-cycle.git"
      ],
      "execution_count": 25,
      "outputs": [
        {
          "output_type": "stream",
          "text": [
            "fatal: destination path 'keras-one-cycle' already exists and is not an empty directory.\n"
          ],
          "name": "stdout"
        }
      ]
    },
    {
      "cell_type": "code",
      "metadata": {
        "id": "YrYvI-SomDah",
        "colab_type": "code",
        "colab": {}
      },
      "source": [
        "from clr import OneCycleLR\n",
        "\n",
        "lr_manager = OneCycleLR(num_samples, num_epoch, batch_size,\n",
        "                        end_percentage=0.1, scale_percentage=None,\n",
        "                        maximum_momentum=0.95, minimum_momentum=0.85)"
      ],
      "execution_count": 0,
      "outputs": []
    },
    {
      "cell_type": "code",
      "metadata": {
        "id": "MSB4yB2xjQGI",
        "colab_type": "code",
        "colab": {}
      },
      "source": [
        "# Cyclic LR\n",
        "# clr_triangular = CyclicLR(base_lr=0.05, max_lr=0.5, step_size=400000., mode='triangular2')\n",
        "\n",
        "# filepath=\"train1\\\\model-{epoch:02d}-{val_acc:.2f}.hdf5\"\n",
        "# checkpoint = ModelCheckpoint(filepath, monitor='val_acc', verbose=1, save_best_only=True, mode='max')\n",
        "# callbacks_list = [clr_triangular, checkpoint]"
      ],
      "execution_count": 0,
      "outputs": []
    },
    {
      "cell_type": "markdown",
      "metadata": {
        "id": "F0qThE7kL1RH",
        "colab_type": "text"
      },
      "source": [
        "### Model Training"
      ]
    },
    {
      "cell_type": "code",
      "metadata": {
        "id": "S53ok21G1TjA",
        "colab_type": "code",
        "colab": {
          "base_uri": "https://localhost:8080/",
          "height": 1000
        },
        "outputId": "bb206907-e3c8-46e0-bdb4-3ea236b973d0"
      },
      "source": [
        "from keras.preprocessing.image import ImageDataGenerator\n",
        "\n",
        "datagen = ImageDataGenerator(horizontal_flip=True,\n",
        "                             preprocessing_function=get_random_eraser(v_l=0, v_h=1, pixel_level=False)) # CutOut, Crop and padding\n",
        "                             \n",
        "\n",
        "start = time.time()\n",
        "\n",
        "# Train the model\n",
        "model_info = model.fit_generator(datagen.flow(train_features, train_labels, batch_size = BATCH_SIZE),\n",
        "                                 samples_per_epoch = train_features.shape[0], \n",
        "                                 epochs = EPOCHS, \n",
        "                                 validation_data = (test_features, test_labels), \n",
        "                                 verbose=VERBOSE, \n",
        "                                 callbacks=[lr_manager])\n",
        "end = time.time()\n",
        "print (\"Model took %0.2f seconds to train\"%(end - start))\n",
        "\n",
        "# plot model history\n",
        "plot_model_history(model_info)\n",
        "\n",
        "# compute test accuracy\n",
        "print (\"Accuracy on test data is: %0.2f\"%accuracy(test_features, test_labels, model))"
      ],
      "execution_count": 30,
      "outputs": [
        {
          "output_type": "stream",
          "text": [
            "/usr/local/lib/python3.6/dist-packages/ipykernel_launcher.py:16: UserWarning: Update your `fit_generator` call to the Keras 2 API: `fit_generator(<keras_pre..., epochs=10, validation_data=(array([[[..., verbose=1, callbacks=[<clr.OneC..., steps_per_epoch=390)`\n",
            "  app.launch_new_instance()\n",
            "W0724 18:15:54.100626 139966665582464 deprecation.py:323] From /usr/local/lib/python3.6/dist-packages/tensorflow/python/ops/math_grad.py:1250: add_dispatch_support.<locals>.wrapper (from tensorflow.python.ops.array_ops) is deprecated and will be removed in a future version.\n",
            "Instructions for updating:\n",
            "Use tf.where in 2.0, which has the same broadcast rule as np.where\n"
          ],
          "name": "stderr"
        },
        {
          "output_type": "stream",
          "text": [
            "Class: <clr.OneCycleLR object at 0x7f4c100bd1d0>\n",
            "Values: {'validation_data': None, 'model': <keras.engine.training.Model object at 0x7f4c10167470>, 'initial_lr': 128, 'end_percentage': 0.1, 'scale': 0.1, 'max_momentum': 0.95, 'min_momentum': 0.85, 'verbose': True, '_update_momentum': True, 'clr_iterations': 0.0, 'history': {}, 'epochs': None, 'batch_size': 10, 'samples': 50000, 'steps': None, 'num_iterations': None, 'mid_cycle_id': None, 'params': {'epochs': 10, 'steps': 390, 'verbose': 1, 'do_validation': True, 'metrics': ['loss', 'acc', 'val_loss', 'val_acc']}}\n",
            "Epoch 1/10\n",
            "390/390 [==============================] - 26s 66ms/step - loss: 6.5841 - acc: 0.0991 - val_loss: 6.4472 - val_acc: 0.1000\n",
            " - lr: 14.79168 - momentum: 0.95 \n",
            "Epoch 2/10\n",
            "390/390 [==============================] - 21s 54ms/step - loss: 6.5220 - acc: 0.1001 - val_loss: 6.4472 - val_acc: 0.1000\n",
            " - lr: 16.78848 - momentum: 0.95 \n",
            "Epoch 3/10\n",
            "390/390 [==============================] - 20s 53ms/step - loss: 6.5142 - acc: 0.1000 - val_loss: 6.4472 - val_acc: 0.1000\n",
            " - lr: 18.78528 - momentum: 0.94 \n",
            "Epoch 4/10\n",
            "390/390 [==============================] - 21s 53ms/step - loss: 6.4912 - acc: 0.0999 - val_loss: 6.4472 - val_acc: 0.1000\n",
            " - lr: 20.78208 - momentum: 0.94 \n",
            "Epoch 5/10\n",
            "390/390 [==============================] - 20s 53ms/step - loss: 6.5055 - acc: 0.1002 - val_loss: 6.4472 - val_acc: 0.1000\n",
            " - lr: 22.77888 - momentum: 0.94 \n",
            "Epoch 6/10\n",
            "390/390 [==============================] - 20s 52ms/step - loss: 6.4931 - acc: 0.1000 - val_loss: 6.4472 - val_acc: 0.1000\n",
            " - lr: 24.77568 - momentum: 0.94 \n",
            "Epoch 7/10\n",
            "390/390 [==============================] - 20s 52ms/step - loss: 6.4980 - acc: 0.0992 - val_loss: 6.4472 - val_acc: 0.1000\n",
            " - lr: 26.77248 - momentum: 0.94 \n",
            "Epoch 8/10\n",
            "390/390 [==============================] - 20s 51ms/step - loss: 6.4707 - acc: 0.1006 - val_loss: 6.4472 - val_acc: 0.1000\n",
            " - lr: 28.76928 - momentum: 0.94 \n",
            "Epoch 9/10\n",
            "390/390 [==============================] - 20s 51ms/step - loss: 6.4941 - acc: 0.0999 - val_loss: 6.4472 - val_acc: 0.1000\n",
            " - lr: 30.76608 - momentum: 0.93 \n",
            "Epoch 10/10\n",
            "390/390 [==============================] - 20s 53ms/step - loss: 6.4978 - acc: 0.1000 - val_loss: 6.4472 - val_acc: 0.1000\n",
            " - lr: 32.76288 - momentum: 0.93 \n",
            "Model took 211.07 seconds to train\n"
          ],
          "name": "stdout"
        },
        {
          "output_type": "display_data",
          "data": {
            "image/png": "[encoded data removed]",
            "text/plain": [
              "<Figure size 1080x360 with 2 Axes>"
            ]
          },
          "metadata": {
            "tags": []
          }
        },
        {
          "output_type": "stream",
          "text": [
            "Accuracy on test data is: 10.00\n"
          ],
          "name": "stdout"
        }
      ]
    }
  ]
}