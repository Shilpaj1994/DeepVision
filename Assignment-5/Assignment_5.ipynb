{
  "nbformat": 4,
  "nbformat_minor": 0,
  "metadata": {
    "colab": {
      "name": "Assignment -5",
      "version": "0.3.2",
      "provenance": [],
      "collapsed_sections": []
    },
    "kernelspec": {
      "name": "python3",
      "display_name": "Python 3"
    },
    "accelerator": "GPU"
  },
  "cells": [
    {
      "cell_type": "markdown",
      "metadata": {
        "id": "w0gOpQYQviLF",
        "colab_type": "text"
      },
      "source": [
        "# Assignment-5\n",
        "\n",
        "### Upgrades:\n",
        "  - Image normalization\n",
        "  - L2 regularization\n",
        "  - ReLU after BN\n",
        "  - Training - 40 epochs with saving best model\n",
        "  - Added misclassified images\n",
        "\n",
        "---\n"
      ]
    },
    {
      "cell_type": "markdown",
      "metadata": {
        "id": "aNyZv-Ec52ot",
        "colab_type": "text"
      },
      "source": [
        "### Install Dependencies \n",
        "\n",
        "- To train the following network, we use a framework named Keras.\n",
        "- Keras provides functions for Convolution layers, Activation layers, MaxPooling layer, etc. so we don't need write code for designing such layers. Instead we can focus on creating better network architecture\n",
        "- Following lines of code installs Keras on the system"
      ]
    },
    {
      "cell_type": "code",
      "metadata": {
        "id": "3m3w1Cw49Zkt",
        "colab_type": "code",
        "colab": {
          "base_uri": "https://localhost:8080/",
          "height": 34
        },
        "outputId": "c8345cec-55a3-45e1-83d5-a5148c49810a"
      },
      "source": [
        "# https://keras.io/\n",
        "!pip install -q keras\n",
        "import keras"
      ],
      "execution_count": 1,
      "outputs": [
        {
          "output_type": "stream",
          "text": [
            "Using TensorFlow backend.\n"
          ],
          "name": "stderr"
        }
      ]
    },
    {
      "cell_type": "markdown",
      "metadata": {
        "id": "L_6H50FBVsld",
        "colab_type": "text"
      },
      "source": [
        "### Import Libraries and Modules"
      ]
    },
    {
      "cell_type": "code",
      "metadata": {
        "id": "Eso6UHE080D4",
        "colab_type": "code",
        "colab": {}
      },
      "source": [
        "# Import Numpy for matrices and multi-dimensional array's processing\n",
        "import numpy as np\n",
        "\n",
        "# Import Sequential to write model layer-by-layer in sequence \n",
        "from keras.models import Sequential\n",
        "\n",
        "# Import Flatten layer to flatten feature-map, Dropout to avoid overfitting\n",
        "from keras.layers import Flatten, Dropout, Activation, BatchNormalization\n",
        "\n",
        "# Import Convolution layer to perform convolution on the channels, MaxPooling to reduce dimensions of channel\n",
        "from keras.layers import Convolution2D, MaxPooling2D\n",
        "\n",
        "# Import np_utils for one-hot-encoding\n",
        "from keras.utils import np_utils\n",
        "\n",
        "# Import hand written dataset of numbers from 0-9\n",
        "from keras.datasets import mnist\n",
        "\n",
        "# Import Regularizer\n",
        "from keras import regularizers\n",
        "\n",
        "# Import DataGenerator for Image Normalization\n",
        "from keras.preprocessing.image import ImageDataGenerator"
      ],
      "execution_count": 0,
      "outputs": []
    },
    {
      "cell_type": "markdown",
      "metadata": {
        "id": "zByEi95J86RD",
        "colab_type": "text"
      },
      "source": [
        "### Load the Data\n",
        "The data is loaded in following variables:\n",
        "\n",
        "- X_train: Samples used during training the network\n",
        "- y_train: Corresponding labels for training data\n",
        "- X_test: Samples used for validation after training the network\n",
        "- y_test: Corresponding labels for the validation of network's performance"
      ]
    },
    {
      "cell_type": "code",
      "metadata": {
        "id": "7eRM0QWN83PV",
        "colab_type": "code",
        "outputId": "3107a6aa-110f-467d-98a6-78506a42f34f",
        "colab": {
          "base_uri": "https://localhost:8080/",
          "height": 51
        }
      },
      "source": [
        "(X_train, y_train), (X_test, y_test) = mnist.load_data()"
      ],
      "execution_count": 3,
      "outputs": [
        {
          "output_type": "stream",
          "text": [
            "Downloading data from https://s3.amazonaws.com/img-datasets/mnist.npz\n",
            "11493376/11490434 [==============================] - 1s 0us/step\n"
          ],
          "name": "stdout"
        }
      ]
    },
    {
      "cell_type": "markdown",
      "metadata": {
        "id": "uxIXgp8xYNXF",
        "colab_type": "text"
      },
      "source": [
        "### Dataset Information and Display Data Sample\n",
        "- We have 60000 images in training dataset\n",
        "- We have 10000 images in the testing dataset\n",
        "- Each image's dimension are 28x28x1"
      ]
    },
    {
      "cell_type": "code",
      "metadata": {
        "id": "4a4Be72j8-ZC",
        "colab_type": "code",
        "outputId": "ffae9f3e-ff55-41e0-b2fc-e44137b08d96",
        "colab": {
          "base_uri": "https://localhost:8080/",
          "height": 320
        }
      },
      "source": [
        "# Dimensions of the training dataset images\n",
        "print (X_train.shape)\n",
        "\n",
        "# Dimensions of the testing dataset images\n",
        "print (X_test.shape)\n",
        "\n",
        "# Import python module for plotting the image\n",
        "from matplotlib import pyplot as plt\n",
        "\n",
        "# Below line is written to display an image in this notebook\n",
        "%matplotlib inline\n",
        "\n",
        "# Plotting first image in the training dataset\n",
        "# cmap='gray' displays the data sample in appropriate color space\n",
        "plt.imshow(X_train[0], cmap='gray')"
      ],
      "execution_count": 4,
      "outputs": [
        {
          "output_type": "stream",
          "text": [
            "(60000, 28, 28)\n",
            "(10000, 28, 28)\n"
          ],
          "name": "stdout"
        },
        {
          "output_type": "execute_result",
          "data": {
            "text/plain": [
              "<matplotlib.image.AxesImage at 0x7faa2edcba58>"
            ]
          },
          "metadata": {
            "tags": []
          },
          "execution_count": 4
        },
        {
          "output_type": "display_data",
          "data": {
            "image/png": "[encoded data removed]",
            "text/plain": [
              "<Figure size 432x288 with 1 Axes>"
            ]
          },
          "metadata": {
            "tags": []
          }
        }
      ]
    },
    {
      "cell_type": "markdown",
      "metadata": {
        "id": "bKorE7Q0ZOZY",
        "colab_type": "text"
      },
      "source": [
        "### Reshape the dataset\n",
        "- Keras requires the input data in a form of 4D tensor\n",
        "- The first value represents the total number of images in a training/testing dataset\n",
        "- Second and third values are dimensions of an image\n",
        "- Fourth value is the number of channels (1 for grayscale and 3 for RGB)  \n",
        "\n",
        "Thus, the X_train will have a shape of (60000, 28, 28, 1)  \n",
        "and the X_test will have a shape of (1000, 28, 28, 1)"
      ]
    },
    {
      "cell_type": "code",
      "metadata": {
        "id": "dkmprriw9AnZ",
        "colab_type": "code",
        "colab": {}
      },
      "source": [
        "X_train = X_train.reshape(X_train.shape[0], 28, 28,1)\n",
        "X_test = X_test.reshape(X_test.shape[0], 28, 28,1)"
      ],
      "execution_count": 0,
      "outputs": []
    },
    {
      "cell_type": "markdown",
      "metadata": {
        "id": "3yaQcS6aZnte",
        "colab_type": "text"
      },
      "source": [
        "### Pixel Normalizing\n",
        "- When a Kernel is convolved over an input image, the maximum pixel value in the feature-map depends upon the maximum pixel value in the kernel\n",
        "- Different kernels will have different maximum values and so their corresponding feature-maps will have different maximum values\n",
        "- The feature-map with greater maximum pixel value will be louder while training the network\n",
        "- To avoid biased activations of such kernels, we perform Normalization\n",
        "- For normalization, we first convert the data into float so that we can get all the decimal values\n",
        "- By dividing all the pixels by 255, all the pixel values will be restricted between 0.0 to 1.0. This is how we perform pixel normalization."
      ]
    },
    {
      "cell_type": "code",
      "metadata": {
        "id": "X2m4YS4E9CRh",
        "colab_type": "code",
        "colab": {}
      },
      "source": [
        "# Convert data to float so that it can hold values between 0.0 to 1.0\n",
        "X_train = X_train.astype('float32')\n",
        "X_test = X_test.astype('float32')\n",
        "\n",
        "# Pixel Normalizing \n",
        "X_train /= 255\n",
        "X_test /= 255"
      ],
      "execution_count": 0,
      "outputs": []
    },
    {
      "cell_type": "markdown",
      "metadata": {
        "id": "cINx9laCzAd-",
        "colab_type": "text"
      },
      "source": [
        "### Image Normalization\n",
        "- Because of convolution, some pixels are getting covered a lot more times compared to other pixels. This creates a peak of information at the center of the image and elsewhere it is distributed.\n",
        "- Such uneven distribution of information makes it more difficult for the model to learn. Hence, we perform image normalization\n",
        "- Also, images with differet lighting conditions perform better after normalization\n",
        "![](https://github.com/Shilpaj1994/DeepVision/blob/master/Assignment-5/normalization.jpg?raw=true)\n",
        "- A 8 bit integer image will have all the pixel values in range 0 to 255\n",
        "- The minimum pixel value in an image need not be zero\n",
        "- Likewise, the maximum pixel value need not be 255\n",
        "- In image normalization, we stretch the minimum pixel value to 0 and maximum pixel value to 255\n",
        "\n",
        "![](https://github.com/Shilpaj1994/DeepVision/blob/master/Assignment-5/prep.jpeg?raw=true)\n",
        "We can achieve normalization by following steps\n",
        "- Zero-centering\n",
        "- Normalizing\n",
        "\n",
        "\n",
        "In Batch Normalization,\n",
        "  - We calculate mean ($\\mu$) and standard deviation ($\\sigma$) for each channel of the layer\n",
        "  - Consider x as a channel, we calculate new channel using $\\bar{x} = \\frac {x-\\mu}{\\sigma}$\n",
        "  - Later, we linearize this using $y = \\gamma \\bar{x} + \\beta$\n",
        "  - For nomralized data, $\\beta = 0$ and $\\gamma = 1$ \n",
        "  - $\\gamma$ is related to scale while $\\beta$ is related to shift\n",
        "  - Batch Normalization improves the model performance. Following is the graph of training with and without BN\n",
        "  ![](https://github.com/Shilpaj1994/DeepVision/blob/master/Assignment-5/perf.png?raw=true)\n",
        "  \n",
        "---\n",
        "\n",
        "Note: If model is not perfomring well on one-particular class then we can take images of that class and perform image normalization to improve the accuracy of the model."
      ]
    },
    {
      "cell_type": "code",
      "metadata": {
        "id": "K_TuhBERzD0N",
        "colab_type": "code",
        "outputId": "92f47826-d1ec-4ad9-d626-424f49adf7b2",
        "colab": {
          "base_uri": "https://localhost:8080/",
          "height": 85
        }
      },
      "source": [
        "trainX = X_train\n",
        "trainy = y_train\n",
        "testX = X_test\n",
        "testY = y_test\n",
        "\n",
        "# report pixel means and standard deviations\n",
        "print('Statistics train=%.3f (%.3f), test=%.3f (%.3f)' % (trainX.mean(), trainX.std(), testX.mean(), testX.std()))\n",
        "\n",
        "# create generator that centers pixel values\n",
        "datagen = ImageDataGenerator(featurewise_center=True, featurewise_std_normalization=True)\n",
        "\n",
        "# calculate the mean on the training dataset\n",
        "datagen.fit(trainX)\n",
        "print('Data Generator mean=%.3f, std=%.3f' % (datagen.mean, datagen.std))\n",
        "\n",
        "# demonstrate effect on a single batch of samples\n",
        "iterator = datagen.flow(trainX, trainy, batch_size=64)\n",
        "\n",
        "# get a batch\n",
        "batchX, batchy = iterator.next()\n",
        "\n",
        "# pixel stats in the batch\n",
        "print(batchX.shape, batchX.mean(), batchX.std())\n",
        "\n",
        "# demonstrate effect on entire training dataset\n",
        "iterator = datagen.flow(trainX, trainy, batch_size=len(trainX), shuffle=False)\n",
        "\n",
        "# get a batch\n",
        "batchX, batchy = iterator.next()\n",
        "\n",
        "# pixel stats in the batch\n",
        "print(batchX.shape, batchX.mean(), batchX.std())"
      ],
      "execution_count": 7,
      "outputs": [
        {
          "output_type": "stream",
          "text": [
            "Statistics train=0.131 (0.308), test=0.133 (0.310)\n",
            "Data Generator mean=0.131, std=0.308\n",
            "(64, 28, 28, 1) -0.011463113 0.9870029\n",
            "(60000, 28, 28, 1) -4.9324944e-07 0.9999959\n"
          ],
          "name": "stdout"
        }
      ]
    },
    {
      "cell_type": "markdown",
      "metadata": {
        "id": "gFzfX0QqZ9HS",
        "colab_type": "text"
      },
      "source": [
        "### Print Labels"
      ]
    },
    {
      "cell_type": "code",
      "metadata": {
        "id": "0Mn0vAYD9DvB",
        "colab_type": "code",
        "outputId": "a42c11e5-bdd6-444d-bb48-807de01fba2f",
        "colab": {
          "base_uri": "https://localhost:8080/",
          "height": 34
        }
      },
      "source": [
        "y_train[:10]"
      ],
      "execution_count": 8,
      "outputs": [
        {
          "output_type": "execute_result",
          "data": {
            "text/plain": [
              "array([5, 0, 4, 1, 9, 2, 1, 3, 1, 4], dtype=uint8)"
            ]
          },
          "metadata": {
            "tags": []
          },
          "execution_count": 8
        }
      ]
    },
    {
      "cell_type": "markdown",
      "metadata": {
        "id": "fhFS2uM3aDEh",
        "colab_type": "text"
      },
      "source": [
        "### One-Hot Encoding\n",
        "- It is way of representing labels\n",
        "- Instead of using one-single scalar for labels, we use a vector to represent the labels.\n",
        "- The position of the ground-truth is marked as 1 while other positions are marked as 0\n",
        "- The network cannot print out the prediction as 0,1,2,....9\n",
        "- Instead it can activate the neuron associated with these numbers. So, the last layer before activation layer has number of neurons equal to number of classes (in this case 10)\n",
        "- The neuron associated with the number is set as 1 while other neurons are set as 0. Following is the pattern in which encoding is done:  \n",
        "  - Number 0 is encoded as 1000000000  \n",
        "  - Number 1 is encoded as 0100000000  \n",
        "  - Number 2 is encoded as 0010000000  \n",
        "   .  \n",
        "   .  \n",
        "   .  \n",
        "   .  \n",
        "  - Number 9 is encoded as 0000000001"
      ]
    },
    {
      "cell_type": "code",
      "metadata": {
        "id": "ZG8JiXR39FHC",
        "colab_type": "code",
        "colab": {}
      },
      "source": [
        "# Convert 1-dimensional class arrays to 10-dimensional class matrices\n",
        "Y_train = np_utils.to_categorical(y_train, 10)\n",
        "Y_test = np_utils.to_categorical(y_test, 10)"
      ],
      "execution_count": 0,
      "outputs": []
    },
    {
      "cell_type": "markdown",
      "metadata": {
        "id": "yShor8IUaiT9",
        "colab_type": "text"
      },
      "source": [
        "### Print Labels after one-hot encoding"
      ]
    },
    {
      "cell_type": "code",
      "metadata": {
        "id": "fYlFRvKS9HMB",
        "colab_type": "code",
        "outputId": "7ccf6013-b899-43d7-aafc-7fae7fc145b0",
        "colab": {
          "base_uri": "https://localhost:8080/",
          "height": 187
        }
      },
      "source": [
        "Y_train[:10]"
      ],
      "execution_count": 10,
      "outputs": [
        {
          "output_type": "execute_result",
          "data": {
            "text/plain": [
              "array([[0., 0., 0., 0., 0., 1., 0., 0., 0., 0.],\n",
              "       [1., 0., 0., 0., 0., 0., 0., 0., 0., 0.],\n",
              "       [0., 0., 0., 0., 1., 0., 0., 0., 0., 0.],\n",
              "       [0., 1., 0., 0., 0., 0., 0., 0., 0., 0.],\n",
              "       [0., 0., 0., 0., 0., 0., 0., 0., 0., 1.],\n",
              "       [0., 0., 1., 0., 0., 0., 0., 0., 0., 0.],\n",
              "       [0., 1., 0., 0., 0., 0., 0., 0., 0., 0.],\n",
              "       [0., 0., 0., 1., 0., 0., 0., 0., 0., 0.],\n",
              "       [0., 1., 0., 0., 0., 0., 0., 0., 0., 0.],\n",
              "       [0., 0., 0., 0., 1., 0., 0., 0., 0., 0.]], dtype=float32)"
            ]
          },
          "metadata": {
            "tags": []
          },
          "execution_count": 10
        }
      ]
    },
    {
      "cell_type": "markdown",
      "metadata": {
        "id": "spiB8iJDao-w",
        "colab_type": "text"
      },
      "source": [
        "### Model Architecture\n",
        "\n",
        "- Model is defined sequential\n",
        "- The model has convolution, maxpooling, flatten, BatchNormalization and softmax layers\n",
        "\n",
        "- **Convolution Layer:**\n",
        "  - It is a process of extracting features from a channel using a kernel (feature extractor)\n",
        "![](https://github.com/Shilpaj1994/Phase1_assignments/blob/master/Assignment%201/5-3ConvolutionSmall.gif?raw=true)\n",
        "\n",
        "- **MaxPooling Layer:**\n",
        "  - It reduces the dimension of an channel. If we use MaxPooling of 2x2, dimension of an channel will become half of input channel\n",
        "  - It only passes the louder pixel value in the next layer\n",
        "![](https://github.com/Shilpaj1994/Phase1_assignments/blob/master/Assignment%203/Files/maxpool.gif?raw=true)\n",
        "\n",
        "- **Softmax Layer:**\n",
        "  - It is like probability\n",
        "  - It gives score of a class between 0 and 1\n",
        "![](https://github.com/Shilpaj1994/Phase1_assignments/blob/master/Assignment%201/softmax.png?raw=true)\n",
        "\n",
        "- **Flatten Layer:**\n",
        "  - It flattens the input dimension\n",
        "  - Multiple 2D channels are converted into a vector \n",
        "  \n",
        "  \n",
        "- [Regularization](https://machinelearningmastery.com/how-to-reduce-overfitting-in-deep-learning-with-weight-regularization/)\n",
        "  - We use L1 and L2 regularization to avoid overfitting\n",
        "  - In ML, regularization penalizes the coefficients\n",
        "  - In DL, it penalized weight matrices\n",
        "  - It updates the general cost function by adding regularization term  \n",
        "  `Cost function = Loss + Regularizer`\n",
        "  - To avoid overfitting, we need simpler models\n",
        "  - Neural networks with smaller weights leads to simpler models. Hence, regularization is used to reduce the weights\n",
        "  - We use L1 and L2 regularizer.\n",
        "  - L1 has absolute term while L2 has square term. Hence, L1 may reduce the weight value to zero while L2 will reduce nearby zero but not exactly zero\n",
        "  ![](https://github.com/Shilpaj1994/DeepVision/blob/master/Assignment-5/reg.JPG?raw=true)\n",
        "  - Following are the formulas for L1 and L2\n",
        "   - L1  \n",
        "      ![](https://github.com/Shilpaj1994/DeepVision/blob/master/Assignment-5/l1.png?raw=true)\n",
        "   - L2  \n",
        "      ![](https://github.com/Shilpaj1994/DeepVision/blob/master/Assignment-5/l2.png?raw=true)  \n",
        "  - Code implementation of L2 regularization\n",
        "    ```\n",
        "    model.add(Convolution2D(10, 3, kernel_regularizer=regularizers.l2(decay_rate)))\n",
        "    ```"
      ]
    },
    {
      "cell_type": "code",
      "metadata": {
        "id": "F_KR_t_XV9rk",
        "colab_type": "code",
        "outputId": "8f701929-ae53-4741-c20b-7967885b6e8c",
        "colab": {
          "base_uri": "https://localhost:8080/",
          "height": 1465
        }
      },
      "source": [
        "# For reproducable results\n",
        "np.random.seed(7)\n",
        "\n",
        "drop = 0.2\n",
        "alpha = 0.0007\n",
        "\n",
        "# Define Sequential Model Type\n",
        "model = Sequential()\n",
        "\n",
        "# Convolution Block\n",
        "model.add(Convolution2D(10, 3, 3, input_shape=(28,28,1), name='conv_1', use_bias=False, kernel_regularizer=regularizers.l2(alpha)))   # Layer 1: Input:28x28x01  |  Kernels:(3x3x01)x10  |  Output:26x26x10  |  Receptive Field:3x3 \n",
        "model.add(BatchNormalization())                                                                                                       # Layer 2: Batch Normalization\n",
        "model.add(Activation('relu'))                                                                                                         # Layer 3: ReLU Activation\n",
        "model.add(Convolution2D(10, 3, 3, name='conv_2', use_bias=False, kernel_regularizer=regularizers.l2(alpha)))                          # Layer 4: Input:26x26x10  |  Kernels:(3x3x10)x10  |  Output:24x24x10  |  Receptive Field:5x5  \n",
        "model.add(BatchNormalization())                                                                                                       # Layer 5: Batch Normalization\n",
        "model.add(Activation('relu'))                                                                                                         # Layer 6: ReLU Activation\n",
        "model.add(Convolution2D(12, 3, 3, name='conv_3', use_bias=False, kernel_regularizer=regularizers.l2(alpha)))                          # Layer 7: Input:24x24x64  |  Kernels:(3x3x10)x12  |  Output:22x22x12  |  Receptive Field:7x7\n",
        "model.add(BatchNormalization())                                                                                                       # Layer 8: Batch Normalization\n",
        "model.add(Activation('relu'))                                                                                                         # Layer 9: ReLU Activation\n",
        "\n",
        "# Transition Block\n",
        "model.add(Convolution2D(10, 1, 1, name='conv_4_1x1', use_bias=False, kernel_regularizer=regularizers.l2(alpha)))                      # Layer 10: Input:22x22x12  |  Kernels:(1x1x12)x10  |  Output:22x22x10  |  Receptive Field:7x7 \n",
        "model.add(MaxPooling2D(2, name='MP'))                                                                                                 # Layer 11: Input:22x22x10  |    MaxPooling:(2x2)   |  Output:11x11x10  |  Receptive Field:14x14 \n",
        "model.add(BatchNormalization())                                                                                                       # Layer 12: Batch Normalization\n",
        "model.add(Activation('relu'))                                                                                                         # Layer 13: ReLU Activation\n",
        "model.add(Dropout(drop))                                                                                                              # Layer 14: Dropout Layer\n",
        "\n",
        "# Convolution Block\n",
        "model.add(Convolution2D(10, 3, 3, name='conv_5', use_bias=False, kernel_regularizer=regularizers.l2(alpha)))                          # Layer 15: Input:11x11x10  |  Kernels:(3x3x10)x10  |  Output:9x9x10  |  Receptive Field:16x16 \n",
        "model.add(BatchNormalization())                                                                                                       # Layer 16: Batch Normalization\n",
        "model.add(Activation('relu'))                                                                                                         # Layer 17: ReLU Activation\n",
        "model.add(Convolution2D(10, 3, 3, name='conv_6', use_bias=False, kernel_regularizer=regularizers.l2(alpha)))                          # Layer 18: Input:09x09x10  |  Kernels:(3x3x10)x10  |  Output:7x7x10  |  Receptive Field:18x18 \n",
        "model.add(BatchNormalization())                                                                                                       # Layer 19: Batch Normalization\n",
        "model.add(Activation('relu'))                                                                                                         # Layer 20: ReLU Activation\n",
        "model.add(Convolution2D(12, 3, 3, name='conv_7', use_bias=False, kernel_regularizer=regularizers.l2(alpha)))                          # Layer 21: Input:07x07x10  |  Kernels:(3x3x10)x12  |  Output:5x5x12  |  Receptive Field:20x20 \n",
        "model.add(BatchNormalization())                                                                                                       # Layer 22: Batch Normalization\n",
        "model.add(Activation('relu'))                                                                                                         # Layer 23: ReLU Activation\n",
        "\n",
        "# Transition Block\n",
        "model.add(Convolution2D(10, 1, 1, name='conv_8_1x1', use_bias=False, kernel_regularizer=regularizers.l2(alpha)))                      # Layer 24: Input:5x5x12    |  Kernels:(1x1x12)x10  |  Output:5x5x10  |  Receptive Field:22x22\n",
        "model.add(BatchNormalization())                                                                                                       # Layer 25: Batch Normalization\n",
        "model.add(Activation('relu'))                                                                                                         # Layer 26: ReLU Activation\n",
        "model.add(Dropout(drop))                                                                                                              # Layer 27: Dropout Layer\n",
        "\n",
        "# Output Block\n",
        "model.add(Convolution2D(10, 5, name='conv_9', use_bias=False, kernel_regularizer=regularizers.l2(alpha)))                             # Layer 28: Input:5x5x10   |  Kernels:(5x5x10)x10  |  Output:1x1x10  |  Receptive Field:27x27 \n",
        "model.add(Flatten())                                                                                                                  # Layer 29: Input:1x1x10   |  Output:10\n",
        "model.add(Activation('softmax'))                                                                                                      # Layer 30: Activation Layer\n",
        "\n",
        "# Summaries above architecture\n",
        "model.summary()"
      ],
      "execution_count": 11,
      "outputs": [
        {
          "output_type": "stream",
          "text": [
            "WARNING:tensorflow:From /usr/local/lib/python3.6/dist-packages/tensorflow/python/framework/op_def_library.py:263: colocate_with (from tensorflow.python.framework.ops) is deprecated and will be removed in a future version.\n",
            "Instructions for updating:\n",
            "Colocations handled automatically by placer.\n"
          ],
          "name": "stdout"
        },
        {
          "output_type": "stream",
          "text": [
            "/usr/local/lib/python3.6/dist-packages/ipykernel_launcher.py:10: UserWarning: Update your `Conv2D` call to the Keras 2 API: `Conv2D(10, (3, 3), input_shape=(28, 28, 1..., name=\"conv_1\", use_bias=False, kernel_regularizer=<keras.reg...)`\n",
            "  # Remove the CWD from sys.path while we load stuff.\n",
            "/usr/local/lib/python3.6/dist-packages/ipykernel_launcher.py:13: UserWarning: Update your `Conv2D` call to the Keras 2 API: `Conv2D(10, (3, 3), name=\"conv_2\", use_bias=False, kernel_regularizer=<keras.reg...)`\n",
            "  del sys.path[0]\n",
            "/usr/local/lib/python3.6/dist-packages/ipykernel_launcher.py:16: UserWarning: Update your `Conv2D` call to the Keras 2 API: `Conv2D(12, (3, 3), name=\"conv_3\", use_bias=False, kernel_regularizer=<keras.reg...)`\n",
            "  app.launch_new_instance()\n",
            "/usr/local/lib/python3.6/dist-packages/ipykernel_launcher.py:21: UserWarning: Update your `Conv2D` call to the Keras 2 API: `Conv2D(10, (1, 1), name=\"conv_4_1x1\", use_bias=False, kernel_regularizer=<keras.reg...)`\n"
          ],
          "name": "stderr"
        },
        {
          "output_type": "stream",
          "text": [
            "WARNING:tensorflow:From /usr/local/lib/python3.6/dist-packages/keras/backend/tensorflow_backend.py:3445: calling dropout (from tensorflow.python.ops.nn_ops) with keep_prob is deprecated and will be removed in a future version.\n",
            "Instructions for updating:\n",
            "Please use `rate` instead of `keep_prob`. Rate should be set to `rate = 1 - keep_prob`.\n"
          ],
          "name": "stdout"
        },
        {
          "output_type": "stream",
          "text": [
            "/usr/local/lib/python3.6/dist-packages/ipykernel_launcher.py:28: UserWarning: Update your `Conv2D` call to the Keras 2 API: `Conv2D(10, (3, 3), name=\"conv_5\", use_bias=False, kernel_regularizer=<keras.reg...)`\n",
            "/usr/local/lib/python3.6/dist-packages/ipykernel_launcher.py:31: UserWarning: Update your `Conv2D` call to the Keras 2 API: `Conv2D(10, (3, 3), name=\"conv_6\", use_bias=False, kernel_regularizer=<keras.reg...)`\n",
            "/usr/local/lib/python3.6/dist-packages/ipykernel_launcher.py:34: UserWarning: Update your `Conv2D` call to the Keras 2 API: `Conv2D(12, (3, 3), name=\"conv_7\", use_bias=False, kernel_regularizer=<keras.reg...)`\n"
          ],
          "name": "stderr"
        },
        {
          "output_type": "stream",
          "text": [
            "_________________________________________________________________\n",
            "Layer (type)                 Output Shape              Param #   \n",
            "=================================================================\n",
            "conv_1 (Conv2D)              (None, 26, 26, 10)        90        \n",
            "_________________________________________________________________\n",
            "batch_normalization_1 (Batch (None, 26, 26, 10)        40        \n",
            "_________________________________________________________________\n",
            "activation_1 (Activation)    (None, 26, 26, 10)        0         \n",
            "_________________________________________________________________\n",
            "conv_2 (Conv2D)              (None, 24, 24, 10)        900       \n",
            "_________________________________________________________________\n",
            "batch_normalization_2 (Batch (None, 24, 24, 10)        40        \n",
            "_________________________________________________________________\n",
            "activation_2 (Activation)    (None, 24, 24, 10)        0         \n",
            "_________________________________________________________________\n",
            "conv_3 (Conv2D)              (None, 22, 22, 12)        1080      \n",
            "_________________________________________________________________\n",
            "batch_normalization_3 (Batch (None, 22, 22, 12)        48        \n",
            "_________________________________________________________________\n",
            "activation_3 (Activation)    (None, 22, 22, 12)        0         \n",
            "_________________________________________________________________\n",
            "conv_4_1x1 (Conv2D)          (None, 22, 22, 10)        120       \n",
            "_________________________________________________________________\n",
            "MP (MaxPooling2D)            (None, 11, 11, 10)        0         \n",
            "_________________________________________________________________\n",
            "batch_normalization_4 (Batch (None, 11, 11, 10)        40        \n",
            "_________________________________________________________________\n",
            "activation_4 (Activation)    (None, 11, 11, 10)        0         \n",
            "_________________________________________________________________\n",
            "dropout_1 (Dropout)          (None, 11, 11, 10)        0         \n",
            "_________________________________________________________________\n",
            "conv_5 (Conv2D)              (None, 9, 9, 10)          900       \n",
            "_________________________________________________________________\n",
            "batch_normalization_5 (Batch (None, 9, 9, 10)          40        \n",
            "_________________________________________________________________\n",
            "activation_5 (Activation)    (None, 9, 9, 10)          0         \n",
            "_________________________________________________________________\n",
            "conv_6 (Conv2D)              (None, 7, 7, 10)          900       \n",
            "_________________________________________________________________\n",
            "batch_normalization_6 (Batch (None, 7, 7, 10)          40        \n",
            "_________________________________________________________________\n",
            "activation_6 (Activation)    (None, 7, 7, 10)          0         \n",
            "_________________________________________________________________\n",
            "conv_7 (Conv2D)              (None, 5, 5, 12)          1080      \n",
            "_________________________________________________________________\n",
            "batch_normalization_7 (Batch (None, 5, 5, 12)          48        \n",
            "_________________________________________________________________\n",
            "activation_7 (Activation)    (None, 5, 5, 12)          0         \n",
            "_________________________________________________________________\n",
            "conv_8_1x1 (Conv2D)          (None, 5, 5, 10)          120       \n",
            "_________________________________________________________________\n",
            "batch_normalization_8 (Batch (None, 5, 5, 10)          40        \n",
            "_________________________________________________________________\n",
            "activation_8 (Activation)    (None, 5, 5, 10)          0         \n",
            "_________________________________________________________________\n",
            "dropout_2 (Dropout)          (None, 5, 5, 10)          0         \n",
            "_________________________________________________________________\n",
            "conv_9 (Conv2D)              (None, 1, 1, 10)          2500      \n",
            "_________________________________________________________________\n",
            "flatten_1 (Flatten)          (None, 10)                0         \n",
            "_________________________________________________________________\n",
            "activation_9 (Activation)    (None, 10)                0         \n",
            "=================================================================\n",
            "Total params: 8,026\n",
            "Trainable params: 7,858\n",
            "Non-trainable params: 168\n",
            "_________________________________________________________________\n"
          ],
          "name": "stdout"
        },
        {
          "output_type": "stream",
          "text": [
            "/usr/local/lib/python3.6/dist-packages/ipykernel_launcher.py:39: UserWarning: Update your `Conv2D` call to the Keras 2 API: `Conv2D(10, (1, 1), name=\"conv_8_1x1\", use_bias=False, kernel_regularizer=<keras.reg...)`\n"
          ],
          "name": "stderr"
        }
      ]
    },
    {
      "cell_type": "markdown",
      "metadata": {
        "id": "MZLoD0UaDpV0",
        "colab_type": "text"
      },
      "source": [
        "### Compile the Model"
      ]
    },
    {
      "cell_type": "code",
      "metadata": {
        "id": "3MSbJEfeWDhD",
        "colab_type": "code",
        "colab": {}
      },
      "source": [
        "from keras.optimizers import Adam\n",
        "from keras.callbacks import LearningRateScheduler\n",
        "def scheduler(epoch, lr):\n",
        "  return round(0.003 * 1/(1 + 0.319 * epoch), 10)\n",
        "\n",
        "model.compile(loss='categorical_crossentropy', optimizer=Adam(lr=0.003), metrics=['accuracy'])"
      ],
      "execution_count": 0,
      "outputs": []
    },
    {
      "cell_type": "markdown",
      "metadata": {
        "id": "XjQFqK8573vK",
        "colab_type": "text"
      },
      "source": [
        "### Mount the Drive\n",
        "Google Drive needs to be mounted before accessing space for storing models or loading models."
      ]
    },
    {
      "cell_type": "code",
      "metadata": {
        "id": "tajPD9av7bdj",
        "colab_type": "code",
        "colab": {
          "base_uri": "https://localhost:8080/",
          "height": 122
        },
        "outputId": "823c271b-6c85-43ce-e485-5d43bd56a163"
      },
      "source": [
        "from google.colab import drive\n",
        "drive.mount('/content/gdrive')"
      ],
      "execution_count": 13,
      "outputs": [
        {
          "output_type": "stream",
          "text": [
            "Go to this URL in a browser: https://accounts.google.com/o/oauth2/auth?client_id=947318989803-6bn6qk8qdgf4n4g3pfee6491hc0brc4i.apps.googleusercontent.com&redirect_uri=urn%3Aietf%3Awg%3Aoauth%3A2.0%3Aoob&scope=email%20https%3A%2F%2Fwww.googleapis.com%2Fauth%2Fdocs.test%20https%3A%2F%2Fwww.googleapis.com%2Fauth%2Fdrive%20https%3A%2F%2Fwww.googleapis.com%2Fauth%2Fdrive.photos.readonly%20https%3A%2F%2Fwww.googleapis.com%2Fauth%2Fpeopleapi.readonly&response_type=code\n",
            "\n",
            "Enter your authorization code:\n",
            "··········\n",
            "Mounted at /content/gdrive\n"
          ],
          "name": "stdout"
        }
      ]
    },
    {
      "cell_type": "markdown",
      "metadata": {
        "id": "ULhqoABM-609",
        "colab_type": "text"
      },
      "source": [
        "### ModelCheckpoint to save best model on Colab"
      ]
    },
    {
      "cell_type": "code",
      "metadata": {
        "id": "ssv2UV3w5LhQ",
        "colab_type": "code",
        "colab": {}
      },
      "source": [
        "from keras.callbacks import ModelCheckpoint\n",
        "\n",
        "# Link to store models\n",
        "filepath=\"/content/gdrive/My Drive/Colab Notebooks/Training/model-{epoch:02d}-{val_acc:.2f}.hdf5\"\n",
        "\n",
        "# Configuration of Modelcheckpoint to save only best models\n",
        "checkpoint = ModelCheckpoint(filepath, monitor='val_acc', verbose=1, save_best_only=True, mode='max')"
      ],
      "execution_count": 0,
      "outputs": []
    },
    {
      "cell_type": "markdown",
      "metadata": {
        "id": "csK5auDr_PMt",
        "colab_type": "text"
      },
      "source": [
        "### Model Training"
      ]
    },
    {
      "cell_type": "code",
      "metadata": {
        "id": "RLHrZSAtWEFa",
        "colab_type": "code",
        "outputId": "c41cbf05-894e-4076-e3fd-de853c91b5cc",
        "colab": {
          "base_uri": "https://localhost:8080/",
          "height": 4182
        }
      },
      "source": [
        "model.fit(X_train, Y_train, batch_size=64, epochs=40, verbose=1, validation_data=(X_test, Y_test), callbacks=[checkpoint, LearningRateScheduler(scheduler, verbose=1)])"
      ],
      "execution_count": 15,
      "outputs": [
        {
          "output_type": "stream",
          "text": [
            "WARNING:tensorflow:From /usr/local/lib/python3.6/dist-packages/tensorflow/python/ops/math_ops.py:3066: to_int32 (from tensorflow.python.ops.math_ops) is deprecated and will be removed in a future version.\n",
            "Instructions for updating:\n",
            "Use tf.cast instead.\n",
            "Train on 60000 samples, validate on 10000 samples\n",
            "Epoch 1/40\n",
            "\n",
            "Epoch 00001: LearningRateScheduler setting learning rate to 0.003.\n",
            "60000/60000 [==============================] - 16s 275us/step - loss: 0.3039 - acc: 0.9244 - val_loss: 0.1253 - val_acc: 0.9807\n",
            "\n",
            "Epoch 00001: val_acc improved from -inf to 0.98070, saving model to /content/gdrive/My Drive/Colab Notebooks/Training/model-01-0.98.hdf5\n",
            "Epoch 2/40\n",
            "\n",
            "Epoch 00002: LearningRateScheduler setting learning rate to 0.0022744503.\n",
            "60000/60000 [==============================] - 11s 188us/step - loss: 0.1337 - acc: 0.9767 - val_loss: 0.0982 - val_acc: 0.9873\n",
            "\n",
            "Epoch 00002: val_acc improved from 0.98070 to 0.98730, saving model to /content/gdrive/My Drive/Colab Notebooks/Training/model-02-0.99.hdf5\n",
            "Epoch 3/40\n",
            "\n",
            "Epoch 00003: LearningRateScheduler setting learning rate to 0.0018315018.\n",
            "60000/60000 [==============================] - 11s 188us/step - loss: 0.1140 - acc: 0.9800 - val_loss: 0.0983 - val_acc: 0.9839\n",
            "\n",
            "Epoch 00003: val_acc did not improve from 0.98730\n",
            "Epoch 4/40\n",
            "\n",
            "Epoch 00004: LearningRateScheduler setting learning rate to 0.0015329586.\n",
            "60000/60000 [==============================] - 11s 187us/step - loss: 0.1019 - acc: 0.9822 - val_loss: 0.0777 - val_acc: 0.9893\n",
            "\n",
            "Epoch 00004: val_acc improved from 0.98730 to 0.98930, saving model to /content/gdrive/My Drive/Colab Notebooks/Training/model-04-0.99.hdf5\n",
            "Epoch 5/40\n",
            "\n",
            "Epoch 00005: LearningRateScheduler setting learning rate to 0.0013181019.\n",
            "60000/60000 [==============================] - 11s 185us/step - loss: 0.0900 - acc: 0.9849 - val_loss: 0.0735 - val_acc: 0.9885\n",
            "\n",
            "Epoch 00005: val_acc did not improve from 0.98930\n",
            "Epoch 6/40\n",
            "\n",
            "Epoch 00006: LearningRateScheduler setting learning rate to 0.0011560694.\n",
            "60000/60000 [==============================] - 11s 182us/step - loss: 0.0831 - acc: 0.9858 - val_loss: 0.0842 - val_acc: 0.9836\n",
            "\n",
            "Epoch 00006: val_acc did not improve from 0.98930\n",
            "Epoch 7/40\n",
            "\n",
            "Epoch 00007: LearningRateScheduler setting learning rate to 0.0010295127.\n",
            "60000/60000 [==============================] - 11s 182us/step - loss: 0.0793 - acc: 0.9859 - val_loss: 0.0674 - val_acc: 0.9887\n",
            "\n",
            "Epoch 00007: val_acc did not improve from 0.98930\n",
            "Epoch 8/40\n",
            "\n",
            "Epoch 00008: LearningRateScheduler setting learning rate to 0.0009279307.\n",
            "60000/60000 [==============================] - 12s 200us/step - loss: 0.0726 - acc: 0.9875 - val_loss: 0.0568 - val_acc: 0.9909\n",
            "\n",
            "Epoch 00008: val_acc improved from 0.98930 to 0.99090, saving model to /content/gdrive/My Drive/Colab Notebooks/Training/model-08-0.99.hdf5\n",
            "Epoch 9/40\n",
            "\n",
            "Epoch 00009: LearningRateScheduler setting learning rate to 0.0008445946.\n",
            "60000/60000 [==============================] - 11s 185us/step - loss: 0.0708 - acc: 0.9875 - val_loss: 0.0555 - val_acc: 0.9921\n",
            "\n",
            "Epoch 00009: val_acc improved from 0.99090 to 0.99210, saving model to /content/gdrive/My Drive/Colab Notebooks/Training/model-09-0.99.hdf5\n",
            "Epoch 10/40\n",
            "\n",
            "Epoch 00010: LearningRateScheduler setting learning rate to 0.0007749935.\n",
            "60000/60000 [==============================] - 11s 185us/step - loss: 0.0669 - acc: 0.9881 - val_loss: 0.0574 - val_acc: 0.9895\n",
            "\n",
            "Epoch 00010: val_acc did not improve from 0.99210\n",
            "Epoch 11/40\n",
            "\n",
            "Epoch 00011: LearningRateScheduler setting learning rate to 0.0007159905.\n",
            "60000/60000 [==============================] - 11s 181us/step - loss: 0.0649 - acc: 0.9885 - val_loss: 0.0518 - val_acc: 0.9922\n",
            "\n",
            "Epoch 00011: val_acc improved from 0.99210 to 0.99220, saving model to /content/gdrive/My Drive/Colab Notebooks/Training/model-11-0.99.hdf5\n",
            "Epoch 12/40\n",
            "\n",
            "Epoch 00012: LearningRateScheduler setting learning rate to 0.000665336.\n",
            "60000/60000 [==============================] - 11s 179us/step - loss: 0.0610 - acc: 0.9890 - val_loss: 0.0487 - val_acc: 0.9929\n",
            "\n",
            "Epoch 00012: val_acc improved from 0.99220 to 0.99290, saving model to /content/gdrive/My Drive/Colab Notebooks/Training/model-12-0.99.hdf5\n",
            "Epoch 13/40\n",
            "\n",
            "Epoch 00013: LearningRateScheduler setting learning rate to 0.0006213753.\n",
            "60000/60000 [==============================] - 11s 180us/step - loss: 0.0592 - acc: 0.9896 - val_loss: 0.0505 - val_acc: 0.9919\n",
            "\n",
            "Epoch 00013: val_acc did not improve from 0.99290\n",
            "Epoch 14/40\n",
            "\n",
            "Epoch 00014: LearningRateScheduler setting learning rate to 0.0005828638.\n",
            "60000/60000 [==============================] - 11s 180us/step - loss: 0.0580 - acc: 0.9896 - val_loss: 0.0479 - val_acc: 0.9919\n",
            "\n",
            "Epoch 00014: val_acc did not improve from 0.99290\n",
            "Epoch 15/40\n",
            "\n",
            "Epoch 00015: LearningRateScheduler setting learning rate to 0.0005488474.\n",
            "60000/60000 [==============================] - 12s 197us/step - loss: 0.0556 - acc: 0.9900 - val_loss: 0.0523 - val_acc: 0.9906\n",
            "\n",
            "Epoch 00015: val_acc did not improve from 0.99290\n",
            "Epoch 16/40\n",
            "\n",
            "Epoch 00016: LearningRateScheduler setting learning rate to 0.0005185825.\n",
            "60000/60000 [==============================] - 11s 182us/step - loss: 0.0553 - acc: 0.9897 - val_loss: 0.0439 - val_acc: 0.9930\n",
            "\n",
            "Epoch 00016: val_acc improved from 0.99290 to 0.99300, saving model to /content/gdrive/My Drive/Colab Notebooks/Training/model-16-0.99.hdf5\n",
            "Epoch 17/40\n",
            "\n",
            "Epoch 00017: LearningRateScheduler setting learning rate to 0.000491481.\n",
            "60000/60000 [==============================] - 11s 191us/step - loss: 0.0521 - acc: 0.9908 - val_loss: 0.0454 - val_acc: 0.9923\n",
            "\n",
            "Epoch 00017: val_acc did not improve from 0.99300\n",
            "Epoch 18/40\n",
            "\n",
            "Epoch 00018: LearningRateScheduler setting learning rate to 0.0004670715.\n",
            "60000/60000 [==============================] - 11s 178us/step - loss: 0.0529 - acc: 0.9903 - val_loss: 0.0414 - val_acc: 0.9934\n",
            "\n",
            "Epoch 00018: val_acc improved from 0.99300 to 0.99340, saving model to /content/gdrive/My Drive/Colab Notebooks/Training/model-18-0.99.hdf5\n",
            "Epoch 19/40\n",
            "\n",
            "Epoch 00019: LearningRateScheduler setting learning rate to 0.0004449718.\n",
            "60000/60000 [==============================] - 11s 179us/step - loss: 0.0508 - acc: 0.9906 - val_loss: 0.0430 - val_acc: 0.9934\n",
            "\n",
            "Epoch 00019: val_acc did not improve from 0.99340\n",
            "Epoch 20/40\n",
            "\n",
            "Epoch 00020: LearningRateScheduler setting learning rate to 0.000424869.\n",
            "60000/60000 [==============================] - 11s 178us/step - loss: 0.0491 - acc: 0.9912 - val_loss: 0.0431 - val_acc: 0.9927\n",
            "\n",
            "Epoch 00020: val_acc did not improve from 0.99340\n",
            "Epoch 21/40\n",
            "\n",
            "Epoch 00021: LearningRateScheduler setting learning rate to 0.0004065041.\n",
            "60000/60000 [==============================] - 11s 180us/step - loss: 0.0473 - acc: 0.9916 - val_loss: 0.0413 - val_acc: 0.9938\n",
            "\n",
            "Epoch 00021: val_acc improved from 0.99340 to 0.99380, saving model to /content/gdrive/My Drive/Colab Notebooks/Training/model-21-0.99.hdf5\n",
            "Epoch 22/40\n",
            "\n",
            "Epoch 00022: LearningRateScheduler setting learning rate to 0.000389661.\n",
            "60000/60000 [==============================] - 13s 210us/step - loss: 0.0460 - acc: 0.9920 - val_loss: 0.0393 - val_acc: 0.9940\n",
            "\n",
            "Epoch 00022: val_acc improved from 0.99380 to 0.99400, saving model to /content/gdrive/My Drive/Colab Notebooks/Training/model-22-0.99.hdf5\n",
            "Epoch 23/40\n",
            "\n",
            "Epoch 00023: LearningRateScheduler setting learning rate to 0.0003741581.\n",
            "60000/60000 [==============================] - 11s 185us/step - loss: 0.0464 - acc: 0.9915 - val_loss: 0.0397 - val_acc: 0.9932\n",
            "\n",
            "Epoch 00023: val_acc did not improve from 0.99400\n",
            "Epoch 24/40\n",
            "\n",
            "Epoch 00024: LearningRateScheduler setting learning rate to 0.0003598417.\n",
            "60000/60000 [==============================] - 11s 179us/step - loss: 0.0456 - acc: 0.9918 - val_loss: 0.0394 - val_acc: 0.9934\n",
            "\n",
            "Epoch 00024: val_acc did not improve from 0.99400\n",
            "Epoch 25/40\n",
            "\n",
            "Epoch 00025: LearningRateScheduler setting learning rate to 0.0003465804.\n",
            "60000/60000 [==============================] - 11s 178us/step - loss: 0.0445 - acc: 0.9919 - val_loss: 0.0370 - val_acc: 0.9949\n",
            "\n",
            "Epoch 00025: val_acc improved from 0.99400 to 0.99490, saving model to /content/gdrive/My Drive/Colab Notebooks/Training/model-25-0.99.hdf5\n",
            "Epoch 26/40\n",
            "\n",
            "Epoch 00026: LearningRateScheduler setting learning rate to 0.0003342618.\n",
            "60000/60000 [==============================] - 11s 180us/step - loss: 0.0437 - acc: 0.9917 - val_loss: 0.0369 - val_acc: 0.9944\n",
            "\n",
            "Epoch 00026: val_acc did not improve from 0.99490\n",
            "Epoch 27/40\n",
            "\n",
            "Epoch 00027: LearningRateScheduler setting learning rate to 0.0003227889.\n",
            "60000/60000 [==============================] - 11s 179us/step - loss: 0.0433 - acc: 0.9920 - val_loss: 0.0358 - val_acc: 0.9944\n",
            "\n",
            "Epoch 00027: val_acc did not improve from 0.99490\n",
            "Epoch 28/40\n",
            "\n",
            "Epoch 00028: LearningRateScheduler setting learning rate to 0.0003120774.\n",
            "60000/60000 [==============================] - 11s 178us/step - loss: 0.0425 - acc: 0.9925 - val_loss: 0.0391 - val_acc: 0.9931\n",
            "\n",
            "Epoch 00028: val_acc did not improve from 0.99490\n",
            "Epoch 29/40\n",
            "\n",
            "Epoch 00029: LearningRateScheduler setting learning rate to 0.000302054.\n",
            "60000/60000 [==============================] - 11s 182us/step - loss: 0.0408 - acc: 0.9924 - val_loss: 0.0373 - val_acc: 0.9934\n",
            "\n",
            "Epoch 00029: val_acc did not improve from 0.99490\n",
            "Epoch 30/40\n",
            "\n",
            "Epoch 00030: LearningRateScheduler setting learning rate to 0.0002926544.\n",
            "60000/60000 [==============================] - 12s 194us/step - loss: 0.0401 - acc: 0.9931 - val_loss: 0.0373 - val_acc: 0.9936\n",
            "\n",
            "Epoch 00030: val_acc did not improve from 0.99490\n",
            "Epoch 31/40\n",
            "\n",
            "Epoch 00031: LearningRateScheduler setting learning rate to 0.0002838221.\n",
            "60000/60000 [==============================] - 11s 177us/step - loss: 0.0408 - acc: 0.9927 - val_loss: 0.0367 - val_acc: 0.9939\n",
            "\n",
            "Epoch 00031: val_acc did not improve from 0.99490\n",
            "Epoch 32/40\n",
            "\n",
            "Epoch 00032: LearningRateScheduler setting learning rate to 0.0002755074.\n",
            "60000/60000 [==============================] - 11s 178us/step - loss: 0.0387 - acc: 0.9933 - val_loss: 0.0372 - val_acc: 0.9938\n",
            "\n",
            "Epoch 00032: val_acc did not improve from 0.99490\n",
            "Epoch 33/40\n",
            "\n",
            "Epoch 00033: LearningRateScheduler setting learning rate to 0.000267666.\n",
            "60000/60000 [==============================] - 11s 180us/step - loss: 0.0382 - acc: 0.9932 - val_loss: 0.0365 - val_acc: 0.9944\n",
            "\n",
            "Epoch 00033: val_acc did not improve from 0.99490\n",
            "Epoch 34/40\n",
            "\n",
            "Epoch 00034: LearningRateScheduler setting learning rate to 0.0002602585.\n",
            "60000/60000 [==============================] - 11s 178us/step - loss: 0.0390 - acc: 0.9928 - val_loss: 0.0384 - val_acc: 0.9934\n",
            "\n",
            "Epoch 00034: val_acc did not improve from 0.99490\n",
            "Epoch 35/40\n",
            "\n",
            "Epoch 00035: LearningRateScheduler setting learning rate to 0.00025325.\n",
            "60000/60000 [==============================] - 11s 177us/step - loss: 0.0375 - acc: 0.9933 - val_loss: 0.0374 - val_acc: 0.9928\n",
            "\n",
            "Epoch 00035: val_acc did not improve from 0.99490\n",
            "Epoch 36/40\n",
            "\n",
            "Epoch 00036: LearningRateScheduler setting learning rate to 0.0002466091.\n",
            "60000/60000 [==============================] - 11s 178us/step - loss: 0.0379 - acc: 0.9929 - val_loss: 0.0347 - val_acc: 0.9936\n",
            "\n",
            "Epoch 00036: val_acc did not improve from 0.99490\n",
            "Epoch 37/40\n",
            "\n",
            "Epoch 00037: LearningRateScheduler setting learning rate to 0.0002403076.\n",
            "60000/60000 [==============================] - 12s 196us/step - loss: 0.0359 - acc: 0.9934 - val_loss: 0.0334 - val_acc: 0.9945\n",
            "\n",
            "Epoch 00037: val_acc did not improve from 0.99490\n",
            "Epoch 38/40\n",
            "\n",
            "Epoch 00038: LearningRateScheduler setting learning rate to 0.0002343201.\n",
            "60000/60000 [==============================] - 11s 179us/step - loss: 0.0367 - acc: 0.9934 - val_loss: 0.0345 - val_acc: 0.9939\n",
            "\n",
            "Epoch 00038: val_acc did not improve from 0.99490\n",
            "Epoch 39/40\n",
            "\n",
            "Epoch 00039: LearningRateScheduler setting learning rate to 0.0002286237.\n",
            "60000/60000 [==============================] - 11s 177us/step - loss: 0.0354 - acc: 0.9940 - val_loss: 0.0338 - val_acc: 0.9941\n",
            "\n",
            "Epoch 00039: val_acc did not improve from 0.99490\n",
            "Epoch 40/40\n",
            "\n",
            "Epoch 00040: LearningRateScheduler setting learning rate to 0.0002231977.\n",
            "60000/60000 [==============================] - 11s 177us/step - loss: 0.0351 - acc: 0.9936 - val_loss: 0.0346 - val_acc: 0.9941\n",
            "\n",
            "Epoch 00040: val_acc did not improve from 0.99490\n"
          ],
          "name": "stdout"
        },
        {
          "output_type": "execute_result",
          "data": {
            "text/plain": [
              "<keras.callbacks.History at 0x7faa2eda9860>"
            ]
          },
          "metadata": {
            "tags": []
          },
          "execution_count": 15
        }
      ]
    },
    {
      "cell_type": "markdown",
      "metadata": {
        "id": "ZYDlY2lrHpxq",
        "colab_type": "text"
      },
      "source": [
        "**Max Validation Accuracy: 99.49% (25th epoch)**"
      ]
    },
    {
      "cell_type": "markdown",
      "metadata": {
        "id": "Qb4STdCh-mW6",
        "colab_type": "text"
      },
      "source": [
        "### Load Model from Colab"
      ]
    },
    {
      "cell_type": "code",
      "metadata": {
        "id": "amTAHTAt8rxb",
        "colab_type": "code",
        "colab": {}
      },
      "source": [
        "# from keras.models import load_model\n",
        "# model = load_model('/content/gdrive/My Drive/Colab Notebooks/Training/model-21-0.99.hdf5')"
      ],
      "execution_count": 0,
      "outputs": []
    },
    {
      "cell_type": "markdown",
      "metadata": {
        "id": "ypmcca0ch-ZI",
        "colab_type": "text"
      },
      "source": [
        "### Predictions for testing datasets"
      ]
    },
    {
      "cell_type": "code",
      "metadata": {
        "id": "JgrxJPN3VTu5",
        "colab_type": "code",
        "colab": {}
      },
      "source": [
        "# One hot encoded predictions for testing dataset\n",
        "y_pred = model.predict(X_test)"
      ],
      "execution_count": 0,
      "outputs": []
    },
    {
      "cell_type": "markdown",
      "metadata": {
        "id": "lD6hnnoqEoSo",
        "colab_type": "text"
      },
      "source": [
        "### Round off values from prediction vector"
      ]
    },
    {
      "cell_type": "code",
      "metadata": {
        "id": "sH_d04OIVNfB",
        "colab_type": "code",
        "colab": {
          "base_uri": "https://localhost:8080/",
          "height": 153
        },
        "outputId": "461bd247-9222-4024-ac90-3e366f6b3815"
      },
      "source": [
        "# Rounding off values for one-hot vector\n",
        "y_pred = np.round(y_pred[:])\n",
        "\n",
        "print(y_pred[:])\n",
        "print(y_test[:])"
      ],
      "execution_count": 18,
      "outputs": [
        {
          "output_type": "stream",
          "text": [
            "[[0. 0. 0. ... 1. 0. 0.]\n",
            " [0. 0. 1. ... 0. 0. 0.]\n",
            " [0. 1. 0. ... 0. 0. 0.]\n",
            " ...\n",
            " [0. 0. 0. ... 0. 0. 0.]\n",
            " [0. 0. 0. ... 0. 0. 0.]\n",
            " [0. 0. 0. ... 0. 0. 0.]]\n",
            "[7 2 1 ... 4 5 6]\n"
          ],
          "name": "stdout"
        }
      ]
    },
    {
      "cell_type": "markdown",
      "metadata": {
        "id": "6rfb6tCkEvLc",
        "colab_type": "text"
      },
      "source": [
        "### Decoding\n",
        "Earlier we have done one-hot encoding for training the model. Now, we will decode these vectors back to the whole numbers "
      ]
    },
    {
      "cell_type": "code",
      "metadata": {
        "id": "_0hKreXikdul",
        "colab_type": "code",
        "colab": {}
      },
      "source": [
        "# Function for decoding one-hot vector\n",
        "def decode(datum):\n",
        "    return np.argmax(datum)"
      ],
      "execution_count": 0,
      "outputs": []
    },
    {
      "cell_type": "code",
      "metadata": {
        "id": "X_JwDsvqkeh3",
        "colab_type": "code",
        "colab": {}
      },
      "source": [
        "# List to store whole numbers/decoded numbers\n",
        "decoded_labels = []\n",
        "\n",
        "for i in range(len(y_pred)):\n",
        "    datum = y_pred[i]\n",
        "    decoded_datum = decode(y_pred[i])\n",
        "    decoded_labels.append(decoded_datum)\n",
        "#     print('decoded datum: %s' % decoded_datum)\n",
        "\n",
        "# print(decoded_labels)\n",
        "# print(decoded_labels[-1])"
      ],
      "execution_count": 0,
      "outputs": []
    },
    {
      "cell_type": "markdown",
      "metadata": {
        "id": "asoXM5VoFIRt",
        "colab_type": "text"
      },
      "source": [
        "### Checking incorrect predictions\n",
        "After decoding, we have 2 lists:\n",
        "- Decoded predictions labels\n",
        "- True labels for testing dataset\n",
        "\n",
        "Comparing these 2 lists, we can identify which images are predicted incorrectly.   \n",
        "`incorrect_pred` holds misclassified image index in the dataset.\n",
        "\n",
        "Total misclassified images in test dataset are **64** and their indexes are printed below.  \n",
        "64 misclassified images out of 10,000 verifies the validation accuracy of model is around 99.36%   \n",
        "\n",
        "\n",
        "The prediction by model for these images and their actual labels are also printed below"
      ]
    },
    {
      "cell_type": "code",
      "metadata": {
        "id": "a8ZTbEjSm0fs",
        "colab_type": "code",
        "colab": {
          "base_uri": "https://localhost:8080/",
          "height": 1159
        },
        "outputId": "ae294c5e-53fe-4dc6-9553-f0b26f5f3f92"
      },
      "source": [
        "# We have two lists\n",
        "# 1.decoded_labels\n",
        "# 2.y_test\n",
        "\n",
        "# Checking whether decoded list and labels are of same size\n",
        "assert len(decoded_labels) == len(y_test),\"Data mismatched\"\n",
        "\n",
        "# List to store misclassified images' index\n",
        "incorrect_pred = []\n",
        "\n",
        "# For every single index, if predicted label is not equal to testing data label then it is misclassified label\n",
        "for i in range(len(y_test)):\n",
        "  if y_test[i] == decoded_labels[i]:\n",
        "    pass\n",
        "  else:\n",
        "    incorrect_pred.append(i)\n",
        "    \n",
        "print(\"Incorrect Prediction Indexes: \", incorrect_pred)\n",
        "print(\"Total incorrect predictions: \", len(incorrect_pred))\n",
        "\n",
        "# Verification\n",
        "for val in incorrect_pred:\n",
        "  print(\"Prediction: \", decoded_labels[val], \"\\t\",\"Actual Label: \", y_test[val])"
      ],
      "execution_count": 21,
      "outputs": [
        {
          "output_type": "stream",
          "text": [
            "Incorrect Prediction Indexes:  [211, 321, 445, 582, 726, 740, 947, 1014, 1039, 1114, 1182, 1232, 1299, 1337, 1393, 1414, 1530, 1737, 1878, 1901, 2018, 2035, 2118, 2130, 2225, 2293, 2462, 2488, 2597, 2654, 2742, 2771, 3030, 3060, 3422, 3558, 3762, 3767, 3806, 3808, 4176, 4201, 4248, 4547, 4740, 4823, 4838, 4860, 4880, 5752, 5937, 6576, 6597, 6625, 6651, 6847, 8061, 8316, 8408, 8527, 9664, 9672, 9679, 9729]\n",
            "Total incorrect predictions:  64\n",
            "Prediction:  9 \t Actual Label:  5\n",
            "Prediction:  7 \t Actual Label:  2\n",
            "Prediction:  0 \t Actual Label:  6\n",
            "Prediction:  0 \t Actual Label:  8\n",
            "Prediction:  0 \t Actual Label:  7\n",
            "Prediction:  0 \t Actual Label:  4\n",
            "Prediction:  9 \t Actual Label:  8\n",
            "Prediction:  0 \t Actual Label:  6\n",
            "Prediction:  1 \t Actual Label:  7\n",
            "Prediction:  0 \t Actual Label:  3\n",
            "Prediction:  0 \t Actual Label:  6\n",
            "Prediction:  4 \t Actual Label:  9\n",
            "Prediction:  7 \t Actual Label:  5\n",
            "Prediction:  6 \t Actual Label:  2\n",
            "Prediction:  3 \t Actual Label:  5\n",
            "Prediction:  7 \t Actual Label:  9\n",
            "Prediction:  7 \t Actual Label:  8\n",
            "Prediction:  3 \t Actual Label:  5\n",
            "Prediction:  3 \t Actual Label:  8\n",
            "Prediction:  4 \t Actual Label:  9\n",
            "Prediction:  0 \t Actual Label:  1\n",
            "Prediction:  3 \t Actual Label:  5\n",
            "Prediction:  1 \t Actual Label:  6\n",
            "Prediction:  9 \t Actual Label:  4\n",
            "Prediction:  9 \t Actual Label:  8\n",
            "Prediction:  0 \t Actual Label:  9\n",
            "Prediction:  0 \t Actual Label:  2\n",
            "Prediction:  4 \t Actual Label:  2\n",
            "Prediction:  3 \t Actual Label:  5\n",
            "Prediction:  1 \t Actual Label:  6\n",
            "Prediction:  0 \t Actual Label:  9\n",
            "Prediction:  9 \t Actual Label:  4\n",
            "Prediction:  0 \t Actual Label:  6\n",
            "Prediction:  0 \t Actual Label:  9\n",
            "Prediction:  0 \t Actual Label:  6\n",
            "Prediction:  3 \t Actual Label:  5\n",
            "Prediction:  8 \t Actual Label:  6\n",
            "Prediction:  2 \t Actual Label:  7\n",
            "Prediction:  8 \t Actual Label:  5\n",
            "Prediction:  2 \t Actual Label:  7\n",
            "Prediction:  7 \t Actual Label:  2\n",
            "Prediction:  7 \t Actual Label:  1\n",
            "Prediction:  1 \t Actual Label:  2\n",
            "Prediction:  4 \t Actual Label:  6\n",
            "Prediction:  5 \t Actual Label:  3\n",
            "Prediction:  4 \t Actual Label:  9\n",
            "Prediction:  0 \t Actual Label:  6\n",
            "Prediction:  9 \t Actual Label:  4\n",
            "Prediction:  8 \t Actual Label:  0\n",
            "Prediction:  3 \t Actual Label:  5\n",
            "Prediction:  3 \t Actual Label:  5\n",
            "Prediction:  1 \t Actual Label:  7\n",
            "Prediction:  7 \t Actual Label:  0\n",
            "Prediction:  0 \t Actual Label:  8\n",
            "Prediction:  6 \t Actual Label:  0\n",
            "Prediction:  4 \t Actual Label:  6\n",
            "Prediction:  9 \t Actual Label:  4\n",
            "Prediction:  2 \t Actual Label:  7\n",
            "Prediction:  2 \t Actual Label:  8\n",
            "Prediction:  9 \t Actual Label:  4\n",
            "Prediction:  7 \t Actual Label:  2\n",
            "Prediction:  1 \t Actual Label:  4\n",
            "Prediction:  0 \t Actual Label:  6\n",
            "Prediction:  6 \t Actual Label:  5\n"
          ],
          "name": "stdout"
        }
      ]
    },
    {
      "cell_type": "markdown",
      "metadata": {
        "id": "pRbu36MzJBaG",
        "colab_type": "text"
      },
      "source": [
        "### Converting Datatype \n",
        "- Earlier the images were converted to `float` for ease of training\n",
        "- Now, since we want to display images back, we have to convert it back to `uint`datatype\n",
        "- The pixel values are limited in domain of 0 to 255 by using `np.clip`"
      ]
    },
    {
      "cell_type": "code",
      "metadata": {
        "id": "I7GvYU-Sm5Dc",
        "colab_type": "code",
        "colab": {
          "base_uri": "https://localhost:8080/",
          "height": 34
        },
        "outputId": "fa28ac78-9c7b-4bde-d3a3-a40da557e87f"
      },
      "source": [
        "# Multiplying each pixel by 255\n",
        "X_test *= 255\n",
        "\n",
        "# Restricting pixel values from 0 to 255\n",
        "X_test = np.clip(X_test, 0, 255)\n",
        "\n",
        "# Changing datatype of images to integer from float\n",
        "X_test = X_test.astype('uint8')\n",
        "\n",
        "print(X_test.shape)"
      ],
      "execution_count": 22,
      "outputs": [
        {
          "output_type": "stream",
          "text": [
            "(10000, 28, 28, 1)\n"
          ],
          "name": "stdout"
        }
      ]
    },
    {
      "cell_type": "markdown",
      "metadata": {
        "id": "UJInoP51KA-s",
        "colab_type": "text"
      },
      "source": [
        "### Display the misclassified image\n",
        "- Following is the first miclassified image by the model.\n",
        "- The index of this image is `321` in the testing dataset\n",
        "- Trained model predicted it as `7` but the actual label for this image is `2`\n",
        "- This shows how good the model is performing. Even humans can misclassify this image as 7 "
      ]
    },
    {
      "cell_type": "code",
      "metadata": {
        "id": "Bejn-BumqOP1",
        "colab_type": "code",
        "colab": {
          "base_uri": "https://localhost:8080/",
          "height": 286
        },
        "outputId": "80bc1872-437b-462d-829b-6e02dd2ed31e"
      },
      "source": [
        "# Taking first misclassified sample from testing dataset\n",
        "img = X_test[321]\n",
        "\n",
        "# Reshaping the sample in image format\n",
        "img = img.reshape((28,28))\n",
        "\n",
        "# Printing Model Prediction and Actual Label\n",
        "print(\"Prediction: \", decoded_labels[321], \"\\t\",\"Actual Label: \", y_test[321])\n",
        "\n",
        "# Displaying the sample\n",
        "plt.imshow(img, cmap='gray')\n",
        "plt.show()"
      ],
      "execution_count": 23,
      "outputs": [
        {
          "output_type": "stream",
          "text": [
            "Prediction:  7 \t Actual Label:  2\n"
          ],
          "name": "stdout"
        },
        {
          "output_type": "display_data",
          "data": {
            "image/png": "[encoded data removed]",
            "text/plain": [
              "<Figure size 432x288 with 1 Axes>"
            ]
          },
          "metadata": {
            "tags": []
          }
        }
      ]
    },
    {
      "cell_type": "markdown",
      "metadata": {
        "id": "5qkdwSlyLGRg",
        "colab_type": "text"
      },
      "source": [
        "### Displaying all 74 misclassified Images:\n",
        "- Below are the 74 misclassified images from the testing dataset of 10,000 images\n",
        "- For every single image, its moodel prediction and actual label is shown\n",
        "- This helps us to appreciate the performance of the model\n",
        "- Following images can be used to decided the augmentation policies to improve performance of the model."
      ]
    },
    {
      "cell_type": "code",
      "metadata": {
        "id": "ONxy-1vMt6QW",
        "colab_type": "code",
        "colab": {
          "base_uri": "https://localhost:8080/",
          "height": 1147
        },
        "outputId": "485a6156-1a35-4bfa-facc-675adf71e687"
      },
      "source": [
        "w=10\n",
        "h=10\n",
        "fig=plt.figure(figsize=(30, 30))\n",
        "columns = 7\n",
        "rows = 15\n",
        "val = 0\n",
        "\n",
        "for i in range(1, columns*rows +1):\n",
        "  if len(incorrect_pred) >= i:\n",
        "    img = X_test[incorrect_pred[val]]\n",
        "    img = img.reshape((28,28))\n",
        "    fig.add_subplot(rows, columns, i)\n",
        "    plt.title('Prediction: '+ str(decoded_labels[incorrect_pred[val]]) + \"  Label: \" + str(y_test[incorrect_pred[val]]), fontsize=15)\n",
        "    plt.imshow(img, cmap='gray')\n",
        "    plt.axis('off')\n",
        "    val += 1\n",
        "  else:\n",
        "    pass\n",
        "plt.show()"
      ],
      "execution_count": 24,
      "outputs": [
        {
          "output_type": "display_data",
          "data": {
            "image/png": "[encoded data removed]",
            "text/plain": [
              "<Figure size 2160x2160 with 64 Axes>"
            ]
          },
          "metadata": {
            "tags": []
          }
        }
      ]
    }
  ]
}